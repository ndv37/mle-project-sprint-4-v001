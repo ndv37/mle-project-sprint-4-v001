{
 "cells": [
  {
   "cell_type": "markdown",
   "metadata": {},
   "source": [
    "надо было прописать порты и запустить все 3 сервиса\n",
    "uvicorn recommendations_service:app \n",
    "uvicorn features_service:app --port 8010 \n",
    "uvicorn events_service:app --port 8020 "
   ]
  },
  {
   "cell_type": "code",
   "execution_count": 23,
   "metadata": {},
   "outputs": [],
   "source": [
    "import pandas as pd"
   ]
  },
  {
   "cell_type": "code",
   "execution_count": 24,
   "metadata": {},
   "outputs": [],
   "source": [
    "similar=pd.read_parquet(\"/home/mle-user/mle_projects/mle-project-sprint-4-v001/recs/similar.parquet\")"
   ]
  },
  {
   "cell_type": "code",
   "execution_count": 25,
   "metadata": {},
   "outputs": [
    {
     "data": {
      "text/html": [
       "<div>\n",
       "<style scoped>\n",
       "    .dataframe tbody tr th:only-of-type {\n",
       "        vertical-align: middle;\n",
       "    }\n",
       "\n",
       "    .dataframe tbody tr th {\n",
       "        vertical-align: top;\n",
       "    }\n",
       "\n",
       "    .dataframe thead th {\n",
       "        text-align: right;\n",
       "    }\n",
       "</style>\n",
       "<table border=\"1\" class=\"dataframe\">\n",
       "  <thead>\n",
       "    <tr style=\"text-align: right;\">\n",
       "      <th></th>\n",
       "      <th>score</th>\n",
       "      <th>track_id_1</th>\n",
       "      <th>track_id_2</th>\n",
       "    </tr>\n",
       "  </thead>\n",
       "  <tbody>\n",
       "    <tr>\n",
       "      <th>1</th>\n",
       "      <td>0.987385</td>\n",
       "      <td>24417</td>\n",
       "      <td>43130</td>\n",
       "    </tr>\n",
       "    <tr>\n",
       "      <th>2</th>\n",
       "      <td>0.982825</td>\n",
       "      <td>24417</td>\n",
       "      <td>43127</td>\n",
       "    </tr>\n",
       "    <tr>\n",
       "      <th>3</th>\n",
       "      <td>0.981918</td>\n",
       "      <td>24417</td>\n",
       "      <td>55568</td>\n",
       "    </tr>\n",
       "  </tbody>\n",
       "</table>\n",
       "</div>"
      ],
      "text/plain": [
       "      score  track_id_1  track_id_2\n",
       "1  0.987385       24417       43130\n",
       "2  0.982825       24417       43127\n",
       "3  0.981918       24417       55568"
      ]
     },
     "execution_count": 25,
     "metadata": {},
     "output_type": "execute_result"
    }
   ],
   "source": [
    "similar.head(3)"
   ]
  },
  {
   "cell_type": "code",
   "execution_count": 26,
   "metadata": {},
   "outputs": [],
   "source": [
    "pers=pd.read_parquet(\"/home/mle-user/mle_projects/mle-project-sprint-4-v001/recs/recommendations.parquet\")"
   ]
  },
  {
   "cell_type": "code",
   "execution_count": 27,
   "metadata": {},
   "outputs": [
    {
     "data": {
      "text/html": [
       "<div>\n",
       "<style scoped>\n",
       "    .dataframe tbody tr th:only-of-type {\n",
       "        vertical-align: middle;\n",
       "    }\n",
       "\n",
       "    .dataframe tbody tr th {\n",
       "        vertical-align: top;\n",
       "    }\n",
       "\n",
       "    .dataframe thead th {\n",
       "        text-align: right;\n",
       "    }\n",
       "</style>\n",
       "<table border=\"1\" class=\"dataframe\">\n",
       "  <thead>\n",
       "    <tr style=\"text-align: right;\">\n",
       "      <th></th>\n",
       "      <th>user_id</th>\n",
       "      <th>track_id</th>\n",
       "      <th>score</th>\n",
       "    </tr>\n",
       "  </thead>\n",
       "  <tbody>\n",
       "    <tr>\n",
       "      <th>0</th>\n",
       "      <td>3</td>\n",
       "      <td>54798445</td>\n",
       "      <td>0.14</td>\n",
       "    </tr>\n",
       "    <tr>\n",
       "      <th>1</th>\n",
       "      <td>3</td>\n",
       "      <td>49961817</td>\n",
       "      <td>0.14</td>\n",
       "    </tr>\n",
       "    <tr>\n",
       "      <th>2</th>\n",
       "      <td>3</td>\n",
       "      <td>45499814</td>\n",
       "      <td>0.03</td>\n",
       "    </tr>\n",
       "  </tbody>\n",
       "</table>\n",
       "</div>"
      ],
      "text/plain": [
       "   user_id  track_id  score\n",
       "0        3  54798445   0.14\n",
       "1        3  49961817   0.14\n",
       "2        3  45499814   0.03"
      ]
     },
     "execution_count": 27,
     "metadata": {},
     "output_type": "execute_result"
    }
   ],
   "source": [
    "pers.head(3)"
   ]
  },
  {
   "cell_type": "markdown",
   "metadata": {},
   "source": [
    "это recom_top\n",
    "\n",
    "top_popular без user_id"
   ]
  },
  {
   "cell_type": "code",
   "execution_count": 28,
   "metadata": {},
   "outputs": [],
   "source": [
    "pops=pd.read_parquet(\"/home/mle-user/mle_projects/mle-project-sprint-4-v001/recs/top_popular.parquet\")"
   ]
  },
  {
   "cell_type": "code",
   "execution_count": 29,
   "metadata": {},
   "outputs": [
    {
     "data": {
      "text/html": [
       "<div>\n",
       "<style scoped>\n",
       "    .dataframe tbody tr th:only-of-type {\n",
       "        vertical-align: middle;\n",
       "    }\n",
       "\n",
       "    .dataframe tbody tr th {\n",
       "        vertical-align: top;\n",
       "    }\n",
       "\n",
       "    .dataframe thead th {\n",
       "        text-align: right;\n",
       "    }\n",
       "</style>\n",
       "<table border=\"1\" class=\"dataframe\">\n",
       "  <thead>\n",
       "    <tr style=\"text-align: right;\">\n",
       "      <th></th>\n",
       "      <th>user_id</th>\n",
       "      <th>track_id</th>\n",
       "      <th>score</th>\n",
       "    </tr>\n",
       "  </thead>\n",
       "  <tbody>\n",
       "    <tr>\n",
       "      <th>0</th>\n",
       "      <td>3</td>\n",
       "      <td>53404</td>\n",
       "      <td>1.00</td>\n",
       "    </tr>\n",
       "    <tr>\n",
       "      <th>1</th>\n",
       "      <td>3</td>\n",
       "      <td>178529</td>\n",
       "      <td>0.92</td>\n",
       "    </tr>\n",
       "    <tr>\n",
       "      <th>2</th>\n",
       "      <td>3</td>\n",
       "      <td>33311009</td>\n",
       "      <td>0.86</td>\n",
       "    </tr>\n",
       "  </tbody>\n",
       "</table>\n",
       "</div>"
      ],
      "text/plain": [
       "   user_id  track_id  score\n",
       "0        3     53404   1.00\n",
       "1        3    178529   0.92\n",
       "2        3  33311009   0.86"
      ]
     },
     "execution_count": 29,
     "metadata": {},
     "output_type": "execute_result"
    }
   ],
   "source": [
    "pops.head(3)"
   ]
  },
  {
   "cell_type": "code",
   "execution_count": 30,
   "metadata": {},
   "outputs": [
    {
     "data": {
      "text/html": [
       "<div>\n",
       "<style scoped>\n",
       "    .dataframe tbody tr th:only-of-type {\n",
       "        vertical-align: middle;\n",
       "    }\n",
       "\n",
       "    .dataframe tbody tr th {\n",
       "        vertical-align: top;\n",
       "    }\n",
       "\n",
       "    .dataframe thead th {\n",
       "        text-align: right;\n",
       "    }\n",
       "</style>\n",
       "<table border=\"1\" class=\"dataframe\">\n",
       "  <thead>\n",
       "    <tr style=\"text-align: right;\">\n",
       "      <th></th>\n",
       "      <th>user_id</th>\n",
       "      <th>track_id</th>\n",
       "      <th>score</th>\n",
       "    </tr>\n",
       "  </thead>\n",
       "  <tbody>\n",
       "  </tbody>\n",
       "</table>\n",
       "</div>"
      ],
      "text/plain": [
       "Empty DataFrame\n",
       "Columns: [user_id, track_id, score]\n",
       "Index: []"
      ]
     },
     "execution_count": 30,
     "metadata": {},
     "output_type": "execute_result"
    }
   ],
   "source": [
    "pers.query('user_id==100500100')"
   ]
  },
  {
   "cell_type": "markdown",
   "metadata": {},
   "source": [
    "{'recs': [54798445, 49961817, 45499814]}"
   ]
  },
  {
   "cell_type": "markdown",
   "metadata": {},
   "source": [
    "Тестирую работу сервисов"
   ]
  },
  {
   "cell_type": "markdown",
   "metadata": {},
   "source": [
    "новый пользователь - самые популярные"
   ]
  },
  {
   "cell_type": "code",
   "execution_count": 31,
   "metadata": {},
   "outputs": [
    {
     "name": "stdout",
     "output_type": "stream",
     "text": [
      "{'recs': [53404, 178529, 33311009]}\n"
     ]
    }
   ],
   "source": [
    "import requests\n",
    "\n",
    "recommendations_url = \"http://127.0.0.1:8000\"\n",
    "\n",
    "headers = {'Content-type': 'application/json', 'Accept': 'text/plain'}\n",
    "params = {\"user_id\": 100500100, 'k': 3}\n",
    "\n",
    "resp = requests.post(recommendations_url + \"/recommendations_offline\", headers=headers, params=params)\n",
    "\n",
    "if resp.status_code == 200:\n",
    "    recs = resp.json()\n",
    "else:\n",
    "    recs = []\n",
    "    print(f\"status code: {resp.status_code}\")\n",
    "    \n",
    "print(recs)"
   ]
  },
  {
   "cell_type": "markdown",
   "metadata": {},
   "source": [
    "существующий пользователь - рассчитанные персональные рекомендации"
   ]
  },
  {
   "cell_type": "code",
   "execution_count": 32,
   "metadata": {},
   "outputs": [
    {
     "name": "stdout",
     "output_type": "stream",
     "text": [
      "{'recs': [54798445, 49961817, 45499814]}\n"
     ]
    }
   ],
   "source": [
    "import requests\n",
    "\n",
    "recommendations_url = \"http://127.0.0.1:8000\"\n",
    "\n",
    "headers = {'Content-type': 'application/json', 'Accept': 'text/plain'}\n",
    "params = {\"user_id\": 3, 'k': 3}\n",
    "\n",
    "resp = requests.post(recommendations_url + \"/recommendations_offline\", headers=headers, params=params)\n",
    "\n",
    "if resp.status_code == 200:\n",
    "    recs = resp.json()\n",
    "else:\n",
    "    recs = []\n",
    "    print(f\"status code: {resp.status_code}\")\n",
    "    \n",
    "print(recs)"
   ]
  },
  {
   "cell_type": "markdown",
   "metadata": {},
   "source": [
    "проверяем put и get"
   ]
  },
  {
   "cell_type": "markdown",
   "metadata": {},
   "source": [
    "сначала убедимся что у пользователя нет events"
   ]
  },
  {
   "cell_type": "code",
   "execution_count": 33,
   "metadata": {},
   "outputs": [],
   "source": [
    "import requests\n",
    "\n",
    "events_store_url = \"http://127.0.0.1:8020\"\n",
    "\n",
    "headers = {'Content-type': 'application/json', 'Accept': 'text/plain'}"
   ]
  },
  {
   "cell_type": "code",
   "execution_count": 35,
   "metadata": {},
   "outputs": [
    {
     "name": "stdout",
     "output_type": "stream",
     "text": [
      "{'events': []}\n"
     ]
    }
   ],
   "source": [
    "\n",
    "params = {\"user_id\": 3}\n",
    "\n",
    "resp = requests.post(events_store_url + \"/get\", headers=headers, params=params)\n",
    "if resp.status_code == 200:\n",
    "    result = resp.json()\n",
    "else:\n",
    "    result = None\n",
    "    print(f\"status code: {resp.status_code}\")\n",
    "    \n",
    "print(result)"
   ]
  },
  {
   "cell_type": "markdown",
   "metadata": {},
   "source": [
    "теперь запишем пользователю в историю прослушанный трек"
   ]
  },
  {
   "cell_type": "code",
   "execution_count": 13,
   "metadata": {},
   "outputs": [
    {
     "name": "stdout",
     "output_type": "stream",
     "text": [
      "{'result': 'ok'}\n"
     ]
    }
   ],
   "source": [
    "import requests\n",
    "\n",
    "events_store_url = \"http://127.0.0.1:8020\"\n",
    "\n",
    "headers = {'Content-type': 'application/json', 'Accept': 'text/plain'}\n",
    "params = {\"user_id\": 3, \"track_id\": 24417}\n",
    "\n",
    "resp = requests.post(events_store_url + \"/put\", headers=headers, params=params)\n",
    "if resp.status_code == 200:\n",
    "    result = resp.json()\n",
    "else:\n",
    "    result = None\n",
    "    print(f\"status code: {resp.status_code}\")\n",
    "    \n",
    "print(result)"
   ]
  },
  {
   "cell_type": "markdown",
   "metadata": {},
   "source": [
    "проверим что получилось"
   ]
  },
  {
   "cell_type": "code",
   "execution_count": 14,
   "metadata": {},
   "outputs": [
    {
     "name": "stdout",
     "output_type": "stream",
     "text": [
      "{'events': [24417]}\n"
     ]
    }
   ],
   "source": [
    "import requests\n",
    "\n",
    "params = {\"user_id\": 3}\n",
    "\n",
    "resp = requests.post(events_store_url + \"/get\", headers=headers, params=params)\n",
    "if resp.status_code == 200:\n",
    "    result = resp.json()\n",
    "else:\n",
    "    result = None\n",
    "    print(f\"status code: {resp.status_code}\")\n",
    "    \n",
    "print(result)"
   ]
  },
  {
   "cell_type": "markdown",
   "metadata": {},
   "source": [
    "online рекомендации"
   ]
  },
  {
   "cell_type": "code",
   "execution_count": 15,
   "metadata": {},
   "outputs": [
    {
     "name": "stdout",
     "output_type": "stream",
     "text": [
      "{'recs': [43130, 43127, 55568]}\n"
     ]
    }
   ],
   "source": [
    "import requests\n",
    "\n",
    "recommendations_url = \"http://127.0.0.1:8000\"\n",
    "\n",
    "headers = {'Content-type': 'application/json', 'Accept': 'text/plain'}\n",
    "\n",
    "params = {\"user_id\": 3, 'k': 3}\n",
    "\n",
    "resp = requests.post(recommendations_url + \"/recommendations_online\", headers=headers, params=params)\n",
    "online_recs = resp.json()\n",
    "    \n",
    "print(online_recs) "
   ]
  },
  {
   "cell_type": "markdown",
   "metadata": {},
   "source": [
    "offline рекомендации"
   ]
  },
  {
   "cell_type": "code",
   "execution_count": 17,
   "metadata": {},
   "outputs": [
    {
     "name": "stdout",
     "output_type": "stream",
     "text": [
      "{'recs': [54798445, 49961817, 45499814]}\n"
     ]
    }
   ],
   "source": [
    "import requests\n",
    "\n",
    "recommendations_url = \"http://127.0.0.1:8000\"\n",
    "\n",
    "headers = {'Content-type': 'application/json', 'Accept': 'text/plain'}\n",
    "\n",
    "params = {\"user_id\": 3, 'k': 3}\n",
    "\n",
    "resp = requests.post(recommendations_url + \"/recommendations_offline\", headers=headers, params=params)\n",
    "online_recs = resp.json()\n",
    "    \n",
    "print(online_recs) "
   ]
  },
  {
   "cell_type": "markdown",
   "metadata": {},
   "source": [
    "итоговые рекомендации"
   ]
  },
  {
   "cell_type": "code",
   "execution_count": 18,
   "metadata": {},
   "outputs": [
    {
     "name": "stdout",
     "output_type": "stream",
     "text": [
      "{'recs': [43130, 54798445, 43127]}\n"
     ]
    }
   ],
   "source": [
    "import requests\n",
    "\n",
    "recommendations_url = \"http://127.0.0.1:8000\"\n",
    "\n",
    "headers = {'Content-type': 'application/json', 'Accept': 'text/plain'}\n",
    "\n",
    "params = {\"user_id\": 3, 'k': 3}\n",
    "\n",
    "resp = requests.post(recommendations_url + \"/recommendations\", headers=headers, params=params)\n",
    "online_recs = resp.json()\n",
    "    \n",
    "print(online_recs) "
   ]
  },
  {
   "cell_type": "markdown",
   "metadata": {},
   "source": [
    "у пользователя 3 получился микс между онлайн и офлайн рекомендациями"
   ]
  }
 ],
 "metadata": {
  "kernelspec": {
   "display_name": ".venv_sprint4",
   "language": "python",
   "name": ".venv_sprint4"
  },
  "language_info": {
   "codemirror_mode": {
    "name": "ipython",
    "version": 3
   },
   "file_extension": ".py",
   "mimetype": "text/x-python",
   "name": "python",
   "nbconvert_exporter": "python",
   "pygments_lexer": "ipython3",
   "version": "3.10.12"
  }
 },
 "nbformat": 4,
 "nbformat_minor": 2
}
