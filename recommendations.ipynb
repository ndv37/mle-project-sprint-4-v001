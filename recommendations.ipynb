{
 "cells": [
  {
   "cell_type": "markdown",
   "id": "94b1a5ed",
   "metadata": {},
   "source": [
    "Задача - сделать сервис рекоммендаций музыкальных треков на основе данных по трекам и взаимодействиям пользователей\n",
    "\n",
    "Этапы и комментарии\n",
    "\n",
    " Этап 1 - загрузка первичных данных\n",
    " загружаем таблицы tracks,catalog_names,interactions\n",
    " общий вывод - присутствуют сквозные идентификаторы, основная проблема - не полностью заполнен контент с жанрами (не все треки присутствуют в справочнике)\n",
    "\n",
    " Этап 2 - EDA\n",
    " матрица U_I будет очень большой размерности\n",
    " для экономии ресурсов можно вначале отфильтровать пользователей - убрать единичные прослушивание, похожих на роботов и все расчеты сделать только на части данных\n",
    " после финализации прототипа сделать расчет на полном объеме и посмотреть на качество\n",
    " далее добавляем необходимые признаки для удобства и сохраняем в items и events\n",
    "\n",
    " Этап 3 - рекоммендации\n",
    " разбиение данных - делаем глобальное разделение (global time split)\n",
    " считаем топ популярных треков - с учетом вводной по активному росту сервиса считать будем фильтруя период (например за 2е полугодие/ноябрь месяц)\n",
    " персональные рекомендации - воспользуемся als моделью, предварительно закодируем идентификаторы (пользователь id, трек id)\n",
    " похожие - для расчета похожих треков воспользуемся методом similar_items уже рассчитанной als_model\n",
    " ансамбль моделей - собираем кандидаты (популярные и персональные рекомендации), далее строим модель для получения финальных рекоммендаций\n"
   ]
  },
  {
   "cell_type": "markdown",
   "id": "f4095ae4-7294-4b28-853e-88d235002c97",
   "metadata": {},
   "source": [
    "# Инициализация"
   ]
  },
  {
   "cell_type": "markdown",
   "id": "2f2318d2-9df8-4911-915e-15b725c44f8a",
   "metadata": {},
   "source": [
    "Загружаем библиотеки необходимые для выполнения кода ноутбука."
   ]
  },
  {
   "cell_type": "code",
   "execution_count": 1,
   "id": "662d04e7-1b0b-4e4a-9ddf-4526d7fef119",
   "metadata": {},
   "outputs": [],
   "source": [
    "import logging\n",
    "import matplotlib.pyplot as plt\n",
    "import numpy as np\n",
    "import pandas as pd\n",
    "import matplotlib.pyplot as plt\n",
    "import seaborn as sns\n",
    "import warnings\n",
    "warnings.filterwarnings(\"ignore\")\n",
    "import time\n",
    "import scipy\n",
    "import sklearn.preprocessing\n",
    "import numpy as np\n",
    "import pickle\n",
    "from implicit.als import AlternatingLeastSquares\n",
    "from catboost import CatBoostClassifier, Pool"
   ]
  },
  {
   "cell_type": "code",
   "execution_count": 2,
   "id": "a27a761a",
   "metadata": {},
   "outputs": [],
   "source": [
    "start_time = time.time()"
   ]
  },
  {
   "cell_type": "markdown",
   "id": "bf80fbc5-b660-4fac-8fbb-a5cae77313b3",
   "metadata": {},
   "source": [
    "# === ЭТАП 1 ==="
   ]
  },
  {
   "cell_type": "markdown",
   "id": "5263a8b3-fe99-4204-8a2e-105182792c11",
   "metadata": {},
   "source": [
    "# Загрузка первичных данных"
   ]
  },
  {
   "cell_type": "markdown",
   "id": "1b54a6a5-1656-4e3c-99d1-49dc39451d33",
   "metadata": {},
   "source": [
    "Загружаем первичные данные из файлов:\n",
    "- tracks.parquet\n",
    "- catalog_names.parquet\n",
    "- interactions.parquet"
   ]
  },
  {
   "cell_type": "code",
   "execution_count": 3,
   "id": "5d4b8961-3f35-4e58-9d6b-3e2dbd2c4224",
   "metadata": {},
   "outputs": [],
   "source": [
    "tracks = pd.read_parquet(\"data/tracks.parquet\")"
   ]
  },
  {
   "cell_type": "code",
   "execution_count": 4,
   "id": "a6a6196c",
   "metadata": {},
   "outputs": [],
   "source": [
    "catalog_names=pd.read_parquet(\"data/catalog_names.parquet\")"
   ]
  },
  {
   "cell_type": "code",
   "execution_count": 5,
   "id": "ea1feb04",
   "metadata": {},
   "outputs": [],
   "source": [
    "interactions=pd.read_parquet(\"data/interactions.parquet\")"
   ]
  },
  {
   "cell_type": "code",
   "execution_count": 6,
   "id": "04a6c41b",
   "metadata": {},
   "outputs": [],
   "source": [
    "stage1_import=time.time()"
   ]
  },
  {
   "cell_type": "markdown",
   "id": "e8f2a1f7-a05f-4f39-af90-5f4018aa6f9d",
   "metadata": {},
   "source": [
    "# Обзор данных"
   ]
  },
  {
   "cell_type": "markdown",
   "id": "46a85307-896c-4fac-9fcf-f0dffa90889e",
   "metadata": {},
   "source": [
    "Проверяем данные, есть ли с ними явные проблемы."
   ]
  },
  {
   "cell_type": "markdown",
   "id": "8faf2343",
   "metadata": {},
   "source": [
    "# Таблица 1 - треки\n",
    "Данные о треках — в файле tracks.parquet:\n",
    " - track_id — идентификатор музыкального трека;\n",
    " - albums — список идентификаторов альбомов, содержащих трек;\n",
    " - artists — список идентификаторов исполнителей трека;\n",
    " - genres — список идентификаторов жанров, к которым принадлежит трек."
   ]
  },
  {
   "cell_type": "code",
   "execution_count": 7,
   "id": "c9f8f17e-9b56-4f5a-a463-f694a993effb",
   "metadata": {},
   "outputs": [
    {
     "data": {
      "text/html": [
       "<div>\n",
       "<style scoped>\n",
       "    .dataframe tbody tr th:only-of-type {\n",
       "        vertical-align: middle;\n",
       "    }\n",
       "\n",
       "    .dataframe tbody tr th {\n",
       "        vertical-align: top;\n",
       "    }\n",
       "\n",
       "    .dataframe thead th {\n",
       "        text-align: right;\n",
       "    }\n",
       "</style>\n",
       "<table border=\"1\" class=\"dataframe\">\n",
       "  <thead>\n",
       "    <tr style=\"text-align: right;\">\n",
       "      <th></th>\n",
       "      <th>track_id</th>\n",
       "      <th>albums</th>\n",
       "      <th>artists</th>\n",
       "      <th>genres</th>\n",
       "    </tr>\n",
       "  </thead>\n",
       "  <tbody>\n",
       "    <tr>\n",
       "      <th>0</th>\n",
       "      <td>26</td>\n",
       "      <td>[3, 2490753]</td>\n",
       "      <td>[16]</td>\n",
       "      <td>[11, 21]</td>\n",
       "    </tr>\n",
       "    <tr>\n",
       "      <th>1</th>\n",
       "      <td>38</td>\n",
       "      <td>[3, 2490753]</td>\n",
       "      <td>[16]</td>\n",
       "      <td>[11, 21]</td>\n",
       "    </tr>\n",
       "    <tr>\n",
       "      <th>2</th>\n",
       "      <td>135</td>\n",
       "      <td>[12, 214, 2490809]</td>\n",
       "      <td>[84]</td>\n",
       "      <td>[11]</td>\n",
       "    </tr>\n",
       "  </tbody>\n",
       "</table>\n",
       "</div>"
      ],
      "text/plain": [
       "   track_id              albums artists    genres\n",
       "0        26        [3, 2490753]    [16]  [11, 21]\n",
       "1        38        [3, 2490753]    [16]  [11, 21]\n",
       "2       135  [12, 214, 2490809]    [84]      [11]"
      ]
     },
     "execution_count": 7,
     "metadata": {},
     "output_type": "execute_result"
    }
   ],
   "source": [
    "tracks.head(3)"
   ]
  },
  {
   "cell_type": "markdown",
   "id": "5ffb5843",
   "metadata": {},
   "source": [
    " - поля - id, альбомы, артисты, жанры\n",
    " - числовой id, данные в столбцах кроме track_id содержат массивы"
   ]
  },
  {
   "cell_type": "code",
   "execution_count": null,
   "id": "b74aa8aa",
   "metadata": {},
   "outputs": [
    {
     "data": {
      "text/plain": [
       "1000000"
      ]
     },
     "execution_count": 8,
     "metadata": {},
     "output_type": "execute_result"
    }
   ],
   "source": [
    "tracks['track_id'].nunique() #1 млн треков"
   ]
  },
  {
   "cell_type": "code",
   "execution_count": 9,
   "id": "5c804cbd",
   "metadata": {},
   "outputs": [
    {
     "data": {
      "text/plain": [
       "0"
      ]
     },
     "execution_count": 9,
     "metadata": {},
     "output_type": "execute_result"
    }
   ],
   "source": [
    "# ключевое поле заполнено без пропусков\n",
    "tracks['track_id'].isna().sum()"
   ]
  },
  {
   "cell_type": "code",
   "execution_count": 10,
   "id": "1f18bade",
   "metadata": {},
   "outputs": [
    {
     "data": {
      "text/plain": [
       "'пусто артистов - 15369, пусто альбомов - 18, пусто жанров - 3687, доля пропусков - 0.019074'"
      ]
     },
     "execution_count": 10,
     "metadata": {},
     "output_type": "execute_result"
    }
   ],
   "source": [
    "#пустые значения в полях albums, artists, genres\n",
    "genres_miss=len(tracks[(tracks['genres'].str.len() == 0)])\n",
    "artist_miss=len(tracks[(tracks['artists'].str.len() == 0)])\n",
    "albums_miss=len(tracks[(tracks['albums'].str.len() == 0)])\n",
    "all=len(tracks)\n",
    "\n",
    "f\"пусто артистов - {artist_miss}, пусто альбомов - {albums_miss}, пусто жанров - {genres_miss}, доля пропусков - {(artist_miss+albums_miss+genres_miss)/all}\""
   ]
  },
  {
   "cell_type": "markdown",
   "id": "1129535a",
   "metadata": {},
   "source": [
    "# Таблица 2 - контент \n",
    "(имена артистов, названия альбомов, треков и жанров в файле catalog_names.parquet):\n",
    " - id — идентификатор одной из каталожных единиц (трека, альбома, исполнителя, жанра);\n",
    " - type — тип идентификатора;\n",
    " - name — имя (название) каталожной единицы."
   ]
  },
  {
   "cell_type": "code",
   "execution_count": 11,
   "id": "4bcc41e7",
   "metadata": {},
   "outputs": [
    {
     "data": {
      "text/html": [
       "<div>\n",
       "<style scoped>\n",
       "    .dataframe tbody tr th:only-of-type {\n",
       "        vertical-align: middle;\n",
       "    }\n",
       "\n",
       "    .dataframe tbody tr th {\n",
       "        vertical-align: top;\n",
       "    }\n",
       "\n",
       "    .dataframe thead th {\n",
       "        text-align: right;\n",
       "    }\n",
       "</style>\n",
       "<table border=\"1\" class=\"dataframe\">\n",
       "  <thead>\n",
       "    <tr style=\"text-align: right;\">\n",
       "      <th></th>\n",
       "      <th>id</th>\n",
       "      <th>type</th>\n",
       "      <th>name</th>\n",
       "    </tr>\n",
       "  </thead>\n",
       "  <tbody>\n",
       "    <tr>\n",
       "      <th>0</th>\n",
       "      <td>3</td>\n",
       "      <td>album</td>\n",
       "      <td>Taller Children</td>\n",
       "    </tr>\n",
       "    <tr>\n",
       "      <th>1</th>\n",
       "      <td>12</td>\n",
       "      <td>album</td>\n",
       "      <td>Wild Young Hearts</td>\n",
       "    </tr>\n",
       "    <tr>\n",
       "      <th>2</th>\n",
       "      <td>13</td>\n",
       "      <td>album</td>\n",
       "      <td>Lonesome Crow</td>\n",
       "    </tr>\n",
       "  </tbody>\n",
       "</table>\n",
       "</div>"
      ],
      "text/plain": [
       "   id   type               name\n",
       "0   3  album    Taller Children\n",
       "1  12  album  Wild Young Hearts\n",
       "2  13  album      Lonesome Crow"
      ]
     },
     "execution_count": 11,
     "metadata": {},
     "output_type": "execute_result"
    }
   ],
   "source": [
    "catalog_names.head(3)"
   ]
  },
  {
   "cell_type": "markdown",
   "id": "779820b4",
   "metadata": {},
   "source": [
    "числовой id"
   ]
  },
  {
   "cell_type": "code",
   "execution_count": 12,
   "id": "23b81502",
   "metadata": {},
   "outputs": [
    {
     "data": {
      "text/plain": [
       "0"
      ]
     },
     "execution_count": 12,
     "metadata": {},
     "output_type": "execute_result"
    }
   ],
   "source": [
    "catalog_names['id'].isna().sum()"
   ]
  },
  {
   "cell_type": "markdown",
   "id": "e7c27099",
   "metadata": {},
   "source": [
    "нет пропусков по id"
   ]
  },
  {
   "cell_type": "code",
   "execution_count": 13,
   "id": "0fdb240a",
   "metadata": {},
   "outputs": [
    {
     "data": {
      "text/plain": [
       "35774"
      ]
     },
     "execution_count": 13,
     "metadata": {},
     "output_type": "execute_result"
    }
   ],
   "source": [
    "len(catalog_names)-catalog_names['id'].nunique()"
   ]
  },
  {
   "cell_type": "markdown",
   "id": "d68c73d6",
   "metadata": {},
   "source": [
    "есть дубли по id - посмотим подробнее"
   ]
  },
  {
   "cell_type": "code",
   "execution_count": 14,
   "id": "df27d820",
   "metadata": {},
   "outputs": [
    {
     "data": {
      "text/html": [
       "<div>\n",
       "<style scoped>\n",
       "    .dataframe tbody tr th:only-of-type {\n",
       "        vertical-align: middle;\n",
       "    }\n",
       "\n",
       "    .dataframe tbody tr th {\n",
       "        vertical-align: top;\n",
       "    }\n",
       "\n",
       "    .dataframe thead th {\n",
       "        text-align: right;\n",
       "    }\n",
       "</style>\n",
       "<table border=\"1\" class=\"dataframe\">\n",
       "  <thead>\n",
       "    <tr style=\"text-align: right;\">\n",
       "      <th></th>\n",
       "      <th>id</th>\n",
       "      <th>type</th>\n",
       "    </tr>\n",
       "  </thead>\n",
       "  <tbody>\n",
       "    <tr>\n",
       "      <th>171531</th>\n",
       "      <td>669527</td>\n",
       "      <td>3</td>\n",
       "    </tr>\n",
       "    <tr>\n",
       "      <th>12457</th>\n",
       "      <td>22057</td>\n",
       "      <td>3</td>\n",
       "    </tr>\n",
       "    <tr>\n",
       "      <th>16243</th>\n",
       "      <td>29496</td>\n",
       "      <td>3</td>\n",
       "    </tr>\n",
       "    <tr>\n",
       "      <th>3057</th>\n",
       "      <td>4474</td>\n",
       "      <td>3</td>\n",
       "    </tr>\n",
       "    <tr>\n",
       "      <th>99792</th>\n",
       "      <td>299507</td>\n",
       "      <td>3</td>\n",
       "    </tr>\n",
       "    <tr>\n",
       "      <th>45989</th>\n",
       "      <td>85456</td>\n",
       "      <td>3</td>\n",
       "    </tr>\n",
       "    <tr>\n",
       "      <th>159049</th>\n",
       "      <td>629396</td>\n",
       "      <td>3</td>\n",
       "    </tr>\n",
       "    <tr>\n",
       "      <th>12471</th>\n",
       "      <td>22076</td>\n",
       "      <td>3</td>\n",
       "    </tr>\n",
       "    <tr>\n",
       "      <th>122510</th>\n",
       "      <td>432903</td>\n",
       "      <td>3</td>\n",
       "    </tr>\n",
       "    <tr>\n",
       "      <th>71957</th>\n",
       "      <td>168409</td>\n",
       "      <td>3</td>\n",
       "    </tr>\n",
       "  </tbody>\n",
       "</table>\n",
       "</div>"
      ],
      "text/plain": [
       "            id  type\n",
       "171531  669527     3\n",
       "12457    22057     3\n",
       "16243    29496     3\n",
       "3057      4474     3\n",
       "99792   299507     3\n",
       "45989    85456     3\n",
       "159049  629396     3\n",
       "12471    22076     3\n",
       "122510  432903     3\n",
       "71957   168409     3"
      ]
     },
     "execution_count": 14,
     "metadata": {},
     "output_type": "execute_result"
    }
   ],
   "source": [
    "catalog_names.groupby('id').agg({'type':'count'}).reset_index().sort_values(by='type',ascending=False).head(10)"
   ]
  },
  {
   "cell_type": "code",
   "execution_count": 15,
   "id": "543423ba",
   "metadata": {},
   "outputs": [
    {
     "data": {
      "text/html": [
       "<div>\n",
       "<style scoped>\n",
       "    .dataframe tbody tr th:only-of-type {\n",
       "        vertical-align: middle;\n",
       "    }\n",
       "\n",
       "    .dataframe tbody tr th {\n",
       "        vertical-align: top;\n",
       "    }\n",
       "\n",
       "    .dataframe thead th {\n",
       "        text-align: right;\n",
       "    }\n",
       "</style>\n",
       "<table border=\"1\" class=\"dataframe\">\n",
       "  <thead>\n",
       "    <tr style=\"text-align: right;\">\n",
       "      <th></th>\n",
       "      <th>id</th>\n",
       "      <th>type</th>\n",
       "      <th>name</th>\n",
       "    </tr>\n",
       "  </thead>\n",
       "  <tbody>\n",
       "    <tr>\n",
       "      <th>79463</th>\n",
       "      <td>669527</td>\n",
       "      <td>album</td>\n",
       "      <td>What Should I Write About?</td>\n",
       "    </tr>\n",
       "    <tr>\n",
       "      <th>696583</th>\n",
       "      <td>669527</td>\n",
       "      <td>artist</td>\n",
       "      <td>Off the Record Karaoke</td>\n",
       "    </tr>\n",
       "    <tr>\n",
       "      <th>887371</th>\n",
       "      <td>669527</td>\n",
       "      <td>track</td>\n",
       "      <td>Left Outside Alone</td>\n",
       "    </tr>\n",
       "  </tbody>\n",
       "</table>\n",
       "</div>"
      ],
      "text/plain": [
       "            id    type                        name\n",
       "79463   669527   album  What Should I Write About?\n",
       "696583  669527  artist      Off the Record Karaoke\n",
       "887371  669527   track          Left Outside Alone"
      ]
     },
     "execution_count": 15,
     "metadata": {},
     "output_type": "execute_result"
    }
   ],
   "source": [
    "##пример дубля по ключу - id не уникальные, разделим для удобства на отдельные справочники\n",
    "catalog_names.query('id==669527')"
   ]
  },
  {
   "cell_type": "code",
   "execution_count": 16,
   "id": "8635b7fd",
   "metadata": {},
   "outputs": [
    {
     "data": {
      "text/plain": [
       "array(['album', 'artist', 'genre', 'track'], dtype=object)"
      ]
     },
     "execution_count": 16,
     "metadata": {},
     "output_type": "execute_result"
    }
   ],
   "source": [
    "catalog_names['type'].unique()"
   ]
  },
  {
   "cell_type": "code",
   "execution_count": 17,
   "id": "40346327",
   "metadata": {},
   "outputs": [],
   "source": [
    "genre_cat=catalog_names.query('type==\"genre\"')\n",
    "album_cat=catalog_names.query('type==\"album\"')\n",
    "artist_cat=catalog_names.query('type==\"artist\"')\n",
    "track_cat=catalog_names.query('type==\"track\"')"
   ]
  },
  {
   "cell_type": "code",
   "execution_count": 18,
   "id": "c9bf389d",
   "metadata": {},
   "outputs": [
    {
     "name": "stdout",
     "output_type": "stream",
     "text": [
      "0 0 0 0\n"
     ]
    }
   ],
   "source": [
    "print(len(genre_cat)-genre_cat['id'].nunique(),len(album_cat)-album_cat['id'].nunique(), len(track_cat)-track_cat['id'].nunique(),len(artist_cat)-artist_cat['id'].nunique(),)"
   ]
  },
  {
   "cell_type": "markdown",
   "id": "ece1aa62",
   "metadata": {},
   "source": [
    "теперь id являются уникальными"
   ]
  },
  {
   "cell_type": "code",
   "execution_count": 19,
   "id": "cd1ac1d7",
   "metadata": {},
   "outputs": [
    {
     "data": {
      "text/html": [
       "<div>\n",
       "<style scoped>\n",
       "    .dataframe tbody tr th:only-of-type {\n",
       "        vertical-align: middle;\n",
       "    }\n",
       "\n",
       "    .dataframe tbody tr th {\n",
       "        vertical-align: top;\n",
       "    }\n",
       "\n",
       "    .dataframe thead th {\n",
       "        text-align: right;\n",
       "    }\n",
       "</style>\n",
       "<table border=\"1\" class=\"dataframe\">\n",
       "  <thead>\n",
       "    <tr style=\"text-align: right;\">\n",
       "      <th></th>\n",
       "      <th>id</th>\n",
       "      <th>type</th>\n",
       "      <th>name</th>\n",
       "    </tr>\n",
       "  </thead>\n",
       "  <tbody>\n",
       "    <tr>\n",
       "      <th>10</th>\n",
       "      <td>43</td>\n",
       "      <td>album</td>\n",
       "      <td>Blues Six Pack</td>\n",
       "    </tr>\n",
       "    <tr>\n",
       "      <th>11</th>\n",
       "      <td>45</td>\n",
       "      <td>album</td>\n",
       "      <td>Blues Six Pack</td>\n",
       "    </tr>\n",
       "    <tr>\n",
       "      <th>13</th>\n",
       "      <td>49</td>\n",
       "      <td>album</td>\n",
       "      <td>Graffiti Soul</td>\n",
       "    </tr>\n",
       "    <tr>\n",
       "      <th>28</th>\n",
       "      <td>94</td>\n",
       "      <td>album</td>\n",
       "      <td>Jazz Six Pack</td>\n",
       "    </tr>\n",
       "    <tr>\n",
       "      <th>29</th>\n",
       "      <td>95</td>\n",
       "      <td>album</td>\n",
       "      <td>Blues Six Pack</td>\n",
       "    </tr>\n",
       "    <tr>\n",
       "      <th>...</th>\n",
       "      <td>...</td>\n",
       "      <td>...</td>\n",
       "      <td>...</td>\n",
       "    </tr>\n",
       "    <tr>\n",
       "      <th>1812464</th>\n",
       "      <td>101458360</td>\n",
       "      <td>track</td>\n",
       "      <td>KULT</td>\n",
       "    </tr>\n",
       "    <tr>\n",
       "      <th>1812465</th>\n",
       "      <td>101476180</td>\n",
       "      <td>track</td>\n",
       "      <td>Февраль</td>\n",
       "    </tr>\n",
       "    <tr>\n",
       "      <th>1812466</th>\n",
       "      <td>101478482</td>\n",
       "      <td>track</td>\n",
       "      <td>На лицо</td>\n",
       "    </tr>\n",
       "    <tr>\n",
       "      <th>1812469</th>\n",
       "      <td>101495927</td>\n",
       "      <td>track</td>\n",
       "      <td>Москва</td>\n",
       "    </tr>\n",
       "    <tr>\n",
       "      <th>1812470</th>\n",
       "      <td>101521819</td>\n",
       "      <td>track</td>\n",
       "      <td>Вокзал</td>\n",
       "    </tr>\n",
       "  </tbody>\n",
       "</table>\n",
       "<p>689769 rows × 3 columns</p>\n",
       "</div>"
      ],
      "text/plain": [
       "                id   type            name\n",
       "10              43  album  Blues Six Pack\n",
       "11              45  album  Blues Six Pack\n",
       "13              49  album   Graffiti Soul\n",
       "28              94  album   Jazz Six Pack\n",
       "29              95  album  Blues Six Pack\n",
       "...            ...    ...             ...\n",
       "1812464  101458360  track            KULT\n",
       "1812465  101476180  track         Февраль\n",
       "1812466  101478482  track         На лицо\n",
       "1812469  101495927  track          Москва\n",
       "1812470  101521819  track          Вокзал\n",
       "\n",
       "[689769 rows x 3 columns]"
      ]
     },
     "execution_count": 19,
     "metadata": {},
     "output_type": "execute_result"
    }
   ],
   "source": [
    "# есть неявные дубликаты по связке тип и наименование - исследуем более подробно\n",
    "catalog_names[(catalog_names.duplicated(['type','name']) == True)]"
   ]
  },
  {
   "cell_type": "code",
   "execution_count": 20,
   "id": "a82f2d17",
   "metadata": {},
   "outputs": [
    {
     "data": {
      "text/plain": [
       "'всего жанров - 166,наличие дублей - 0'"
      ]
     },
     "execution_count": 20,
     "metadata": {},
     "output_type": "execute_result"
    }
   ],
   "source": [
    "f\"всего жанров - {len(genre_cat)},наличие дублей - {len(genre_cat)-genre_cat['name'].nunique()}\""
   ]
  },
  {
   "cell_type": "code",
   "execution_count": 21,
   "id": "1e911e09",
   "metadata": {},
   "outputs": [
    {
     "data": {
      "text/plain": [
       "array(['all', 'eastern', 'rusrock', 'rusrap', 'postrock', 'ukrrock',\n",
       "       'local-indie', 'rusbards', 'romances', 'videogame', 'tatar', 'pop',\n",
       "       'shanson', 'alternative', 'rock', 'tvseries', 'dance', 'films',\n",
       "       'animated', 'rusestrada'], dtype=object)"
      ]
     },
     "execution_count": 21,
     "metadata": {},
     "output_type": "execute_result"
    }
   ],
   "source": [
    "genre_cat['name'].unique()[:20]"
   ]
  },
  {
   "cell_type": "markdown",
   "id": "be2aff41",
   "metadata": {},
   "source": [
    "с наименованием жанров все хорошо"
   ]
  },
  {
   "cell_type": "code",
   "execution_count": 22,
   "id": "e8b9cce5",
   "metadata": {},
   "outputs": [
    {
     "name": "stdout",
     "output_type": "stream",
     "text": [
      "всего артистов - 153581,\n",
      "наличие дублей - 2385, \n",
      "доля дублей 0.02\n"
     ]
    }
   ],
   "source": [
    "print(f\"\"\"всего артистов - {len(artist_cat)},\n",
    "наличие дублей - {len(artist_cat)-artist_cat['name'].nunique()}, \n",
    "доля дублей {round((len(artist_cat)-artist_cat['name'].nunique())/len(artist_cat),2)}\"\"\")"
   ]
  },
  {
   "cell_type": "markdown",
   "id": "51598310",
   "metadata": {},
   "source": [
    "есть дубли по артистам - смотрим на примерах"
   ]
  },
  {
   "cell_type": "code",
   "execution_count": 23,
   "id": "ccf62d3d",
   "metadata": {},
   "outputs": [
    {
     "data": {
      "text/html": [
       "<div>\n",
       "<style scoped>\n",
       "    .dataframe tbody tr th:only-of-type {\n",
       "        vertical-align: middle;\n",
       "    }\n",
       "\n",
       "    .dataframe tbody tr th {\n",
       "        vertical-align: top;\n",
       "    }\n",
       "\n",
       "    .dataframe thead th {\n",
       "        text-align: right;\n",
       "    }\n",
       "</style>\n",
       "<table border=\"1\" class=\"dataframe\">\n",
       "  <thead>\n",
       "    <tr style=\"text-align: right;\">\n",
       "      <th></th>\n",
       "      <th>name</th>\n",
       "      <th>id</th>\n",
       "      <th>type</th>\n",
       "    </tr>\n",
       "  </thead>\n",
       "  <tbody>\n",
       "    <tr>\n",
       "      <th>52242</th>\n",
       "      <td>Iris</td>\n",
       "      <td>8</td>\n",
       "      <td>8</td>\n",
       "    </tr>\n",
       "    <tr>\n",
       "      <th>5195</th>\n",
       "      <td>Ali</td>\n",
       "      <td>8</td>\n",
       "      <td>8</td>\n",
       "    </tr>\n",
       "    <tr>\n",
       "      <th>84172</th>\n",
       "      <td>Nero</td>\n",
       "      <td>8</td>\n",
       "      <td>8</td>\n",
       "    </tr>\n",
       "    <tr>\n",
       "      <th>102302</th>\n",
       "      <td>Sandra</td>\n",
       "      <td>8</td>\n",
       "      <td>8</td>\n",
       "    </tr>\n",
       "    <tr>\n",
       "      <th>37392</th>\n",
       "      <td>Enigma</td>\n",
       "      <td>8</td>\n",
       "      <td>8</td>\n",
       "    </tr>\n",
       "  </tbody>\n",
       "</table>\n",
       "</div>"
      ],
      "text/plain": [
       "          name  id  type\n",
       "52242     Iris   8     8\n",
       "5195       Ali   8     8\n",
       "84172     Nero   8     8\n",
       "102302  Sandra   8     8\n",
       "37392   Enigma   8     8"
      ]
     },
     "execution_count": 23,
     "metadata": {},
     "output_type": "execute_result"
    }
   ],
   "source": [
    "artist_cat.groupby('name').count().reset_index().sort_values(by='id',ascending=False).head(5)"
   ]
  },
  {
   "cell_type": "code",
   "execution_count": 24,
   "id": "c6890e8e",
   "metadata": {},
   "outputs": [
    {
     "data": {
      "text/html": [
       "<div>\n",
       "<style scoped>\n",
       "    .dataframe tbody tr th:only-of-type {\n",
       "        vertical-align: middle;\n",
       "    }\n",
       "\n",
       "    .dataframe tbody tr th {\n",
       "        vertical-align: top;\n",
       "    }\n",
       "\n",
       "    .dataframe thead th {\n",
       "        text-align: right;\n",
       "    }\n",
       "</style>\n",
       "<table border=\"1\" class=\"dataframe\">\n",
       "  <thead>\n",
       "    <tr style=\"text-align: right;\">\n",
       "      <th></th>\n",
       "      <th>id</th>\n",
       "      <th>type</th>\n",
       "      <th>name</th>\n",
       "    </tr>\n",
       "  </thead>\n",
       "  <tbody>\n",
       "    <tr>\n",
       "      <th>658773</th>\n",
       "      <td>258</td>\n",
       "      <td>artist</td>\n",
       "      <td>Iris</td>\n",
       "    </tr>\n",
       "    <tr>\n",
       "      <th>723132</th>\n",
       "      <td>2428595</td>\n",
       "      <td>artist</td>\n",
       "      <td>Iris</td>\n",
       "    </tr>\n",
       "    <tr>\n",
       "      <th>723133</th>\n",
       "      <td>2428598</td>\n",
       "      <td>artist</td>\n",
       "      <td>Iris</td>\n",
       "    </tr>\n",
       "    <tr>\n",
       "      <th>723134</th>\n",
       "      <td>2428599</td>\n",
       "      <td>artist</td>\n",
       "      <td>Iris</td>\n",
       "    </tr>\n",
       "    <tr>\n",
       "      <th>750668</th>\n",
       "      <td>4390811</td>\n",
       "      <td>artist</td>\n",
       "      <td>Iris</td>\n",
       "    </tr>\n",
       "    <tr>\n",
       "      <th>750669</th>\n",
       "      <td>4390817</td>\n",
       "      <td>artist</td>\n",
       "      <td>Iris</td>\n",
       "    </tr>\n",
       "    <tr>\n",
       "      <th>762878</th>\n",
       "      <td>5275494</td>\n",
       "      <td>artist</td>\n",
       "      <td>Iris</td>\n",
       "    </tr>\n",
       "    <tr>\n",
       "      <th>793372</th>\n",
       "      <td>8620410</td>\n",
       "      <td>artist</td>\n",
       "      <td>Iris</td>\n",
       "    </tr>\n",
       "  </tbody>\n",
       "</table>\n",
       "</div>"
      ],
      "text/plain": [
       "             id    type  name\n",
       "658773      258  artist  Iris\n",
       "723132  2428595  artist  Iris\n",
       "723133  2428598  artist  Iris\n",
       "723134  2428599  artist  Iris\n",
       "750668  4390811  artist  Iris\n",
       "750669  4390817  artist  Iris\n",
       "762878  5275494  artist  Iris\n",
       "793372  8620410  artist  Iris"
      ]
     },
     "execution_count": 24,
     "metadata": {},
     "output_type": "execute_result"
    }
   ],
   "source": [
    "artist_cat.query('name==\"Iris\"')"
   ]
  },
  {
   "cell_type": "markdown",
   "id": "bcf9e802",
   "metadata": {},
   "source": [
    "вывод - есть неявные дубли по артистам"
   ]
  },
  {
   "cell_type": "code",
   "execution_count": null,
   "id": "a13c9778",
   "metadata": {},
   "outputs": [
    {
     "data": {
      "text/plain": [
       "17845"
      ]
     },
     "execution_count": 25,
     "metadata": {},
     "output_type": "execute_result"
    }
   ],
   "source": [
    "len(artist_cat[artist_cat['name'].str.replace(' ','').str.isalpha()==False])"
   ]
  },
  {
   "cell_type": "markdown",
   "id": "6c6ab985",
   "metadata": {},
   "source": [
    "около 10% названий артистов содержат не текстовые символы, посмотрим на примерах"
   ]
  },
  {
   "cell_type": "code",
   "execution_count": 26,
   "id": "0c80b2ba",
   "metadata": {},
   "outputs": [
    {
     "data": {
      "text/html": [
       "<div>\n",
       "<style scoped>\n",
       "    .dataframe tbody tr th:only-of-type {\n",
       "        vertical-align: middle;\n",
       "    }\n",
       "\n",
       "    .dataframe tbody tr th {\n",
       "        vertical-align: top;\n",
       "    }\n",
       "\n",
       "    .dataframe thead th {\n",
       "        text-align: right;\n",
       "    }\n",
       "</style>\n",
       "<table border=\"1\" class=\"dataframe\">\n",
       "  <thead>\n",
       "    <tr style=\"text-align: right;\">\n",
       "      <th></th>\n",
       "      <th>id</th>\n",
       "      <th>type</th>\n",
       "      <th>name</th>\n",
       "    </tr>\n",
       "  </thead>\n",
       "  <tbody>\n",
       "    <tr>\n",
       "      <th>795021</th>\n",
       "      <td>8865715</td>\n",
       "      <td>artist</td>\n",
       "      <td>\\tDrake</td>\n",
       "    </tr>\n",
       "    <tr>\n",
       "      <th>786980</th>\n",
       "      <td>7709071</td>\n",
       "      <td>artist</td>\n",
       "      <td>!</td>\n",
       "    </tr>\n",
       "    <tr>\n",
       "      <th>763994</th>\n",
       "      <td>5350302</td>\n",
       "      <td>artist</td>\n",
       "      <td>!!!</td>\n",
       "    </tr>\n",
       "    <tr>\n",
       "      <th>744529</th>\n",
       "      <td>3941033</td>\n",
       "      <td>artist</td>\n",
       "      <td>!Dela Dap</td>\n",
       "    </tr>\n",
       "    <tr>\n",
       "      <th>697504</th>\n",
       "      <td>694636</td>\n",
       "      <td>artist</td>\n",
       "      <td>!Deladap</td>\n",
       "    </tr>\n",
       "  </tbody>\n",
       "</table>\n",
       "</div>"
      ],
      "text/plain": [
       "             id    type       name\n",
       "795021  8865715  artist    \\tDrake\n",
       "786980  7709071  artist          !\n",
       "763994  5350302  artist        !!!\n",
       "744529  3941033  artist  !Dela Dap\n",
       "697504   694636  artist   !Deladap"
      ]
     },
     "execution_count": 26,
     "metadata": {},
     "output_type": "execute_result"
    }
   ],
   "source": [
    "#примеры - пока ничего с ними не делаем\n",
    "artist_cat[artist_cat['name'].str.replace(' ','').str.isalpha()==False].sort_values(by='name').head(5)"
   ]
  },
  {
   "cell_type": "markdown",
   "id": "a33675ed",
   "metadata": {},
   "source": [
    "поле - альбомы"
   ]
  },
  {
   "cell_type": "code",
   "execution_count": 27,
   "id": "ea5231ac",
   "metadata": {},
   "outputs": [
    {
     "name": "stdout",
     "output_type": "stream",
     "text": [
      "всего альбомов - 658724,\n",
      "наличие дублей - 218108, \n",
      "доля дублей 0.33\n"
     ]
    }
   ],
   "source": [
    "print(f\"\"\"всего альбомов - {len(album_cat)},\n",
    "наличие дублей - {len(album_cat)-album_cat['name'].nunique()}, \n",
    "доля дублей {round((len(album_cat)-album_cat['name'].nunique())/len(album_cat),2)}\"\"\")"
   ]
  },
  {
   "cell_type": "code",
   "execution_count": 28,
   "id": "df02210f",
   "metadata": {},
   "outputs": [
    {
     "data": {
      "text/plain": [
       "array(['Exitazos Alegres', 'The Wire (Soundtrack Inspired)',\n",
       "       'Marvel Movies', 'Love and Thunder (Thor Music Inspired)',\n",
       "       'Alto Perreo', 'Marvel Superheroes OST (Themes) (Inspired)',\n",
       "       'DC Comic Movies OST (Inspired)',\n",
       "       'Dark Phoenix (Soundtrack Inspired)', 'Bailoteo Vibrante',\n",
       "       'Master Composers: Johann Sebastian Bach'], dtype=object)"
      ]
     },
     "execution_count": 28,
     "metadata": {},
     "output_type": "execute_result"
    }
   ],
   "source": [
    "album_cat['name'].unique()[-10:]"
   ]
  },
  {
   "cell_type": "code",
   "execution_count": 29,
   "id": "df7ea992",
   "metadata": {},
   "outputs": [
    {
     "data": {
      "text/html": [
       "<div>\n",
       "<style scoped>\n",
       "    .dataframe tbody tr th:only-of-type {\n",
       "        vertical-align: middle;\n",
       "    }\n",
       "\n",
       "    .dataframe tbody tr th {\n",
       "        vertical-align: top;\n",
       "    }\n",
       "\n",
       "    .dataframe thead th {\n",
       "        text-align: right;\n",
       "    }\n",
       "</style>\n",
       "<table border=\"1\" class=\"dataframe\">\n",
       "  <thead>\n",
       "    <tr style=\"text-align: right;\">\n",
       "      <th></th>\n",
       "      <th>name</th>\n",
       "      <th>id</th>\n",
       "      <th>type</th>\n",
       "    </tr>\n",
       "  </thead>\n",
       "  <tbody>\n",
       "    <tr>\n",
       "      <th>423501</th>\n",
       "      <td>Сборник</td>\n",
       "      <td>778</td>\n",
       "      <td>778</td>\n",
       "    </tr>\n",
       "    <tr>\n",
       "      <th>134067</th>\n",
       "      <td>Greatest Hits</td>\n",
       "      <td>622</td>\n",
       "      <td>622</td>\n",
       "    </tr>\n",
       "    <tr>\n",
       "      <th>131351</th>\n",
       "      <td>Gold</td>\n",
       "      <td>229</td>\n",
       "      <td>229</td>\n",
       "    </tr>\n",
       "    <tr>\n",
       "      <th>44343</th>\n",
       "      <td>Best Of</td>\n",
       "      <td>226</td>\n",
       "      <td>226</td>\n",
       "    </tr>\n",
       "    <tr>\n",
       "      <th>313313</th>\n",
       "      <td>The Best Of</td>\n",
       "      <td>216</td>\n",
       "      <td>216</td>\n",
       "    </tr>\n",
       "  </tbody>\n",
       "</table>\n",
       "</div>"
      ],
      "text/plain": [
       "                 name   id  type\n",
       "423501        Сборник  778   778\n",
       "134067  Greatest Hits  622   622\n",
       "131351           Gold  229   229\n",
       "44343         Best Of  226   226\n",
       "313313    The Best Of  216   216"
      ]
     },
     "execution_count": 29,
     "metadata": {},
     "output_type": "execute_result"
    }
   ],
   "source": [
    "album_cat.groupby('name').count().reset_index().sort_values(by='id',ascending=False).head(5)"
   ]
  },
  {
   "cell_type": "markdown",
   "id": "358cb5e0",
   "metadata": {},
   "source": [
    "вывод - это как раз нормально что встречаюстся одинаковые названия альбомов (например \"best of\",\"greatest hits\")"
   ]
  },
  {
   "cell_type": "markdown",
   "id": "f8cc2907",
   "metadata": {},
   "source": [
    "Теперь сравним таблицы треки и каталог\n",
    " - проверка все ли треки из каталога содержатся в треках\n",
    " - проверка все ли альбомы из каталога содержатся в треках\n",
    " - проверка все ли артисты из каталога содержатся в треках\n",
    " - проверка все ли жанры из каталога содержатся в треках"
   ]
  },
  {
   "cell_type": "code",
   "execution_count": 30,
   "id": "f1b0ad46",
   "metadata": {},
   "outputs": [
    {
     "name": "stdout",
     "output_type": "stream",
     "text": [
      "жанров нет в каталоге 23, \n",
      "жанров нет в треках 31,\n",
      "доля нет жанров 0.19\n",
      "альбомов нет в каталоге 0,\n",
      "альбомов нет в треках 1,\n",
      "доля нет альбомов 0.0,\n",
      "артистов нет в каталоге 0,\n",
      "артистов нет в треках 1,\n",
      "пропущено треков в каталоге 0\n"
     ]
    }
   ],
   "source": [
    "genres_list=set(tracks['genres'].explode().drop_duplicates())\n",
    "catalog_list_genre=set(genre_cat['id'])\n",
    "\n",
    "no_catalog_genre=len(catalog_list_genre-genres_list)\n",
    "no_track_genre=len(genres_list-catalog_list_genre)\n",
    "\n",
    "albums_list=set(tracks['albums'].explode().drop_duplicates())\n",
    "catalog_list_album=set(album_cat['id'])\n",
    "\n",
    "no_catalog_album=len(catalog_list_album-albums_list)\n",
    "no_track_album=len(albums_list-catalog_list_album)\n",
    "\n",
    "artist_list=set(tracks['artists'].explode().drop_duplicates())\n",
    "catalog_list_artist=set(artist_cat['id'])\n",
    "\n",
    "no_catalog_artist=len(catalog_list_artist-artist_list)\n",
    "no_track_artist=len(artist_list-catalog_list_artist)\n",
    "\n",
    "catalog_list_tracks=set(track_cat['id'])\n",
    "track_list=set(tracks['track_id'])\n",
    "\n",
    "no_catalog_track=len(catalog_list_tracks-track_list)\n",
    "print(f\"\"\"жанров нет в каталоге {no_catalog_genre}, \n",
    "жанров нет в треках {no_track_genre},\n",
    "доля нет жанров {round(no_track_genre/len(catalog_list_genre),2)}\n",
    "альбомов нет в каталоге {no_catalog_album},\n",
    "альбомов нет в треках {no_track_album},\n",
    "доля нет альбомов {round(no_track_album/len(catalog_list_album),2)},\n",
    "артистов нет в каталоге {no_catalog_artist},\n",
    "артистов нет в треках {no_track_artist},\n",
    "пропущено треков в каталоге {no_catalog_track}\"\"\")"
   ]
  },
  {
   "cell_type": "markdown",
   "id": "80ca1641",
   "metadata": {},
   "source": [
    "см долю треков с неизвестным жанром"
   ]
  },
  {
   "cell_type": "code",
   "execution_count": 31,
   "id": "e1387177",
   "metadata": {},
   "outputs": [
    {
     "data": {
      "text/plain": [
       "'доля треков с неизвестным жанром (нет в каталоге) составляет 0.052'"
      ]
     },
     "execution_count": 31,
     "metadata": {},
     "output_type": "execute_result"
    }
   ],
   "source": [
    "no_catalog_genrelist=genres_list-catalog_list_genre\n",
    "f\"доля треков с неизвестным жанром (нет в каталоге) составляет {round(tracks.explode('genres').query('genres in @no_catalog_genrelist')['track_id'].nunique()/len(tracks),3)}\""
   ]
  },
  {
   "cell_type": "markdown",
   "id": "fc7b0c90",
   "metadata": {},
   "source": [
    "на этапе EDA посмотрю статистику взаимодействия пользователей с треками без жанров"
   ]
  },
  {
   "cell_type": "markdown",
   "id": "9fb2a160",
   "metadata": {},
   "source": [
    "# Таблица 3 - взаимодействия\n",
    "Данные о том, какие пользователи прослушали тот или иной трек, — в файле interactions.parquet :\n",
    " - user_id — идентификатор пользователя,\n",
    " - track_id — идентификатор музыкального трека,\n",
    " - track_seq — номер места трека в истории пользователя,\n",
    " - started_at — дата начала прослушивания трека."
   ]
  },
  {
   "cell_type": "code",
   "execution_count": 32,
   "id": "fe24bd65",
   "metadata": {},
   "outputs": [
    {
     "data": {
      "text/html": [
       "<div>\n",
       "<style scoped>\n",
       "    .dataframe tbody tr th:only-of-type {\n",
       "        vertical-align: middle;\n",
       "    }\n",
       "\n",
       "    .dataframe tbody tr th {\n",
       "        vertical-align: top;\n",
       "    }\n",
       "\n",
       "    .dataframe thead th {\n",
       "        text-align: right;\n",
       "    }\n",
       "</style>\n",
       "<table border=\"1\" class=\"dataframe\">\n",
       "  <thead>\n",
       "    <tr style=\"text-align: right;\">\n",
       "      <th></th>\n",
       "      <th>user_id</th>\n",
       "      <th>track_id</th>\n",
       "      <th>track_seq</th>\n",
       "      <th>started_at</th>\n",
       "    </tr>\n",
       "  </thead>\n",
       "  <tbody>\n",
       "    <tr>\n",
       "      <th>0</th>\n",
       "      <td>0</td>\n",
       "      <td>99262</td>\n",
       "      <td>1</td>\n",
       "      <td>2022-07-17</td>\n",
       "    </tr>\n",
       "    <tr>\n",
       "      <th>1</th>\n",
       "      <td>0</td>\n",
       "      <td>589498</td>\n",
       "      <td>2</td>\n",
       "      <td>2022-07-19</td>\n",
       "    </tr>\n",
       "    <tr>\n",
       "      <th>2</th>\n",
       "      <td>0</td>\n",
       "      <td>590262</td>\n",
       "      <td>3</td>\n",
       "      <td>2022-07-21</td>\n",
       "    </tr>\n",
       "  </tbody>\n",
       "</table>\n",
       "</div>"
      ],
      "text/plain": [
       "   user_id  track_id  track_seq started_at\n",
       "0        0     99262          1 2022-07-17\n",
       "1        0    589498          2 2022-07-19\n",
       "2        0    590262          3 2022-07-21"
      ]
     },
     "execution_count": 32,
     "metadata": {},
     "output_type": "execute_result"
    }
   ],
   "source": [
    "interactions.head(3)"
   ]
  },
  {
   "cell_type": "markdown",
   "id": "478ce567",
   "metadata": {},
   "source": [
    "добавляем поля год и месяц"
   ]
  },
  {
   "cell_type": "code",
   "execution_count": 33,
   "id": "3b4d0b01",
   "metadata": {},
   "outputs": [],
   "source": [
    "interactions['month']=interactions['started_at'].dt.month"
   ]
  },
  {
   "cell_type": "code",
   "execution_count": 34,
   "id": "9851e525",
   "metadata": {},
   "outputs": [],
   "source": [
    "interactions['year']=interactions['started_at'].dt.year"
   ]
  },
  {
   "cell_type": "code",
   "execution_count": 35,
   "id": "7787ee18",
   "metadata": {},
   "outputs": [
    {
     "data": {
      "text/plain": [
       "222629898"
      ]
     },
     "execution_count": 35,
     "metadata": {},
     "output_type": "execute_result"
    }
   ],
   "source": [
    "interactions['track_id'].count()"
   ]
  },
  {
   "cell_type": "markdown",
   "id": "a532fd41",
   "metadata": {},
   "source": [
    "Таблица большая - 222 млн записей взаимодействия"
   ]
  },
  {
   "cell_type": "code",
   "execution_count": 36,
   "id": "85f2680a",
   "metadata": {},
   "outputs": [
    {
     "data": {
      "text/html": [
       "<div>\n",
       "<style scoped>\n",
       "    .dataframe tbody tr th:only-of-type {\n",
       "        vertical-align: middle;\n",
       "    }\n",
       "\n",
       "    .dataframe tbody tr th {\n",
       "        vertical-align: top;\n",
       "    }\n",
       "\n",
       "    .dataframe thead th {\n",
       "        text-align: right;\n",
       "    }\n",
       "</style>\n",
       "<table border=\"1\" class=\"dataframe\">\n",
       "  <thead>\n",
       "    <tr style=\"text-align: right;\">\n",
       "      <th></th>\n",
       "      <th>month</th>\n",
       "      <th>user_id</th>\n",
       "      <th>track_id</th>\n",
       "    </tr>\n",
       "  </thead>\n",
       "  <tbody>\n",
       "    <tr>\n",
       "      <th>0</th>\n",
       "      <td>1</td>\n",
       "      <td>126224</td>\n",
       "      <td>2409541</td>\n",
       "    </tr>\n",
       "    <tr>\n",
       "      <th>1</th>\n",
       "      <td>2</td>\n",
       "      <td>227852</td>\n",
       "      <td>4533363</td>\n",
       "    </tr>\n",
       "    <tr>\n",
       "      <th>2</th>\n",
       "      <td>3</td>\n",
       "      <td>344333</td>\n",
       "      <td>7691225</td>\n",
       "    </tr>\n",
       "    <tr>\n",
       "      <th>3</th>\n",
       "      <td>4</td>\n",
       "      <td>454378</td>\n",
       "      <td>10230295</td>\n",
       "    </tr>\n",
       "    <tr>\n",
       "      <th>4</th>\n",
       "      <td>5</td>\n",
       "      <td>569813</td>\n",
       "      <td>13613489</td>\n",
       "    </tr>\n",
       "    <tr>\n",
       "      <th>5</th>\n",
       "      <td>6</td>\n",
       "      <td>676467</td>\n",
       "      <td>16266558</td>\n",
       "    </tr>\n",
       "    <tr>\n",
       "      <th>6</th>\n",
       "      <td>7</td>\n",
       "      <td>788369</td>\n",
       "      <td>20188819</td>\n",
       "    </tr>\n",
       "    <tr>\n",
       "      <th>7</th>\n",
       "      <td>8</td>\n",
       "      <td>892539</td>\n",
       "      <td>23919641</td>\n",
       "    </tr>\n",
       "    <tr>\n",
       "      <th>8</th>\n",
       "      <td>9</td>\n",
       "      <td>979781</td>\n",
       "      <td>26953965</td>\n",
       "    </tr>\n",
       "    <tr>\n",
       "      <th>9</th>\n",
       "      <td>10</td>\n",
       "      <td>1056636</td>\n",
       "      <td>31810464</td>\n",
       "    </tr>\n",
       "    <tr>\n",
       "      <th>10</th>\n",
       "      <td>11</td>\n",
       "      <td>1081320</td>\n",
       "      <td>33968803</td>\n",
       "    </tr>\n",
       "    <tr>\n",
       "      <th>11</th>\n",
       "      <td>12</td>\n",
       "      <td>995485</td>\n",
       "      <td>31043735</td>\n",
       "    </tr>\n",
       "  </tbody>\n",
       "</table>\n",
       "</div>"
      ],
      "text/plain": [
       "    month  user_id  track_id\n",
       "0       1   126224   2409541\n",
       "1       2   227852   4533363\n",
       "2       3   344333   7691225\n",
       "3       4   454378  10230295\n",
       "4       5   569813  13613489\n",
       "5       6   676467  16266558\n",
       "6       7   788369  20188819\n",
       "7       8   892539  23919641\n",
       "8       9   979781  26953965\n",
       "9      10  1056636  31810464\n",
       "10     11  1081320  33968803\n",
       "11     12   995485  31043735"
      ]
     },
     "execution_count": 36,
     "metadata": {},
     "output_type": "execute_result"
    }
   ],
   "source": [
    "interactions.groupby(['month']).agg({'user_id':'nunique','track_id':'count'}).reset_index()"
   ]
  },
  {
   "cell_type": "markdown",
   "id": "b92c61eb",
   "metadata": {},
   "source": [
    "по всем ли трекам из взаимодействий есть записи в таблице треков"
   ]
  },
  {
   "cell_type": "code",
   "execution_count": 37,
   "id": "30c32791",
   "metadata": {},
   "outputs": [
    {
     "data": {
      "text/html": [
       "<div>\n",
       "<style scoped>\n",
       "    .dataframe tbody tr th:only-of-type {\n",
       "        vertical-align: middle;\n",
       "    }\n",
       "\n",
       "    .dataframe tbody tr th {\n",
       "        vertical-align: top;\n",
       "    }\n",
       "\n",
       "    .dataframe thead th {\n",
       "        text-align: right;\n",
       "    }\n",
       "</style>\n",
       "<table border=\"1\" class=\"dataframe\">\n",
       "  <thead>\n",
       "    <tr style=\"text-align: right;\">\n",
       "      <th></th>\n",
       "      <th>user_id</th>\n",
       "      <th>track_id</th>\n",
       "      <th>track_seq</th>\n",
       "      <th>started_at</th>\n",
       "      <th>month</th>\n",
       "      <th>year</th>\n",
       "      <th>in_tracks</th>\n",
       "    </tr>\n",
       "  </thead>\n",
       "  <tbody>\n",
       "  </tbody>\n",
       "</table>\n",
       "</div>"
      ],
      "text/plain": [
       "Empty DataFrame\n",
       "Columns: [user_id, track_id, track_seq, started_at, month, year, in_tracks]\n",
       "Index: []"
      ]
     },
     "execution_count": 37,
     "metadata": {},
     "output_type": "execute_result"
    }
   ],
   "source": [
    "interactions['in_tracks']=interactions['track_id'].isin(tracks['track_id'])\n",
    "interactions.query('in_tracks==False')"
   ]
  },
  {
   "cell_type": "code",
   "execution_count": 38,
   "id": "94500700",
   "metadata": {},
   "outputs": [],
   "source": [
    "stage2_preEDA=time.time()"
   ]
  },
  {
   "cell_type": "markdown",
   "id": "318b573a-9e2d-4808-95db-60cfb8bbdb73",
   "metadata": {
    "editable": true,
    "slideshow": {
     "slide_type": ""
    },
    "tags": []
   },
   "source": [
    "# Выводы"
   ]
  },
  {
   "cell_type": "markdown",
   "id": "caa96e12-36a8-4401-8f11-98627a49ae9d",
   "metadata": {},
   "source": [
    "Приведём выводы по первому знакомству с данными:\n",
    "- есть ли с данными явные проблемы,\n",
    "- какие корректирующие действия (в целом) были предприняты."
   ]
  },
  {
   "cell_type": "markdown",
   "id": "34c06898",
   "metadata": {},
   "source": [
    "Таблица №1 с треками - данные в столбцах кроме track_id содержат массивы\n",
    " - есть пропуски в значениях - можно восстановить или удалить\n",
    " - 1 млн треков\n",
    "\n",
    "Таблица №2 с контентом\n",
    " - ключи не уникальные - разбиваем на 4 справочника (genre_cat,album_cat,artist_cat,track_cat)\n",
    " - жанры являются уникальными\n",
    " - около 2% исполнителей в справочнике являются дублями\n",
    " - около 10% названий исполнителей содержат не текстовые символы (возможно некорректно занесены названия в справочник)\n",
    " - 33% названий всех альбомов являются дублями - это нормальная ситуация, т.к. есть часто встречающиеся \"Сборник, best of...\"\n",
    " - сравним таблицы с треками и каталог есть пересортица по жанрам (23 жанра треков отсутствуют в каталоге, это 5% всех треков) - решаем что делаем в зависимости от цели исследования\n",
    "\n",
    "Таблица №3 взаимодействий\n",
    " - данные представлены за 22 год - период активного роста (в течение года количество пользователей и прослушиваемых треков выросло в 10 раз)\n",
    " - в EDA анализе интересно посмотреть как менялись списки популярных треков по месяцам\n",
    " - возможно с учетом активного роста рекомендации на старых данных будут совсем нерелевантны\n",
    " - все треки есть в таблице 1 с треками\n",
    "\n",
    "общий вывод - присутствуют сквозные идентификаторы, основная проблема - не полностью заполнен контент с жанрами, могут возникнуть проблемы с расчетами (подумать как облегчить расчет)"
   ]
  },
  {
   "cell_type": "markdown",
   "id": "7bc3296b-eba6-4333-a78d-b9304aa87e3d",
   "metadata": {},
   "source": [
    "# === ЭТАП 2 ==="
   ]
  },
  {
   "cell_type": "markdown",
   "id": "68e73960-fd38-4e15-8db0-9a25c35dfd25",
   "metadata": {},
   "source": [
    "# EDA"
   ]
  },
  {
   "cell_type": "markdown",
   "id": "a30e823e-8e0f-4a76-a02e-8d1ba8bf0f8a",
   "metadata": {},
   "source": [
    "Распределение количества прослушанных треков."
   ]
  },
  {
   "cell_type": "markdown",
   "id": "06969178",
   "metadata": {},
   "source": [
    "Проведите EDA данных, чтобы получить представление:\n",
    " - о распределении количества прослушанных треков, +\n",
    " - о наиболее популярных треках, +\n",
    " - о наиболее популярных жанрах, +\n",
    " - о треках, которые никто не прослушал."
   ]
  },
  {
   "cell_type": "code",
   "execution_count": 39,
   "id": "b378fe24",
   "metadata": {},
   "outputs": [],
   "source": [
    "df=interactions.groupby(['user_id']).agg({'track_id':'count'}).reset_index().rename(columns={'track_id':'track_count'})"
   ]
  },
  {
   "cell_type": "code",
   "execution_count": 40,
   "id": "3e5a8315",
   "metadata": {},
   "outputs": [
    {
     "data": {
      "text/plain": [
       "162.12241001266366"
      ]
     },
     "execution_count": 40,
     "metadata": {},
     "output_type": "execute_result"
    }
   ],
   "source": [
    "df['track_count'].sum()/df['user_id'].count() #среднее количество песен прослушиваемых"
   ]
  },
  {
   "cell_type": "markdown",
   "id": "dc1f11e9",
   "metadata": {},
   "source": [
    "смотрю выбросы"
   ]
  },
  {
   "cell_type": "code",
   "execution_count": 41,
   "id": "f2935c6d",
   "metadata": {},
   "outputs": [
    {
     "data": {
      "text/plain": [
       "<Axes: xlabel='track_count'>"
      ]
     },
     "execution_count": 41,
     "metadata": {},
     "output_type": "execute_result"
    },
    {
     "data": {
      "image/png": "[encoded data removed]",
      "text/plain": [
       "<Figure size 2000x200 with 1 Axes>"
      ]
     },
     "metadata": {},
     "output_type": "display_data"
    }
   ],
   "source": [
    "plt.figure(figsize=(20, 2))\n",
    "sns.boxplot(df,x='track_count')"
   ]
  },
  {
   "cell_type": "markdown",
   "id": "0544f644",
   "metadata": {},
   "source": [
    "смотрим распределение пользователей по количеству прослушанных треков - большинство до 1000"
   ]
  },
  {
   "cell_type": "code",
   "execution_count": 42,
   "id": "172aa702",
   "metadata": {},
   "outputs": [
    {
     "data": {
      "text/plain": [
       "<Axes: ylabel='Frequency'>"
      ]
     },
     "execution_count": 42,
     "metadata": {},
     "output_type": "execute_result"
    },
    {
     "data": {
      "image/png": "[encoded data removed]",
      "text/plain": [
       "<Figure size 2000x200 with 1 Axes>"
      ]
     },
     "metadata": {},
     "output_type": "display_data"
    }
   ],
   "source": [
    "plt.figure(figsize=(20, 2))\n",
    "df.query('track_count>1 and track_count<1000')['track_count'].plot(kind='hist',bins=200,grid=True)"
   ]
  },
  {
   "cell_type": "markdown",
   "id": "8ce0787e",
   "metadata": {},
   "source": [
    "посмотрим какую долю событий отсечем из-за выбросов\n",
    " - слишком активные пользователи (меломаны, поведение похоже на роботов)\n",
    " - единичные прослушивания (о холодных пользователях мы ничего не значем, по ним можно будет рекоммендовать наиболее популярные треки/похожие)"
   ]
  },
  {
   "cell_type": "code",
   "execution_count": 43,
   "id": "63c2271f",
   "metadata": {},
   "outputs": [],
   "source": [
    "A=30\n",
    "B=800"
   ]
  },
  {
   "cell_type": "code",
   "execution_count": null,
   "id": "bbbd858e",
   "metadata": {},
   "outputs": [
    {
     "name": "stdout",
     "output_type": "stream",
     "text": [
      "не активные пользователи - 8047117,роботы - 74590097,общая доля условно мусора- 0.37\n"
     ]
    }
   ],
   "source": [
    "user_low=df.query('track_count<@A')['track_count'].sum() #мусор - считаем холодными таких пользователей\n",
    "user_high=df.query('track_count>@B')['track_count'].sum() #роботы - можно удалить\n",
    "print(f\"не активные пользователи - {user_low},роботы - {user_high},общая доля условно мусора- {round((user_low+user_high)/df['track_count'].sum(),2)}\")"
   ]
  },
  {
   "cell_type": "markdown",
   "id": "fd2655e2",
   "metadata": {},
   "source": [
    "фильтруем\n",
    " - кто слушает более 800 треков (сюда могут попадать роботы и специфический вкус) таким образом уменьшаем массив данных, проще будет делать расчеты\n",
    " - пользователей до 30 треков считаем холодными - они малоинформативны"
   ]
  },
  {
   "cell_type": "code",
   "execution_count": 45,
   "id": "aeb01981",
   "metadata": {},
   "outputs": [
    {
     "data": {
      "text/plain": [
       "<Axes: xlabel='track_count'>"
      ]
     },
     "execution_count": 45,
     "metadata": {},
     "output_type": "execute_result"
    },
    {
     "data": {
      "image/png": "[encoded data removed]",
      "text/plain": [
       "<Figure size 2000x200 with 1 Axes>"
      ]
     },
     "metadata": {},
     "output_type": "display_data"
    }
   ],
   "source": [
    "df_filter=df.query('track_count>@A and track_count<@B')\n",
    "\n",
    "plt.figure(figsize=(20, 2))\n",
    "sns.boxplot(df_filter,x='track_count')"
   ]
  },
  {
   "cell_type": "code",
   "execution_count": 46,
   "id": "48f564d5",
   "metadata": {},
   "outputs": [
    {
     "data": {
      "text/plain": [
       "139515984"
      ]
     },
     "execution_count": 46,
     "metadata": {},
     "output_type": "execute_result"
    }
   ],
   "source": [
    "df_filter['track_count'].sum()"
   ]
  },
  {
   "cell_type": "markdown",
   "id": "58e8b5cd",
   "metadata": {},
   "source": [
    "Cократили значительно выборку"
   ]
  },
  {
   "cell_type": "code",
   "execution_count": 47,
   "id": "b49686a8",
   "metadata": {},
   "outputs": [
    {
     "data": {
      "text/html": [
       "<div>\n",
       "<style scoped>\n",
       "    .dataframe tbody tr th:only-of-type {\n",
       "        vertical-align: middle;\n",
       "    }\n",
       "\n",
       "    .dataframe tbody tr th {\n",
       "        vertical-align: top;\n",
       "    }\n",
       "\n",
       "    .dataframe thead th {\n",
       "        text-align: right;\n",
       "    }\n",
       "</style>\n",
       "<table border=\"1\" class=\"dataframe\">\n",
       "  <thead>\n",
       "    <tr style=\"text-align: right;\">\n",
       "      <th></th>\n",
       "      <th>user_id</th>\n",
       "      <th>track_id</th>\n",
       "      <th>track_seq</th>\n",
       "      <th>started_at</th>\n",
       "      <th>month</th>\n",
       "      <th>year</th>\n",
       "      <th>in_tracks</th>\n",
       "    </tr>\n",
       "  </thead>\n",
       "  <tbody>\n",
       "    <tr>\n",
       "      <th>0</th>\n",
       "      <td>1</td>\n",
       "      <td>24417</td>\n",
       "      <td>1</td>\n",
       "      <td>2022-06-11</td>\n",
       "      <td>6</td>\n",
       "      <td>2022</td>\n",
       "      <td>True</td>\n",
       "    </tr>\n",
       "    <tr>\n",
       "      <th>1</th>\n",
       "      <td>1</td>\n",
       "      <td>108208</td>\n",
       "      <td>2</td>\n",
       "      <td>2022-06-13</td>\n",
       "      <td>6</td>\n",
       "      <td>2022</td>\n",
       "      <td>True</td>\n",
       "    </tr>\n",
       "    <tr>\n",
       "      <th>2</th>\n",
       "      <td>1</td>\n",
       "      <td>108209</td>\n",
       "      <td>3</td>\n",
       "      <td>2022-06-13</td>\n",
       "      <td>6</td>\n",
       "      <td>2022</td>\n",
       "      <td>True</td>\n",
       "    </tr>\n",
       "    <tr>\n",
       "      <th>3</th>\n",
       "      <td>1</td>\n",
       "      <td>592642</td>\n",
       "      <td>4</td>\n",
       "      <td>2022-06-15</td>\n",
       "      <td>6</td>\n",
       "      <td>2022</td>\n",
       "      <td>True</td>\n",
       "    </tr>\n",
       "    <tr>\n",
       "      <th>4</th>\n",
       "      <td>1</td>\n",
       "      <td>628687</td>\n",
       "      <td>5</td>\n",
       "      <td>2022-06-15</td>\n",
       "      <td>6</td>\n",
       "      <td>2022</td>\n",
       "      <td>True</td>\n",
       "    </tr>\n",
       "    <tr>\n",
       "      <th>...</th>\n",
       "      <td>...</td>\n",
       "      <td>...</td>\n",
       "      <td>...</td>\n",
       "      <td>...</td>\n",
       "      <td>...</td>\n",
       "      <td>...</td>\n",
       "      <td>...</td>\n",
       "    </tr>\n",
       "    <tr>\n",
       "      <th>287</th>\n",
       "      <td>1374582</td>\n",
       "      <td>95514767</td>\n",
       "      <td>288</td>\n",
       "      <td>2022-12-29</td>\n",
       "      <td>12</td>\n",
       "      <td>2022</td>\n",
       "      <td>True</td>\n",
       "    </tr>\n",
       "    <tr>\n",
       "      <th>288</th>\n",
       "      <td>1374582</td>\n",
       "      <td>97220301</td>\n",
       "      <td>289</td>\n",
       "      <td>2022-12-29</td>\n",
       "      <td>12</td>\n",
       "      <td>2022</td>\n",
       "      <td>True</td>\n",
       "    </tr>\n",
       "    <tr>\n",
       "      <th>289</th>\n",
       "      <td>1374582</td>\n",
       "      <td>97241171</td>\n",
       "      <td>290</td>\n",
       "      <td>2022-12-29</td>\n",
       "      <td>12</td>\n",
       "      <td>2022</td>\n",
       "      <td>True</td>\n",
       "    </tr>\n",
       "    <tr>\n",
       "      <th>290</th>\n",
       "      <td>1374582</td>\n",
       "      <td>98542641</td>\n",
       "      <td>291</td>\n",
       "      <td>2022-12-29</td>\n",
       "      <td>12</td>\n",
       "      <td>2022</td>\n",
       "      <td>True</td>\n",
       "    </tr>\n",
       "    <tr>\n",
       "      <th>291</th>\n",
       "      <td>1374582</td>\n",
       "      <td>100736375</td>\n",
       "      <td>292</td>\n",
       "      <td>2022-12-30</td>\n",
       "      <td>12</td>\n",
       "      <td>2022</td>\n",
       "      <td>True</td>\n",
       "    </tr>\n",
       "  </tbody>\n",
       "</table>\n",
       "<p>139515984 rows × 7 columns</p>\n",
       "</div>"
      ],
      "text/plain": [
       "     user_id   track_id  track_seq started_at  month  year  in_tracks\n",
       "0          1      24417          1 2022-06-11      6  2022       True\n",
       "1          1     108208          2 2022-06-13      6  2022       True\n",
       "2          1     108209          3 2022-06-13      6  2022       True\n",
       "3          1     592642          4 2022-06-15      6  2022       True\n",
       "4          1     628687          5 2022-06-15      6  2022       True\n",
       "..       ...        ...        ...        ...    ...   ...        ...\n",
       "287  1374582   95514767        288 2022-12-29     12  2022       True\n",
       "288  1374582   97220301        289 2022-12-29     12  2022       True\n",
       "289  1374582   97241171        290 2022-12-29     12  2022       True\n",
       "290  1374582   98542641        291 2022-12-29     12  2022       True\n",
       "291  1374582  100736375        292 2022-12-30     12  2022       True\n",
       "\n",
       "[139515984 rows x 7 columns]"
      ]
     },
     "execution_count": 47,
     "metadata": {},
     "output_type": "execute_result"
    }
   ],
   "source": [
    "good_users=df_filter['user_id']\n",
    "\n",
    "good_interactions=interactions.query('user_id in @good_users')\n",
    "good_interactions"
   ]
  },
  {
   "cell_type": "markdown",
   "id": "a6f2b991",
   "metadata": {},
   "source": [
    "Исследуем наиболее популярные треки - до и после очистки от массовых пользователей (роботов и меломанов)"
   ]
  },
  {
   "cell_type": "code",
   "execution_count": 48,
   "id": "f3b274da",
   "metadata": {},
   "outputs": [],
   "source": [
    "tracks_count=interactions.groupby('track_id').agg({'user_id':'count'}).reset_index().rename(columns={'user_id':'user_count'}).sort_values(by='user_count',ascending=False)"
   ]
  },
  {
   "cell_type": "code",
   "execution_count": 49,
   "id": "e014eb16",
   "metadata": {},
   "outputs": [
    {
     "data": {
      "text/html": [
       "<div>\n",
       "<style scoped>\n",
       "    .dataframe tbody tr th:only-of-type {\n",
       "        vertical-align: middle;\n",
       "    }\n",
       "\n",
       "    .dataframe tbody tr th {\n",
       "        vertical-align: top;\n",
       "    }\n",
       "\n",
       "    .dataframe thead th {\n",
       "        text-align: right;\n",
       "    }\n",
       "</style>\n",
       "<table border=\"1\" class=\"dataframe\">\n",
       "  <thead>\n",
       "    <tr style=\"text-align: right;\">\n",
       "      <th></th>\n",
       "      <th>track_id</th>\n",
       "      <th>user_count</th>\n",
       "    </tr>\n",
       "  </thead>\n",
       "  <tbody>\n",
       "    <tr>\n",
       "      <th>9098</th>\n",
       "      <td>53404</td>\n",
       "      <td>111062</td>\n",
       "    </tr>\n",
       "    <tr>\n",
       "      <th>483876</th>\n",
       "      <td>33311009</td>\n",
       "      <td>106921</td>\n",
       "    </tr>\n",
       "    <tr>\n",
       "      <th>26665</th>\n",
       "      <td>178529</td>\n",
       "      <td>101924</td>\n",
       "    </tr>\n",
       "  </tbody>\n",
       "</table>\n",
       "</div>"
      ],
      "text/plain": [
       "        track_id  user_count\n",
       "9098       53404      111062\n",
       "483876  33311009      106921\n",
       "26665     178529      101924"
      ]
     },
     "execution_count": 49,
     "metadata": {},
     "output_type": "execute_result"
    }
   ],
   "source": [
    "tracks_count.head(3) #редкие треки слушают по 100000 раз"
   ]
  },
  {
   "cell_type": "code",
   "execution_count": 50,
   "id": "5bcd7a4a",
   "metadata": {},
   "outputs": [
    {
     "data": {
      "text/plain": [
       "222.629898"
      ]
     },
     "execution_count": 50,
     "metadata": {},
     "output_type": "execute_result"
    }
   ],
   "source": [
    "tracks_count['user_count'].mean() #в среднем по 222 раза"
   ]
  },
  {
   "cell_type": "code",
   "execution_count": 51,
   "id": "5ea0b538",
   "metadata": {},
   "outputs": [
    {
     "data": {
      "text/plain": [
       "<Axes: ylabel='Frequency'>"
      ]
     },
     "execution_count": 51,
     "metadata": {},
     "output_type": "execute_result"
    },
    {
     "data": {
      "image/png": "[encoded data removed]",
      "text/plain": [
       "<Figure size 2000x200 with 1 Axes>"
      ]
     },
     "metadata": {},
     "output_type": "display_data"
    }
   ],
   "source": [
    "plt.figure(figsize=(20, 2))\n",
    "tracks_count.query('user_count<500')['user_count'].plot(kind='hist',bins=200,grid=True)"
   ]
  },
  {
   "cell_type": "markdown",
   "id": "bbeb8e76",
   "metadata": {},
   "source": [
    "Вывод - большинство треков слушают редко, сократим количество треков для исследования - уберем редкие треки и тем самым уменьшим размерность матрицы пользователь-трек"
   ]
  },
  {
   "cell_type": "code",
   "execution_count": 52,
   "id": "414ca4e2",
   "metadata": {},
   "outputs": [],
   "source": [
    "C=50"
   ]
  },
  {
   "cell_type": "code",
   "execution_count": 53,
   "id": "ddeeae1e",
   "metadata": {},
   "outputs": [],
   "source": [
    "good_tracks=tracks_count.query('user_count>@C') #фильтруем треки, которые прослушали более Х раз"
   ]
  },
  {
   "cell_type": "markdown",
   "id": "f918d190",
   "metadata": {},
   "source": [
    "смотрим топ популярных треков"
   ]
  },
  {
   "cell_type": "code",
   "execution_count": 54,
   "id": "43b9bdd9",
   "metadata": {},
   "outputs": [
    {
     "data": {
      "text/html": [
       "<div>\n",
       "<style scoped>\n",
       "    .dataframe tbody tr th:only-of-type {\n",
       "        vertical-align: middle;\n",
       "    }\n",
       "\n",
       "    .dataframe tbody tr th {\n",
       "        vertical-align: top;\n",
       "    }\n",
       "\n",
       "    .dataframe thead th {\n",
       "        text-align: right;\n",
       "    }\n",
       "</style>\n",
       "<table border=\"1\" class=\"dataframe\">\n",
       "  <thead>\n",
       "    <tr style=\"text-align: right;\">\n",
       "      <th></th>\n",
       "      <th>track_id</th>\n",
       "      <th>user_count</th>\n",
       "      <th>name</th>\n",
       "    </tr>\n",
       "  </thead>\n",
       "  <tbody>\n",
       "    <tr>\n",
       "      <th>0</th>\n",
       "      <td>53404</td>\n",
       "      <td>111062</td>\n",
       "      <td>Smells Like Teen Spirit</td>\n",
       "    </tr>\n",
       "    <tr>\n",
       "      <th>1</th>\n",
       "      <td>33311009</td>\n",
       "      <td>106921</td>\n",
       "      <td>Believer</td>\n",
       "    </tr>\n",
       "    <tr>\n",
       "      <th>2</th>\n",
       "      <td>178529</td>\n",
       "      <td>101924</td>\n",
       "      <td>Numb</td>\n",
       "    </tr>\n",
       "    <tr>\n",
       "      <th>3</th>\n",
       "      <td>35505245</td>\n",
       "      <td>99490</td>\n",
       "      <td>I Got Love</td>\n",
       "    </tr>\n",
       "    <tr>\n",
       "      <th>4</th>\n",
       "      <td>65851540</td>\n",
       "      <td>86670</td>\n",
       "      <td>Юность</td>\n",
       "    </tr>\n",
       "    <tr>\n",
       "      <th>5</th>\n",
       "      <td>24692821</td>\n",
       "      <td>86246</td>\n",
       "      <td>Way Down We Go</td>\n",
       "    </tr>\n",
       "    <tr>\n",
       "      <th>6</th>\n",
       "      <td>32947997</td>\n",
       "      <td>85886</td>\n",
       "      <td>Shape of You</td>\n",
       "    </tr>\n",
       "    <tr>\n",
       "      <th>7</th>\n",
       "      <td>51241318</td>\n",
       "      <td>85244</td>\n",
       "      <td>In The End</td>\n",
       "    </tr>\n",
       "    <tr>\n",
       "      <th>8</th>\n",
       "      <td>795836</td>\n",
       "      <td>85042</td>\n",
       "      <td>Shape Of My Heart</td>\n",
       "    </tr>\n",
       "    <tr>\n",
       "      <th>9</th>\n",
       "      <td>45499814</td>\n",
       "      <td>84748</td>\n",
       "      <td>Life</td>\n",
       "    </tr>\n",
       "  </tbody>\n",
       "</table>\n",
       "</div>"
      ],
      "text/plain": [
       "   track_id  user_count                     name\n",
       "0     53404      111062  Smells Like Teen Spirit\n",
       "1  33311009      106921                 Believer\n",
       "2    178529      101924                     Numb\n",
       "3  35505245       99490               I Got Love\n",
       "4  65851540       86670                   Юность\n",
       "5  24692821       86246           Way Down We Go\n",
       "6  32947997       85886             Shape of You\n",
       "7  51241318       85244               In The End\n",
       "8    795836       85042        Shape Of My Heart\n",
       "9  45499814       84748                     Life"
      ]
     },
     "execution_count": 54,
     "metadata": {},
     "output_type": "execute_result"
    }
   ],
   "source": [
    "tracks_filter_count=(interactions#good_interactions\n",
    "                   .groupby('track_id')\n",
    "                   .agg({'user_id':'count'})\n",
    "                   .reset_index()\n",
    "                   .rename(columns={'user_id':'user_count'})\n",
    "                   .sort_values(by='user_count',ascending=False)\n",
    "                   .head(10)\n",
    "                   .merge(track_cat,left_on='track_id',right_on='id',how='left')\n",
    "                   .drop(columns=['id','type']))\n",
    "\n",
    "tracks_filter_count"
   ]
  },
  {
   "cell_type": "code",
   "execution_count": null,
   "id": "522e92be",
   "metadata": {},
   "outputs": [
    {
     "data": {
      "text/plain": [
       "<Axes: xlabel='user_count', ylabel='name'>"
      ]
     },
     "execution_count": 55,
     "metadata": {},
     "output_type": "execute_result"
    },
    {
     "data": {
      "image/png": "[encoded data removed]",
      "text/plain": [
       "<Figure size 400x400 with 1 Axes>"
      ]
     },
     "metadata": {},
     "output_type": "display_data"
    }
   ],
   "source": [
    "plt.figure(figsize=(4, 4))\n",
    "sns.barplot(data=tracks_filter_count, x='user_count', y='name')"
   ]
  },
  {
   "cell_type": "markdown",
   "id": "b6747b3c",
   "metadata": {},
   "source": [
    "смотрим теперь меняются ли предпочтения по периодам\n",
    "возможно имеет место популярность треков (например кто-то популярен всегда, кто-то появляется и потом исчезает)"
   ]
  },
  {
   "cell_type": "code",
   "execution_count": 56,
   "id": "67b974e9",
   "metadata": {},
   "outputs": [],
   "source": [
    "#готовим данные\n",
    "pop_by_month=(interactions#good_interactions\n",
    "              .groupby(['track_id','month'])\n",
    "              .agg({'user_id':'count'})\n",
    "              .reset_index()\n",
    "              .sort_values(by=['month','user_id'],ascending=[True,False]))\n"
   ]
  },
  {
   "cell_type": "markdown",
   "id": "dbd98bc9",
   "metadata": {},
   "source": [
    "смотрю на примере нескольких месяцев"
   ]
  },
  {
   "cell_type": "code",
   "execution_count": 57,
   "id": "2b6858c4",
   "metadata": {},
   "outputs": [
    {
     "data": {
      "image/png": "[encoded data removed]",
      "text/plain": [
       "<Figure size 300x100 with 1 Axes>"
      ]
     },
     "metadata": {},
     "output_type": "display_data"
    },
    {
     "data": {
      "image/png": "[encoded data removed]",
      "text/plain": [
       "<Figure size 300x100 with 1 Axes>"
      ]
     },
     "metadata": {},
     "output_type": "display_data"
    },
    {
     "data": {
      "image/png": "[encoded data removed]",
      "text/plain": [
       "<Figure size 300x100 with 1 Axes>"
      ]
     },
     "metadata": {},
     "output_type": "display_data"
    }
   ],
   "source": [
    "for i in range(9,12):\n",
    "    a=pop_by_month.query('month==@i').head(3).merge(track_cat,left_on='track_id',right_on='id',how='left')\n",
    "    plt.figure(figsize=(3, 1))\n",
    "    sns.barplot(a, x='user_id', y='name')\n",
    "    plt.title(f\"месяц {i}\",fontsize=8)\n",
    "    plt.show()"
   ]
  },
  {
   "cell_type": "markdown",
   "id": "cf11093b",
   "metadata": {},
   "source": [
    "Вывод - есть эффект хайпа - новые песни залетают в предпочтения - вывод - для рекомендаций скорее всего надо использовать инфо за 1 -2 месяца, более поздние будем считать старыми\n"
   ]
  },
  {
   "cell_type": "markdown",
   "id": "f09dda16",
   "metadata": {},
   "source": [
    "Наиболее популярные жанры"
   ]
  },
  {
   "cell_type": "code",
   "execution_count": 58,
   "id": "e08c1792",
   "metadata": {},
   "outputs": [],
   "source": [
    "test1_genre=(pop_by_month\n",
    "             .query('month==1')\n",
    "             #.head(3)\n",
    "             .merge(tracks, on='track_id', how='left')\n",
    "             .explode('genres')\n",
    "             .groupby(['month','genres'])\n",
    "             .agg({'track_id':'count'})\n",
    "             .reset_index()\n",
    "             .sort_values(by='track_id',ascending=False)\n",
    "             .head(5)\n",
    "             .merge(genre_cat,left_on='genres',right_on='id',how='left')\n",
    ")\n",
    "for i in range(2,13):\n",
    "    test=(pop_by_month\n",
    "             .query('month==@i')\n",
    "             .merge(tracks, on='track_id', how='left')\n",
    "             .explode('genres')\n",
    "             .groupby(['month','genres'])\n",
    "             .agg({'track_id':'count'})\n",
    "             .reset_index()\n",
    "             .sort_values(by='track_id',ascending=False)\n",
    "             .head(5)\n",
    "             .merge(genre_cat,left_on='genres',right_on='id',how='left')\n",
    "    )\n",
    "    test1_genre=pd.concat([test1_genre,test])\n"
   ]
  },
  {
   "cell_type": "code",
   "execution_count": 59,
   "id": "be1e7b50",
   "metadata": {},
   "outputs": [
    {
     "data": {
      "text/plain": [
       "array(['pop', 'allrock', 'rap', 'electronics', 'rock', 'metal', 'rusrap'],\n",
       "      dtype=object)"
      ]
     },
     "execution_count": 59,
     "metadata": {},
     "output_type": "execute_result"
    }
   ],
   "source": [
    "test1_genre['name'].unique()"
   ]
  },
  {
   "cell_type": "markdown",
   "id": "b5d51c97",
   "metadata": {},
   "source": [
    "Смотрим динамику по жанрам"
   ]
  },
  {
   "cell_type": "code",
   "execution_count": 60,
   "id": "81d3da20",
   "metadata": {},
   "outputs": [
    {
     "data": {
      "text/plain": [
       "Text(0, 0.5, 'Количество прослушиваний')"
      ]
     },
     "execution_count": 60,
     "metadata": {},
     "output_type": "execute_result"
    },
    {
     "data": {
      "image/png": "[encoded data removed]",
      "text/plain": [
       "<Figure size 1500x400 with 1 Axes>"
      ]
     },
     "metadata": {},
     "output_type": "display_data"
    }
   ],
   "source": [
    "plt.figure(figsize=(15, 4))\n",
    "sns.barplot(test1_genre, y='track_id', x='month',hue='name')\n",
    "plt.title('популярные жанров')\n",
    "plt.xlabel('месяца')\n",
    "plt.ylabel('Количество прослушиваний')"
   ]
  },
  {
   "cell_type": "markdown",
   "id": "8e9579b6",
   "metadata": {},
   "source": [
    "Выводы\n",
    " - pop - самый популярный\n",
    " - rap - на 2 месте\n",
    " - 3 и 4 место - electronics обгоняет allrock\n",
    " - 5 место - rusrap"
   ]
  },
  {
   "cell_type": "markdown",
   "id": "15254e66-e80e-473b-ba24-abebea5ccac7",
   "metadata": {},
   "source": [
    "Треки, которые никто не прослушал"
   ]
  },
  {
   "cell_type": "code",
   "execution_count": 61,
   "id": "50bc50c6-2d83-4c7e-97fa-3e7627978438",
   "metadata": {},
   "outputs": [
    {
     "data": {
      "text/html": [
       "<div>\n",
       "<style scoped>\n",
       "    .dataframe tbody tr th:only-of-type {\n",
       "        vertical-align: middle;\n",
       "    }\n",
       "\n",
       "    .dataframe tbody tr th {\n",
       "        vertical-align: top;\n",
       "    }\n",
       "\n",
       "    .dataframe thead th {\n",
       "        text-align: right;\n",
       "    }\n",
       "</style>\n",
       "<table border=\"1\" class=\"dataframe\">\n",
       "  <thead>\n",
       "    <tr style=\"text-align: right;\">\n",
       "      <th></th>\n",
       "      <th>track_id</th>\n",
       "      <th>albums</th>\n",
       "      <th>artists</th>\n",
       "      <th>genres</th>\n",
       "    </tr>\n",
       "  </thead>\n",
       "  <tbody>\n",
       "  </tbody>\n",
       "</table>\n",
       "</div>"
      ],
      "text/plain": [
       "Empty DataFrame\n",
       "Columns: [track_id, albums, artists, genres]\n",
       "Index: []"
      ]
     },
     "execution_count": 61,
     "metadata": {},
     "output_type": "execute_result"
    }
   ],
   "source": [
    "# получаем треки, которые не были прослушаны\n",
    "unlistened_tracks = tracks[~tracks['track_id'].isin(interactions['track_id'])]\n",
    "unlistened_tracks"
   ]
  },
  {
   "cell_type": "code",
   "execution_count": 62,
   "id": "9166db1c",
   "metadata": {},
   "outputs": [],
   "source": [
    "stage3_EDA=time.time()"
   ]
  },
  {
   "cell_type": "markdown",
   "id": "7b18eb1e",
   "metadata": {},
   "source": [
    "# выводы EDA\n",
    " - матрица U_I будет очень большой размерности\n",
    " - для экономии ресурсов можно вначале отфильтровать пользователей - убрать единичные прослушивание, похожих на роботов и все расчеты сделать только на части данных\n",
    " - также можно убрать треки с единичными прослушиваниями (добавим доп условие что для попадания в рекомендации трек должен быть прослушан хотя бы N раз) - это также уменьшит выборку\n",
    " - сервис в 22 году активно рос, наиболее популярные треки меняются с течением времени (для рекомендаций в конце года мало полезны популярные треки начала года)\n",
    " - популярность жанров также меняется со временем - например 3 и 4 место - electronics обгоняет allrock\n",
    " - в выборке представлены треки, прослушанные хотя бы 1 раз"
   ]
  },
  {
   "cell_type": "markdown",
   "id": "8e08bf68",
   "metadata": {},
   "source": [
    "Гипотезы - возможные признаки для генерации\n",
    "- жанр трека чистый/смешанный\n",
    "- исполнитель трека 1/несколько\n",
    "- сколько месяцев пользователь присутствует на сервисе\n",
    "- сколько треков пользователь прослушал\n",
    "- популярность треков среди пользователей за несколько месяцев (т.к. по результатам EDA выяснили, что предпочтения меняются)"
   ]
  },
  {
   "cell_type": "markdown",
   "id": "0d850a07-ef1e-462f-891a-1cf89f2e24ef",
   "metadata": {},
   "source": [
    "# Преобразование данных"
   ]
  },
  {
   "cell_type": "markdown",
   "id": "fabcf8d2-1192-4df5-b20b-fbb84689f57a",
   "metadata": {},
   "source": [
    "Преобразуем данные в формат, более пригодный для дальнейшего использования в расчётах рекомендаций."
   ]
  },
  {
   "cell_type": "markdown",
   "id": "8cac91dc",
   "metadata": {},
   "source": [
    "напомню что по результатам EDA принято решение фильтровать\n",
    " - треки (убирать редко прослушиваемые) good_tracks=tracks_count.query('user_count>@C')\n",
    " - пользователи (холодные и супер активные) good_interactions=interactions.query('user_id in @good_users')"
   ]
  },
  {
   "cell_type": "markdown",
   "id": "cdd79e72",
   "metadata": {},
   "source": [
    "# - таблица с треками"
   ]
  },
  {
   "cell_type": "code",
   "execution_count": 63,
   "id": "f428db78",
   "metadata": {},
   "outputs": [],
   "source": [
    "good_tracks_list=set(good_tracks['track_id'])"
   ]
  },
  {
   "cell_type": "code",
   "execution_count": 64,
   "id": "6d0a57e7",
   "metadata": {},
   "outputs": [],
   "source": [
    "tracks_0=tracks.query('track_id in @good_tracks_list')"
   ]
  },
  {
   "cell_type": "code",
   "execution_count": 65,
   "id": "822ab579",
   "metadata": {},
   "outputs": [],
   "source": [
    "#tracks.query('track_id not in @good_tracks_list')"
   ]
  },
  {
   "cell_type": "code",
   "execution_count": 66,
   "id": "babb130a",
   "metadata": {},
   "outputs": [],
   "source": [
    "tracks_1=tracks_0.merge(track_cat,left_on='track_id',right_on='id',how='left')\n",
    "tracks_1=tracks_1.drop(columns=['type','id'])"
   ]
  },
  {
   "cell_type": "code",
   "execution_count": 67,
   "id": "cdcea781",
   "metadata": {},
   "outputs": [],
   "source": [
    "#преобразование в словарь\n",
    "\n",
    "artists_names = artist_cat.set_index('id')['name'].to_dict()\n",
    "albums_names = album_cat.set_index('id')['name'].to_dict()\n",
    "genres_names = genre_cat.set_index('id')['name'].to_dict()"
   ]
  },
  {
   "cell_type": "code",
   "execution_count": 68,
   "id": "831bfdcd",
   "metadata": {},
   "outputs": [],
   "source": [
    "# лямбда для формирования кортежей с наименованиями на основе кортежей с ids\n",
    "func_albums_names = lambda x: tuple(map(albums_names.__getitem__, x))\n",
    "func_artists_names = lambda x: tuple(map(artists_names.__getitem__, x))\n",
    "func_genres_names = lambda x: tuple(map(genres_names.__getitem__, x))"
   ]
  },
  {
   "cell_type": "code",
   "execution_count": 69,
   "id": "c7770e47",
   "metadata": {},
   "outputs": [],
   "source": [
    "tracks_1['names_of_albums_'] = tracks_1['albums'].map(func_albums_names)\n",
    "tracks_1['names_of_artists'] = tracks_1['artists'].map(func_artists_names)"
   ]
  },
  {
   "cell_type": "code",
   "execution_count": 70,
   "id": "7cc176ff",
   "metadata": {},
   "outputs": [],
   "source": [
    "no_catalog_genrelist #неизвестные жанры\n",
    "#список треков с неизвестными жанрами\n",
    "tracks_no_catalog_genrelist=tracks_1.explode('genres').query('genres in @no_catalog_genrelist')['track_id']\n",
    "tracks_2=tracks_1.query('track_id not in @tracks_no_catalog_genrelist')\n"
   ]
  },
  {
   "cell_type": "markdown",
   "id": "e90411bd",
   "metadata": {},
   "source": [
    "# - таблица с активностью пользователей"
   ]
  },
  {
   "cell_type": "code",
   "execution_count": 71,
   "id": "a425556a-9382-45ca-a04e-f1981a522126",
   "metadata": {},
   "outputs": [],
   "source": [
    "interactions_1=good_interactions # фильтруем по пользователям"
   ]
  },
  {
   "cell_type": "code",
   "execution_count": 72,
   "id": "03cc1eba",
   "metadata": {},
   "outputs": [],
   "source": [
    "tracks_filter=set(tracks_2['track_id'])"
   ]
  },
  {
   "cell_type": "code",
   "execution_count": 73,
   "id": "bc9eb986",
   "metadata": {},
   "outputs": [],
   "source": [
    "interactions_2=interactions_1.query('track_id in @tracks_filter') # фильтруем по трекам "
   ]
  },
  {
   "cell_type": "markdown",
   "id": "d93a5853",
   "metadata": {},
   "source": [
    "# - пробуем уменьшить вес таблиц"
   ]
  },
  {
   "cell_type": "code",
   "execution_count": 74,
   "id": "220927ab",
   "metadata": {},
   "outputs": [
    {
     "name": "stdout",
     "output_type": "stream",
     "text": [
      "Память по столбцам:\n",
      "Index         1039175472\n",
      "user_id        519587736\n",
      "track_id       519587736\n",
      "track_seq      259793868\n",
      "started_at    1039175472\n",
      "month          519587736\n",
      "year           519587736\n",
      "in_tracks      129896934\n",
      "dtype: int64\n",
      "\n",
      "Общее использование памяти (в байтах): 4546392690\n"
     ]
    }
   ],
   "source": [
    "# проверка сколько ресурсов потребляет датафрем\n",
    "def memory_load(df):\n",
    "    memory_info = df.memory_usage(deep=True)\n",
    "    total_memory = memory_info.sum()\n",
    "    print(\"Память по столбцам:\")\n",
    "    print(memory_info)\n",
    "    print(\"\\nОбщее использование памяти (в байтах):\", total_memory)\n",
    "\n",
    "memory_load(interactions_2)"
   ]
  },
  {
   "cell_type": "code",
   "execution_count": 75,
   "id": "45ff27fb",
   "metadata": {},
   "outputs": [
    {
     "name": "stdout",
     "output_type": "stream",
     "text": [
      "Память по столбцам:\n",
      "Index               128\n",
      "user_id       519587736\n",
      "track_id      519587736\n",
      "track_seq     259793868\n",
      "started_at    259805084\n",
      "month         519587736\n",
      "year          519587736\n",
      "in_tracks     129896934\n",
      "dtype: int64\n",
      "\n",
      "Общее использование памяти (в байтах): 2727846958\n"
     ]
    }
   ],
   "source": [
    "interactions_2 = interactions_2.reset_index(drop=True)\n",
    "interactions_2['started_at'] = interactions_2['started_at'].astype('category')\n",
    "\n",
    "memory_load(interactions_2)"
   ]
  },
  {
   "cell_type": "code",
   "execution_count": 76,
   "id": "d06d1783",
   "metadata": {},
   "outputs": [
    {
     "name": "stdout",
     "output_type": "stream",
     "text": [
      "Память по столбцам:\n",
      "Index                2223152\n",
      "track_id             2223152\n",
      "albums              33347280\n",
      "artists             33347280\n",
      "genres              33347280\n",
      "name                26194757\n",
      "names_of_albums_    20650232\n",
      "names_of_artists    16209632\n",
      "dtype: int64\n",
      "\n",
      "Общее использование памяти (в байтах): 167542765\n"
     ]
    }
   ],
   "source": [
    "# проверка сколько ресурсов потребляет датафрем\n",
    "def memory_load(df):\n",
    "    memory_info = df.memory_usage(deep=True)\n",
    "    total_memory = memory_info.sum()\n",
    "    print(\"Память по столбцам:\")\n",
    "    print(memory_info)\n",
    "    print(\"\\nОбщее использование памяти (в байтах):\", total_memory)\n",
    "\n",
    "memory_load(tracks_2)"
   ]
  },
  {
   "cell_type": "markdown",
   "id": "c6635149",
   "metadata": {},
   "source": [
    "отфильтруем пока те столбцы, которые планируем использовать (если что - вернемся к этому шагу)"
   ]
  },
  {
   "cell_type": "code",
   "execution_count": 77,
   "id": "e7d0648c",
   "metadata": {},
   "outputs": [],
   "source": [
    "tracks_2_filt=tracks_2.drop(columns=['albums','artists'])"
   ]
  },
  {
   "cell_type": "code",
   "execution_count": 78,
   "id": "05ae1759",
   "metadata": {},
   "outputs": [
    {
     "name": "stdout",
     "output_type": "stream",
     "text": [
      "Память по столбцам:\n",
      "Index                2223152\n",
      "track_id             2223152\n",
      "genres              33347280\n",
      "name                26194757\n",
      "names_of_albums_    20650232\n",
      "names_of_artists    16209632\n",
      "dtype: int64\n",
      "\n",
      "Общее использование памяти (в байтах): 100848205\n"
     ]
    }
   ],
   "source": [
    "memory_load(tracks_2_filt)"
   ]
  },
  {
   "cell_type": "markdown",
   "id": "cfa06664",
   "metadata": {},
   "source": [
    "вывод - почти в 2 раза таблица с треками уменьшилась"
   ]
  },
  {
   "cell_type": "markdown",
   "id": "4d1be653-eed8-4fa0-a9c5-3811b080d71d",
   "metadata": {},
   "source": [
    "# Сохранение данных"
   ]
  },
  {
   "cell_type": "markdown",
   "id": "36f1314a-3af3-4faf-a0b1-3045173d1500",
   "metadata": {},
   "source": [
    "Сохраним данные в двух файлах в персональном S3-бакете по пути `recsys/data/`:\n",
    "- `items.parquet` — все данные о музыкальных треках,\n",
    "- `events.parquet` — все данные о взаимодействиях."
   ]
  },
  {
   "cell_type": "code",
   "execution_count": 79,
   "id": "9f77af17-7705-4fae-9aad-db579b39faad",
   "metadata": {},
   "outputs": [],
   "source": [
    "events = interactions_2.copy()"
   ]
  },
  {
   "cell_type": "code",
   "execution_count": 80,
   "id": "a2980330",
   "metadata": {},
   "outputs": [],
   "source": [
    "events.to_parquet('data/events.parquet')"
   ]
  },
  {
   "cell_type": "code",
   "execution_count": 81,
   "id": "e9acb07b",
   "metadata": {},
   "outputs": [],
   "source": [
    "items = tracks_2_filt.copy()"
   ]
  },
  {
   "cell_type": "code",
   "execution_count": 82,
   "id": "4681ecfc",
   "metadata": {},
   "outputs": [],
   "source": [
    "items.to_parquet('data/items.parquet')"
   ]
  },
  {
   "cell_type": "code",
   "execution_count": 83,
   "id": "027aa546",
   "metadata": {},
   "outputs": [],
   "source": [
    "stage4_save=time.time()"
   ]
  },
  {
   "cell_type": "markdown",
   "id": "72ecbbed-c560-44d9-9c14-86c7dc76f399",
   "metadata": {},
   "source": [
    "# Очистка памяти"
   ]
  },
  {
   "cell_type": "markdown",
   "id": "b5358ede-ba6e-4c4f-bd73-5b9344f0ba79",
   "metadata": {},
   "source": [
    "Здесь, может понадобится очистка памяти для высвобождения ресурсов для выполнения кода ниже. \n",
    "\n",
    "Приведите соответствующие код, комментарии, например:\n",
    "- код для удаление более ненужных переменных,\n",
    "- комментарий, что следует перезапустить kernel, выполнить такие-то начальные секции и продолжить с этапа 3."
   ]
  },
  {
   "cell_type": "code",
   "execution_count": 84,
   "id": "1724021d",
   "metadata": {},
   "outputs": [
    {
     "name": "stdout",
     "output_type": "stream",
     "text": [
      "Variable              Type         Data/Info\n",
      "--------------------------------------------\n",
      "a                     DataFrame       track_id  month  user_<...>9  track        Rampampam\n",
      "album_cat             DataFrame                  id   type  <...>[658724 rows x 3 columns]\n",
      "artist_cat            DataFrame                  id    type <...>[153581 rows x 3 columns]\n",
      "catalog_names         DataFrame                    id   type<...>1812471 rows x 3 columns]\n",
      "df                    DataFrame             user_id  track_c<...>1373221 rows x 2 columns]\n",
      "df_filter             DataFrame             user_id  track_c<...>[860108 rows x 2 columns]\n",
      "events                DataFrame               user_id   trac<...>9896934 rows x 7 columns]\n",
      "genre_cat             DataFrame              id   type      <...>n\\n[166 rows x 3 columns]\n",
      "good_interactions     DataFrame         user_id   track_id  <...>9515984 rows x 7 columns]\n",
      "good_tracks           DataFrame             track_id  user_c<...>[292025 rows x 2 columns]\n",
      "interactions          DataFrame         user_id   track_id  <...>2629898 rows x 7 columns]\n",
      "interactions_1        DataFrame         user_id   track_id  <...>9515984 rows x 7 columns]\n",
      "interactions_2        DataFrame               user_id   trac<...>9896934 rows x 7 columns]\n",
      "items                 DataFrame             track_id     gen<...>[277894 rows x 5 columns]\n",
      "pop_by_month          DataFrame              track_id  month<...>7133608 rows x 3 columns]\n",
      "test                  DataFrame       month  genres  track_i<...>    3  genre       rusrap\n",
      "test1_genre           DataFrame       month  genres  track_i<...>    3  genre       rusrap\n",
      "track_cat             DataFrame                    id   type<...>1000000 rows x 3 columns]\n",
      "tracks                DataFrame             track_id        <...>1000000 rows x 4 columns]\n",
      "tracks_0              DataFrame             track_id        <...>[292025 rows x 4 columns]\n",
      "tracks_1              DataFrame             track_id        <...>[292025 rows x 7 columns]\n",
      "tracks_2              DataFrame             track_id        <...>[277894 rows x 7 columns]\n",
      "tracks_2_filt         DataFrame             track_id     gen<...>[277894 rows x 5 columns]\n",
      "tracks_count          DataFrame            track_id  user_co<...>1000000 rows x 2 columns]\n",
      "tracks_filter_count   DataFrame       track_id  user_count  <...>                     Life\n",
      "unlistened_tracks     DataFrame    Empty DataFrame\\nColumns:<...>tists, genres]\\nIndex: []\n"
     ]
    }
   ],
   "source": [
    "%whos DataFrame"
   ]
  },
  {
   "cell_type": "markdown",
   "id": "844a2a45",
   "metadata": {},
   "source": [
    "на текущий момент очень много лишних объектов создано, чистим"
   ]
  },
  {
   "cell_type": "code",
   "execution_count": 85,
   "id": "2d3d85bd",
   "metadata": {},
   "outputs": [],
   "source": [
    "del tracks, tracks_0, tracks_1, tracks_2_filt, tracks_count, tracks_filter_count, unlistened_tracks, good_tracks #tracks_2 - пока оставим\n",
    "del interactions, interactions_1, interactions_2, good_interactions, events, \n",
    "del df, df_filter, a, album_cat,artist_cat, catalog_names\n",
    "del genre_cat, items, pop_by_month, test, test1_genre, track_cat, tracks_2"
   ]
  },
  {
   "cell_type": "code",
   "execution_count": 86,
   "id": "056c2f35",
   "metadata": {},
   "outputs": [
    {
     "name": "stdout",
     "output_type": "stream",
     "text": [
      "No variables match your requested type.\n"
     ]
    }
   ],
   "source": [
    "%whos DataFrame"
   ]
  },
  {
   "cell_type": "code",
   "execution_count": 87,
   "id": "4df118a4",
   "metadata": {},
   "outputs": [],
   "source": [
    "stage5_clean=time.time()"
   ]
  },
  {
   "cell_type": "markdown",
   "id": "708503df-ee89-4cf3-8489-093dc478e2a8",
   "metadata": {},
   "source": [
    "# === ЭТАП 3 ==="
   ]
  },
  {
   "cell_type": "markdown",
   "id": "fd77de22-e10f-4b42-85c1-8fb6f805fe68",
   "metadata": {},
   "source": [
    "# Загрузка данных"
   ]
  },
  {
   "cell_type": "markdown",
   "id": "780a4241-1ecd-4a3e-bbb3-fc2f6ca94f68",
   "metadata": {},
   "source": [
    "Если необходимо, то загружаем items.parquet, events.parquet."
   ]
  },
  {
   "cell_type": "code",
   "execution_count": 2,
   "id": "f19fc8a5-bd2c-40d7-864a-ee75aca6d512",
   "metadata": {},
   "outputs": [],
   "source": [
    "events_ = pd.read_parquet('data/events.parquet')"
   ]
  },
  {
   "cell_type": "code",
   "execution_count": 89,
   "id": "5db1e801-5845-4ce3-86f2-c2fa30f68cc5",
   "metadata": {},
   "outputs": [
    {
     "data": {
      "text/html": [
       "<div>\n",
       "<style scoped>\n",
       "    .dataframe tbody tr th:only-of-type {\n",
       "        vertical-align: middle;\n",
       "    }\n",
       "\n",
       "    .dataframe tbody tr th {\n",
       "        vertical-align: top;\n",
       "    }\n",
       "\n",
       "    .dataframe thead th {\n",
       "        text-align: right;\n",
       "    }\n",
       "</style>\n",
       "<table border=\"1\" class=\"dataframe\">\n",
       "  <thead>\n",
       "    <tr style=\"text-align: right;\">\n",
       "      <th></th>\n",
       "      <th>user_id</th>\n",
       "      <th>track_id</th>\n",
       "      <th>track_seq</th>\n",
       "      <th>started_at</th>\n",
       "      <th>month</th>\n",
       "      <th>year</th>\n",
       "      <th>in_tracks</th>\n",
       "    </tr>\n",
       "  </thead>\n",
       "  <tbody>\n",
       "    <tr>\n",
       "      <th>0</th>\n",
       "      <td>1</td>\n",
       "      <td>24417</td>\n",
       "      <td>1</td>\n",
       "      <td>2022-06-11</td>\n",
       "      <td>6</td>\n",
       "      <td>2022</td>\n",
       "      <td>True</td>\n",
       "    </tr>\n",
       "    <tr>\n",
       "      <th>1</th>\n",
       "      <td>1</td>\n",
       "      <td>108208</td>\n",
       "      <td>2</td>\n",
       "      <td>2022-06-13</td>\n",
       "      <td>6</td>\n",
       "      <td>2022</td>\n",
       "      <td>True</td>\n",
       "    </tr>\n",
       "    <tr>\n",
       "      <th>2</th>\n",
       "      <td>1</td>\n",
       "      <td>108209</td>\n",
       "      <td>3</td>\n",
       "      <td>2022-06-13</td>\n",
       "      <td>6</td>\n",
       "      <td>2022</td>\n",
       "      <td>True</td>\n",
       "    </tr>\n",
       "    <tr>\n",
       "      <th>3</th>\n",
       "      <td>1</td>\n",
       "      <td>592642</td>\n",
       "      <td>4</td>\n",
       "      <td>2022-06-15</td>\n",
       "      <td>6</td>\n",
       "      <td>2022</td>\n",
       "      <td>True</td>\n",
       "    </tr>\n",
       "    <tr>\n",
       "      <th>4</th>\n",
       "      <td>1</td>\n",
       "      <td>628687</td>\n",
       "      <td>5</td>\n",
       "      <td>2022-06-15</td>\n",
       "      <td>6</td>\n",
       "      <td>2022</td>\n",
       "      <td>True</td>\n",
       "    </tr>\n",
       "  </tbody>\n",
       "</table>\n",
       "</div>"
      ],
      "text/plain": [
       "   user_id  track_id  track_seq started_at  month  year  in_tracks\n",
       "0        1     24417          1 2022-06-11      6  2022       True\n",
       "1        1    108208          2 2022-06-13      6  2022       True\n",
       "2        1    108209          3 2022-06-13      6  2022       True\n",
       "3        1    592642          4 2022-06-15      6  2022       True\n",
       "4        1    628687          5 2022-06-15      6  2022       True"
      ]
     },
     "execution_count": 89,
     "metadata": {},
     "output_type": "execute_result"
    }
   ],
   "source": [
    "events_.head(5)"
   ]
  },
  {
   "cell_type": "code",
   "execution_count": 3,
   "id": "8bc160cb",
   "metadata": {},
   "outputs": [],
   "source": [
    "items_=pd.read_parquet('data/items.parquet')"
   ]
  },
  {
   "cell_type": "code",
   "execution_count": 91,
   "id": "91d09ddc",
   "metadata": {},
   "outputs": [
    {
     "data": {
      "text/html": [
       "<div>\n",
       "<style scoped>\n",
       "    .dataframe tbody tr th:only-of-type {\n",
       "        vertical-align: middle;\n",
       "    }\n",
       "\n",
       "    .dataframe tbody tr th {\n",
       "        vertical-align: top;\n",
       "    }\n",
       "\n",
       "    .dataframe thead th {\n",
       "        text-align: right;\n",
       "    }\n",
       "</style>\n",
       "<table border=\"1\" class=\"dataframe\">\n",
       "  <thead>\n",
       "    <tr style=\"text-align: right;\">\n",
       "      <th></th>\n",
       "      <th>track_id</th>\n",
       "      <th>genres</th>\n",
       "      <th>name</th>\n",
       "      <th>names_of_albums_</th>\n",
       "      <th>names_of_artists</th>\n",
       "    </tr>\n",
       "  </thead>\n",
       "  <tbody>\n",
       "    <tr>\n",
       "      <th>0</th>\n",
       "      <td>141</td>\n",
       "      <td>[11]</td>\n",
       "      <td>Never Forget You</td>\n",
       "      <td>[Wild Young Hearts, Wild Young Hearts, I Am Wo...</td>\n",
       "      <td>[Noisettes]</td>\n",
       "    </tr>\n",
       "    <tr>\n",
       "      <th>1</th>\n",
       "      <td>146</td>\n",
       "      <td>[59, 102]</td>\n",
       "      <td>I'm Goin' Mad</td>\n",
       "      <td>[Lonesome Crow, Lonesome Crow]</td>\n",
       "      <td>[Scorpions]</td>\n",
       "    </tr>\n",
       "    <tr>\n",
       "      <th>2</th>\n",
       "      <td>148</td>\n",
       "      <td>[59, 102]</td>\n",
       "      <td>It All Depends</td>\n",
       "      <td>[Lonesome Crow, Gold, Lonesome Crow]</td>\n",
       "      <td>[Scorpions]</td>\n",
       "    </tr>\n",
       "    <tr>\n",
       "      <th>3</th>\n",
       "      <td>151</td>\n",
       "      <td>[59, 102]</td>\n",
       "      <td>Inheritance</td>\n",
       "      <td>[Lonesome Crow, Lonesome Crow, Krautrock]</td>\n",
       "      <td>[Scorpions]</td>\n",
       "    </tr>\n",
       "    <tr>\n",
       "      <th>4</th>\n",
       "      <td>353</td>\n",
       "      <td>[11]</td>\n",
       "      <td>Sunny Mystery</td>\n",
       "      <td>[Foot Of The Mountain]</td>\n",
       "      <td>[a-ha]</td>\n",
       "    </tr>\n",
       "  </tbody>\n",
       "</table>\n",
       "</div>"
      ],
      "text/plain": [
       "   track_id     genres              name  \\\n",
       "0       141       [11]  Never Forget You   \n",
       "1       146  [59, 102]     I'm Goin' Mad   \n",
       "2       148  [59, 102]    It All Depends   \n",
       "3       151  [59, 102]       Inheritance   \n",
       "4       353       [11]     Sunny Mystery   \n",
       "\n",
       "                                    names_of_albums_ names_of_artists  \n",
       "0  [Wild Young Hearts, Wild Young Hearts, I Am Wo...      [Noisettes]  \n",
       "1                     [Lonesome Crow, Lonesome Crow]      [Scorpions]  \n",
       "2               [Lonesome Crow, Gold, Lonesome Crow]      [Scorpions]  \n",
       "3          [Lonesome Crow, Lonesome Crow, Krautrock]      [Scorpions]  \n",
       "4                             [Foot Of The Mountain]           [a-ha]  "
      ]
     },
     "execution_count": 91,
     "metadata": {},
     "output_type": "execute_result"
    }
   ],
   "source": [
    "items_.head(5)"
   ]
  },
  {
   "cell_type": "code",
   "execution_count": 92,
   "id": "1f0d694b",
   "metadata": {},
   "outputs": [],
   "source": [
    "stage6_import=time.time()"
   ]
  },
  {
   "cell_type": "markdown",
   "id": "a694c023-6477-490b-939d-1cfa6f5f1b72",
   "metadata": {},
   "source": [
    "# Разбиение данных"
   ]
  },
  {
   "cell_type": "markdown",
   "id": "fbd5f6e0-54e7-4428-8678-eabce505d82c",
   "metadata": {},
   "source": [
    "Разбиваем данные на тренировочную, тестовую выборки."
   ]
  },
  {
   "cell_type": "code",
   "execution_count": 4,
   "id": "00c2dfa5-d8a2-47d1-922e-6eefee2c62d1",
   "metadata": {},
   "outputs": [],
   "source": [
    "# зададим точку разбиения (сразу учтем что для модели ранжирования нужна будет доп разбивка для получения таргетов)\n",
    "#пробую сделать разбивку с 01.12 по 15.12 и с 15.12 по 31.12. качество измеряю с 15 по 31.12\n",
    "train_test_global_time_split_date = pd.to_datetime('2022-12-01')#('2022-12-20')\n",
    "train_test_global_time_split_idx = events_[\"started_at\"] < train_test_global_time_split_date\n",
    "for_test=events_[\"started_at\"] > pd.to_datetime('2022-12-15')\n",
    "for_catboost=(train_test_global_time_split_date<=events_[\"started_at\"])&(events_[\"started_at\"] <= pd.to_datetime('2022-12-15'))\n",
    "\n",
    "events_train = events_[train_test_global_time_split_idx]\n",
    "events_catboost=events_[for_catboost]\n",
    "events_test = events_[for_test]"
   ]
  },
  {
   "cell_type": "code",
   "execution_count": 94,
   "id": "201280e3",
   "metadata": {},
   "outputs": [],
   "source": [
    "#проверяю даты\n",
    "#events_train['started_at'].min()"
   ]
  },
  {
   "cell_type": "markdown",
   "id": "9bdaea02",
   "metadata": {},
   "source": [
    "количество пользователей"
   ]
  },
  {
   "cell_type": "code",
   "execution_count": 5,
   "id": "c508246f",
   "metadata": {},
   "outputs": [
    {
     "name": "stdout",
     "output_type": "stream",
     "text": [
      "818450 483885 859810 597998\n"
     ]
    }
   ],
   "source": [
    "# в train и test\n",
    "users_train = events_train[\"user_id\"].drop_duplicates()\n",
    "users_test = events_test[\"user_id\"].drop_duplicates()\n",
    "users_catboost = events_catboost[\"user_id\"].drop_duplicates()\n",
    "\n",
    "# количество пользователей, которые есть и в train, и в test\n",
    "common_users = events_[\"user_id\"].drop_duplicates()\n",
    "\n",
    "print(len(users_train), len(users_test), len(common_users),len(users_catboost)) "
   ]
  },
  {
   "cell_type": "code",
   "execution_count": 6,
   "id": "5b8df597",
   "metadata": {},
   "outputs": [],
   "source": [
    "#делаю датафреймы с тест/train и всеми пользователями\n",
    "\n",
    "pd_users_test=pd.DataFrame(users_test)\n",
    "pd_users_test['name']='test'\n",
    "\n",
    "pd_users_train=pd.DataFrame(users_train)\n",
    "pd_users_train['name_train']='train'\n",
    "\n",
    "pd_common_users=pd.DataFrame(common_users)\n",
    "pd_common_users['all']='all'\n",
    "\n",
    "pd_users_catboost=pd.DataFrame(users_train)\n",
    "pd_users_catboost['name_cat']='catboost'"
   ]
  },
  {
   "cell_type": "markdown",
   "id": "a3104031",
   "metadata": {},
   "source": [
    "для наглядности общая таблица пользователей с пометками наличия в тренировочной/тестовой выборке - USER"
   ]
  },
  {
   "cell_type": "code",
   "execution_count": 7,
   "id": "ff193fb1",
   "metadata": {},
   "outputs": [
    {
     "data": {
      "text/plain": [
       "user_id       41107\n",
       "all           41107\n",
       "name          41107\n",
       "name_train    41107\n",
       "name_cat      41107\n",
       "dtype: int64"
      ]
     },
     "execution_count": 7,
     "metadata": {},
     "output_type": "execute_result"
    }
   ],
   "source": [
    "#получились холодные пользователм\n",
    "USERS = pd_common_users.set_index('user_id').join([pd_users_test.set_index('user_id'),pd_users_train.set_index('user_id'),pd_users_catboost.set_index('user_id')],how='left').reset_index().fillna(0)\n",
    "USERS.query('name==\"test\" and name_train!=\"train\"').count()"
   ]
  },
  {
   "cell_type": "markdown",
   "id": "dac08b89",
   "metadata": {},
   "source": [
    "можем посчитать долю пользователей, которые попали в обе выборки от общей выборки тестовой"
   ]
  },
  {
   "cell_type": "code",
   "execution_count": 8,
   "id": "2f2a5f44",
   "metadata": {},
   "outputs": [
    {
     "name": "stdout",
     "output_type": "stream",
     "text": [
      "пользователи в 2х выборках - 442778, что составляет 0.915 от общих пользователей теста\n"
     ]
    }
   ],
   "source": [
    "both_users=len(USERS.query('name==\"test\" and name_train==\"train\"'))\n",
    "\n",
    "print(f\"пользователи в 2х выборках - {both_users}, что составляет {round(both_users/len(users_test),3)} от общих пользователей теста\")"
   ]
  },
  {
   "cell_type": "markdown",
   "id": "68f0bbb0",
   "metadata": {},
   "source": [
    "посчитаем количество \"холодных\" пользователей"
   ]
  },
  {
   "cell_type": "code",
   "execution_count": 9,
   "id": "d05e7c99",
   "metadata": {},
   "outputs": [
    {
     "data": {
      "text/plain": [
       "41107"
      ]
     },
     "execution_count": 9,
     "metadata": {},
     "output_type": "execute_result"
    }
   ],
   "source": [
    "cold_users_=USERS.query('name!=0 and name_train==0')['user_id']\n",
    "len(cold_users_)"
   ]
  },
  {
   "cell_type": "markdown",
   "id": "3c3a2970",
   "metadata": {},
   "source": [
    "Вывод - в целом хорошее получилось разделение, 90% общих пользователей, холодных пользователей 10%, событий train ~в 2 раза больше, чем в тесте"
   ]
  },
  {
   "cell_type": "code",
   "execution_count": 100,
   "id": "fe3bd483",
   "metadata": {},
   "outputs": [],
   "source": [
    "stage7_split=time.time()"
   ]
  },
  {
   "cell_type": "markdown",
   "id": "9131c7e6-8852-4556-b510-51f7253cc299",
   "metadata": {},
   "source": [
    "# Топ популярных"
   ]
  },
  {
   "cell_type": "markdown",
   "id": "dd70d43a-88cc-4719-b291-feaed7136f30",
   "metadata": {},
   "source": [
    "Рассчитаем рекомендации как топ популярных."
   ]
  },
  {
   "cell_type": "code",
   "execution_count": 101,
   "id": "e1f644c1",
   "metadata": {},
   "outputs": [
    {
     "data": {
      "text/html": [
       "<div>\n",
       "<style scoped>\n",
       "    .dataframe tbody tr th:only-of-type {\n",
       "        vertical-align: middle;\n",
       "    }\n",
       "\n",
       "    .dataframe tbody tr th {\n",
       "        vertical-align: top;\n",
       "    }\n",
       "\n",
       "    .dataframe thead th {\n",
       "        text-align: right;\n",
       "    }\n",
       "</style>\n",
       "<table border=\"1\" class=\"dataframe\">\n",
       "  <thead>\n",
       "    <tr style=\"text-align: right;\">\n",
       "      <th></th>\n",
       "      <th>track_id</th>\n",
       "      <th>track_count</th>\n",
       "    </tr>\n",
       "  </thead>\n",
       "  <tbody>\n",
       "    <tr>\n",
       "      <th>3350</th>\n",
       "      <td>53404</td>\n",
       "      <td>79594</td>\n",
       "    </tr>\n",
       "    <tr>\n",
       "      <th>9177</th>\n",
       "      <td>178529</td>\n",
       "      <td>72976</td>\n",
       "    </tr>\n",
       "    <tr>\n",
       "      <th>129285</th>\n",
       "      <td>33311009</td>\n",
       "      <td>68590</td>\n",
       "    </tr>\n",
       "    <tr>\n",
       "      <th>137329</th>\n",
       "      <td>35505245</td>\n",
       "      <td>68458</td>\n",
       "    </tr>\n",
       "    <tr>\n",
       "      <th>27795</th>\n",
       "      <td>795836</td>\n",
       "      <td>59153</td>\n",
       "    </tr>\n",
       "  </tbody>\n",
       "</table>\n",
       "</div>"
      ],
      "text/plain": [
       "        track_id  track_count\n",
       "3350       53404        79594\n",
       "9177      178529        72976\n",
       "129285  33311009        68590\n",
       "137329  35505245        68458\n",
       "27795     795836        59153"
      ]
     },
     "execution_count": 101,
     "metadata": {},
     "output_type": "execute_result"
    }
   ],
   "source": [
    "item_popularity = events_train.groupby('track_id').agg(track_count=(\"user_id\",\"count\")).reset_index().sort_values(by='track_count',ascending=False)\n",
    "item_popularity.head(5)"
   ]
  },
  {
   "cell_type": "markdown",
   "id": "ea523cc2",
   "metadata": {},
   "source": [
    "Нормализация"
   ]
  },
  {
   "cell_type": "code",
   "execution_count": 102,
   "id": "6198d856",
   "metadata": {},
   "outputs": [
    {
     "data": {
      "text/html": [
       "<div>\n",
       "<style scoped>\n",
       "    .dataframe tbody tr th:only-of-type {\n",
       "        vertical-align: middle;\n",
       "    }\n",
       "\n",
       "    .dataframe tbody tr th {\n",
       "        vertical-align: top;\n",
       "    }\n",
       "\n",
       "    .dataframe thead th {\n",
       "        text-align: right;\n",
       "    }\n",
       "</style>\n",
       "<table border=\"1\" class=\"dataframe\">\n",
       "  <thead>\n",
       "    <tr style=\"text-align: right;\">\n",
       "      <th></th>\n",
       "      <th>track_id</th>\n",
       "      <th>score</th>\n",
       "    </tr>\n",
       "  </thead>\n",
       "  <tbody>\n",
       "    <tr>\n",
       "      <th>3350</th>\n",
       "      <td>53404</td>\n",
       "      <td>1.00</td>\n",
       "    </tr>\n",
       "    <tr>\n",
       "      <th>9177</th>\n",
       "      <td>178529</td>\n",
       "      <td>0.92</td>\n",
       "    </tr>\n",
       "    <tr>\n",
       "      <th>129285</th>\n",
       "      <td>33311009</td>\n",
       "      <td>0.86</td>\n",
       "    </tr>\n",
       "    <tr>\n",
       "      <th>137329</th>\n",
       "      <td>35505245</td>\n",
       "      <td>0.86</td>\n",
       "    </tr>\n",
       "    <tr>\n",
       "      <th>27795</th>\n",
       "      <td>795836</td>\n",
       "      <td>0.74</td>\n",
       "    </tr>\n",
       "  </tbody>\n",
       "</table>\n",
       "</div>"
      ],
      "text/plain": [
       "        track_id  score\n",
       "3350       53404   1.00\n",
       "9177      178529   0.92\n",
       "129285  33311009   0.86\n",
       "137329  35505245   0.86\n",
       "27795     795836   0.74"
      ]
     },
     "execution_count": 102,
     "metadata": {},
     "output_type": "execute_result"
    }
   ],
   "source": [
    "x_min=item_popularity['track_count'].min()\n",
    "x_max=item_popularity['track_count'].max()\n",
    "item_popularity['score']=round(item_popularity['track_count'].apply(lambda x: (x-x_min)/(x_max-x_min)),2)\n",
    "top_k_pop_items=item_popularity[[\"track_id\",\"score\"]].head(5) #остановимся на 5 лучших (чтобы не получать очевидных рекоммендаций)\n",
    "top_k_pop_items"
   ]
  },
  {
   "cell_type": "markdown",
   "id": "4980d40e",
   "metadata": {},
   "source": [
    "Популярные треки с названиями"
   ]
  },
  {
   "cell_type": "code",
   "execution_count": 103,
   "id": "1aac15d5",
   "metadata": {},
   "outputs": [
    {
     "data": {
      "text/html": [
       "<div>\n",
       "<style scoped>\n",
       "    .dataframe tbody tr th:only-of-type {\n",
       "        vertical-align: middle;\n",
       "    }\n",
       "\n",
       "    .dataframe tbody tr th {\n",
       "        vertical-align: top;\n",
       "    }\n",
       "\n",
       "    .dataframe thead th {\n",
       "        text-align: right;\n",
       "    }\n",
       "</style>\n",
       "<table border=\"1\" class=\"dataframe\">\n",
       "  <thead>\n",
       "    <tr style=\"text-align: right;\">\n",
       "      <th></th>\n",
       "      <th>track_id</th>\n",
       "      <th>score</th>\n",
       "      <th>name</th>\n",
       "    </tr>\n",
       "  </thead>\n",
       "  <tbody>\n",
       "    <tr>\n",
       "      <th>0</th>\n",
       "      <td>53404</td>\n",
       "      <td>1.00</td>\n",
       "      <td>Smells Like Teen Spirit</td>\n",
       "    </tr>\n",
       "    <tr>\n",
       "      <th>1</th>\n",
       "      <td>178529</td>\n",
       "      <td>0.92</td>\n",
       "      <td>Numb</td>\n",
       "    </tr>\n",
       "    <tr>\n",
       "      <th>2</th>\n",
       "      <td>33311009</td>\n",
       "      <td>0.86</td>\n",
       "      <td>Believer</td>\n",
       "    </tr>\n",
       "    <tr>\n",
       "      <th>3</th>\n",
       "      <td>35505245</td>\n",
       "      <td>0.86</td>\n",
       "      <td>I Got Love</td>\n",
       "    </tr>\n",
       "    <tr>\n",
       "      <th>4</th>\n",
       "      <td>795836</td>\n",
       "      <td>0.74</td>\n",
       "      <td>Shape Of My Heart</td>\n",
       "    </tr>\n",
       "  </tbody>\n",
       "</table>\n",
       "</div>"
      ],
      "text/plain": [
       "   track_id  score                     name\n",
       "0     53404   1.00  Smells Like Teen Spirit\n",
       "1    178529   0.92                     Numb\n",
       "2  33311009   0.86                 Believer\n",
       "3  35505245   0.86               I Got Love\n",
       "4    795836   0.74        Shape Of My Heart"
      ]
     },
     "execution_count": 103,
     "metadata": {},
     "output_type": "execute_result"
    }
   ],
   "source": [
    "top_k_pop_items_names=top_k_pop_items.merge(items_,on='track_id',how='left')[['track_id','score','name']]\n",
    "top_k_pop_items_names"
   ]
  },
  {
   "cell_type": "markdown",
   "id": "f5126cd2",
   "metadata": {},
   "source": [
    "Получили рекомендации по умолчанию - default recommendations"
   ]
  },
  {
   "cell_type": "markdown",
   "id": "e15ebac2",
   "metadata": {},
   "source": [
    "оценим их качество - соотнесем с событиями из теста"
   ]
  },
  {
   "cell_type": "code",
   "execution_count": 104,
   "id": "25c57506",
   "metadata": {},
   "outputs": [
    {
     "name": "stdout",
     "output_type": "stream",
     "text": [
      "доля пользователей использующих default rec - 0.14214124115114213\n"
     ]
    }
   ],
   "source": [
    "cold_users_with_recs=events_test[events_test[\"user_id\"].isin(cold_users_)].merge(top_k_pop_items_names,on='track_id',how='left')\n",
    "\n",
    "cold_users_with_recs_len=cold_users_with_recs['user_id'].nunique()\n",
    "cold_users_with_recs_positive_len=len(cold_users_with_recs.query('score>0'))\n",
    "print(f\"доля пользователей использующих default rec - {cold_users_with_recs_positive_len/cold_users_with_recs_len}\")"
   ]
  },
  {
   "cell_type": "markdown",
   "id": "8474791a",
   "metadata": {},
   "source": [
    "25 % пользователей - для старта хороший показатель\n",
    " - вывод - треки из top_k_pop достаточно популярны\n",
    " - Такие рекомендации полезны, но их нельзя назвать персональными"
   ]
  },
  {
   "cell_type": "code",
   "execution_count": 105,
   "id": "7f6eabd2",
   "metadata": {},
   "outputs": [],
   "source": [
    "top_k_pop_items_names.to_parquet('recs/top_k_pop_items_names.parquet')"
   ]
  },
  {
   "cell_type": "code",
   "execution_count": 106,
   "id": "f71af0ab",
   "metadata": {},
   "outputs": [
    {
     "data": {
      "text/html": [
       "<div>\n",
       "<style scoped>\n",
       "    .dataframe tbody tr th:only-of-type {\n",
       "        vertical-align: middle;\n",
       "    }\n",
       "\n",
       "    .dataframe tbody tr th {\n",
       "        vertical-align: top;\n",
       "    }\n",
       "\n",
       "    .dataframe thead th {\n",
       "        text-align: right;\n",
       "    }\n",
       "</style>\n",
       "<table border=\"1\" class=\"dataframe\">\n",
       "  <thead>\n",
       "    <tr style=\"text-align: right;\">\n",
       "      <th></th>\n",
       "      <th>user_id</th>\n",
       "      <th>track_id</th>\n",
       "      <th>score</th>\n",
       "    </tr>\n",
       "  </thead>\n",
       "  <tbody>\n",
       "    <tr>\n",
       "      <th>0</th>\n",
       "      <td>3</td>\n",
       "      <td>53404</td>\n",
       "      <td>1.00</td>\n",
       "    </tr>\n",
       "    <tr>\n",
       "      <th>1</th>\n",
       "      <td>3</td>\n",
       "      <td>178529</td>\n",
       "      <td>0.92</td>\n",
       "    </tr>\n",
       "    <tr>\n",
       "      <th>2</th>\n",
       "      <td>3</td>\n",
       "      <td>33311009</td>\n",
       "      <td>0.86</td>\n",
       "    </tr>\n",
       "    <tr>\n",
       "      <th>3</th>\n",
       "      <td>3</td>\n",
       "      <td>35505245</td>\n",
       "      <td>0.86</td>\n",
       "    </tr>\n",
       "    <tr>\n",
       "      <th>4</th>\n",
       "      <td>3</td>\n",
       "      <td>795836</td>\n",
       "      <td>0.74</td>\n",
       "    </tr>\n",
       "  </tbody>\n",
       "</table>\n",
       "</div>"
      ],
      "text/plain": [
       "   user_id  track_id  score\n",
       "0        3     53404   1.00\n",
       "1        3    178529   0.92\n",
       "2        3  33311009   0.86\n",
       "3        3  35505245   0.86\n",
       "4        3    795836   0.74"
      ]
     },
     "execution_count": 106,
     "metadata": {},
     "output_type": "execute_result"
    }
   ],
   "source": [
    "recom_top = (\n",
    "    events_test[['user_id']]\n",
    "    .drop_duplicates()\n",
    "    .reset_index(drop=True)\n",
    "    .merge(top_k_pop_items_names, how='cross')\n",
    "    .reset_index(drop=True)\n",
    ")[['user_id','track_id','score']]\n",
    "recom_top.head(5)"
   ]
  },
  {
   "cell_type": "markdown",
   "id": "515a340f",
   "metadata": {},
   "source": [
    "Сохраняем локально"
   ]
  },
  {
   "cell_type": "code",
   "execution_count": 107,
   "id": "2164ec60",
   "metadata": {},
   "outputs": [],
   "source": [
    "recom_top.to_parquet(\"recs/top_popular.parquet\")"
   ]
  },
  {
   "cell_type": "code",
   "execution_count": 108,
   "id": "5fc810f4",
   "metadata": {},
   "outputs": [],
   "source": [
    "stage8_pop=time.time()"
   ]
  },
  {
   "cell_type": "markdown",
   "id": "2ad231f2-6158-421a-b7fa-01d8bc3ed572",
   "metadata": {},
   "source": [
    "# Персональные"
   ]
  },
  {
   "cell_type": "markdown",
   "id": "86159460-cd9d-4b63-8248-604ea3c9aebf",
   "metadata": {},
   "source": [
    "Рассчитаем персональные рекомендации."
   ]
  },
  {
   "cell_type": "markdown",
   "id": "3a16e9f6",
   "metadata": {},
   "source": [
    "Для начала оценим разреженность оценок"
   ]
  },
  {
   "cell_type": "code",
   "execution_count": 109,
   "id": "d2944822-569c-4f9b-82dc-70a7fa2d542e",
   "metadata": {},
   "outputs": [
    {
     "data": {
      "text/plain": [
       "0.04791488246902202"
      ]
     },
     "execution_count": 109,
     "metadata": {},
     "output_type": "execute_result"
    }
   ],
   "source": [
    "a=events_train['user_id'].nunique()\n",
    "b=events_train['track_id'].nunique()\n",
    "c=len(events_train)\n",
    "c/(a*b)*100\n",
    "#всего вариантов a*b\n",
    "#значений в U-I матрице заполнено, матрица сильно разрежена"
   ]
  },
  {
   "cell_type": "markdown",
   "id": "9839631f",
   "metadata": {},
   "source": [
    "5% матрицы пользователь - трек заполнено"
   ]
  },
  {
   "cell_type": "markdown",
   "id": "81a3b219",
   "metadata": {},
   "source": [
    "перекодируем идентификаторы пользователей из имеющихся в последовательность 0, 1, 2, ..."
   ]
  },
  {
   "cell_type": "code",
   "execution_count": 111,
   "id": "124b7f30",
   "metadata": {},
   "outputs": [],
   "source": [
    "user_encoder = sklearn.preprocessing.LabelEncoder()\n",
    "user_encoder.fit(events_[\"user_id\"])\n",
    "events_train[\"user_id_enc\"] = user_encoder.transform(events_train[\"user_id\"])"
   ]
  },
  {
   "cell_type": "markdown",
   "id": "2bb1c54a",
   "metadata": {},
   "source": [
    "перекодируем идентификаторы объектов из имеющихся в последовательность 0, 1, 2, ..."
   ]
  },
  {
   "cell_type": "code",
   "execution_count": 112,
   "id": "1c4661b9",
   "metadata": {},
   "outputs": [],
   "source": [
    "item_encoder = sklearn.preprocessing.LabelEncoder()\n",
    "item_encoder.fit(items_[\"track_id\"])\n",
    "items_[\"track_id_enc\"] = item_encoder.transform(items_[\"track_id\"])\n",
    "events_train[\"track_id_enc\"] = item_encoder.transform(events_train[\"track_id\"])"
   ]
  },
  {
   "cell_type": "markdown",
   "id": "93786141",
   "metadata": {},
   "source": [
    "создаём sparse-матрицу формата CSR "
   ]
  },
  {
   "cell_type": "code",
   "execution_count": 113,
   "id": "86170b34",
   "metadata": {},
   "outputs": [
    {
     "data": {
      "text/plain": [
       "<Compressed Sparse Row sparse matrix of dtype 'int8'\n",
       "\twith 108976379 stored elements and shape (859810, 277894)>"
      ]
     },
     "execution_count": 113,
     "metadata": {},
     "output_type": "execute_result"
    }
   ],
   "source": [
    "user_item_matrix_train = scipy.sparse.csr_matrix((\n",
    "    np.ones(len(events_train)),\n",
    "    (events_train['user_id_enc'], events_train['track_id_enc'])),\n",
    "    dtype=np.int8)\n",
    "\n",
    "user_item_matrix_train #матрица пользователь треки"
   ]
  },
  {
   "cell_type": "code",
   "execution_count": 114,
   "id": "c284f259",
   "metadata": {},
   "outputs": [
    {
     "name": "stderr",
     "output_type": "stream",
     "text": [
      "100%|██████████| 10/10 [03:25<00:00, 20.50s/it]\n"
     ]
    }
   ],
   "source": [
    "#получим рейтинги на основе коллаборативных фильтраций на основе ALS\n",
    "als_model = AlternatingLeastSquares(factors=40, iterations=10, regularization=0.05, random_state=0)\n",
    "als_model.fit(user_item_matrix_train)"
   ]
  },
  {
   "cell_type": "code",
   "execution_count": 115,
   "id": "7a7977af",
   "metadata": {},
   "outputs": [],
   "source": [
    "with open('models/als_model.pkl', 'wb') as f:\n",
    "       pickle.dump(als_model, f)"
   ]
  },
  {
   "cell_type": "code",
   "execution_count": 116,
   "id": "5c0e58e3",
   "metadata": {},
   "outputs": [],
   "source": [
    "with open('models/als_model.pkl', 'rb') as f:\n",
    "    als_model = pickle.load(f)"
   ]
  },
  {
   "cell_type": "markdown",
   "id": "3c97eec3",
   "metadata": {},
   "source": [
    "Чтобы получить рекомендации для пользователя с помощью модели ALS, использую такую функцию:"
   ]
  },
  {
   "cell_type": "code",
   "execution_count": 117,
   "id": "c4aa470e",
   "metadata": {},
   "outputs": [],
   "source": [
    "def get_recommendations_als(user_item_matrix, model, user_id, user_encoder, item_encoder, include_seen=True, n=5):\n",
    "    \"\"\"\n",
    "    Возвращает отранжированные рекомендации для заданного пользователя\n",
    "    \"\"\"\n",
    "    user_id_enc = user_encoder.transform([user_id])[0]\n",
    "    recommendations = model.recommend(\n",
    "         user_id_enc, \n",
    "         user_item_matrix[user_id_enc], \n",
    "         filter_already_liked_items=not include_seen,\n",
    "         N=n)\n",
    "    recommendations = pd.DataFrame({\"item_id_enc\": recommendations[0], \"score\": recommendations[1]})\n",
    "    recommendations[\"item_id\"] = item_encoder.inverse_transform(recommendations[\"item_id_enc\"])\n",
    "    \n",
    "    return recommendations"
   ]
  },
  {
   "cell_type": "markdown",
   "id": "bc6da85d",
   "metadata": {},
   "source": [
    "смотрим пример рекоммендаций (выберем случайного пользователя, который есть в обеих выборках train и test)"
   ]
  },
  {
   "cell_type": "code",
   "execution_count": 118,
   "id": "7b29b1d2",
   "metadata": {},
   "outputs": [
    {
     "data": {
      "text/plain": [
       "1076955"
      ]
     },
     "execution_count": 118,
     "metadata": {},
     "output_type": "execute_result"
    }
   ],
   "source": [
    "both_=USERS.query('name==\"test\" and name_train==\"train\"').reset_index()['user_id']\n",
    "user_id_example=events_train.query('user_id in @both_')['user_id'].sample().iat[0]\n",
    "user_id_example"
   ]
  },
  {
   "cell_type": "markdown",
   "id": "54a3019f",
   "metadata": {},
   "source": [
    "используя обученную модель, получим рекомендации для пользователя"
   ]
  },
  {
   "cell_type": "code",
   "execution_count": 119,
   "id": "798fb065",
   "metadata": {},
   "outputs": [
    {
     "data": {
      "text/html": [
       "<div>\n",
       "<style scoped>\n",
       "    .dataframe tbody tr th:only-of-type {\n",
       "        vertical-align: middle;\n",
       "    }\n",
       "\n",
       "    .dataframe tbody tr th {\n",
       "        vertical-align: top;\n",
       "    }\n",
       "\n",
       "    .dataframe thead th {\n",
       "        text-align: right;\n",
       "    }\n",
       "</style>\n",
       "<table border=\"1\" class=\"dataframe\">\n",
       "  <thead>\n",
       "    <tr style=\"text-align: right;\">\n",
       "      <th></th>\n",
       "      <th>item_id_enc</th>\n",
       "      <th>score</th>\n",
       "      <th>item_id</th>\n",
       "    </tr>\n",
       "  </thead>\n",
       "  <tbody>\n",
       "    <tr>\n",
       "      <th>0</th>\n",
       "      <td>137329</td>\n",
       "      <td>0.440569</td>\n",
       "      <td>35505245</td>\n",
       "    </tr>\n",
       "    <tr>\n",
       "      <th>1</th>\n",
       "      <td>217142</td>\n",
       "      <td>0.387878</td>\n",
       "      <td>61565558</td>\n",
       "    </tr>\n",
       "    <tr>\n",
       "      <th>2</th>\n",
       "      <td>207217</td>\n",
       "      <td>0.363691</td>\n",
       "      <td>57921154</td>\n",
       "    </tr>\n",
       "    <tr>\n",
       "      <th>3</th>\n",
       "      <td>208985</td>\n",
       "      <td>0.353832</td>\n",
       "      <td>58515506</td>\n",
       "    </tr>\n",
       "    <tr>\n",
       "      <th>4</th>\n",
       "      <td>194009</td>\n",
       "      <td>0.347190</td>\n",
       "      <td>52380688</td>\n",
       "    </tr>\n",
       "  </tbody>\n",
       "</table>\n",
       "</div>"
      ],
      "text/plain": [
       "   item_id_enc     score   item_id\n",
       "0       137329  0.440569  35505245\n",
       "1       217142  0.387878  61565558\n",
       "2       207217  0.363691  57921154\n",
       "3       208985  0.353832  58515506\n",
       "4       194009  0.347190  52380688"
      ]
     },
     "execution_count": 119,
     "metadata": {},
     "output_type": "execute_result"
    }
   ],
   "source": [
    "als_test_user=get_recommendations_als(user_item_matrix_train, als_model, user_id_example, user_encoder, item_encoder)\n",
    "als_test_user"
   ]
  },
  {
   "cell_type": "markdown",
   "id": "8fcf7524",
   "metadata": {},
   "source": [
    "смотрю информацию по трекам из рекоммендаций"
   ]
  },
  {
   "cell_type": "code",
   "execution_count": 120,
   "id": "f91a0627",
   "metadata": {},
   "outputs": [
    {
     "data": {
      "text/html": [
       "<div>\n",
       "<style scoped>\n",
       "    .dataframe tbody tr th:only-of-type {\n",
       "        vertical-align: middle;\n",
       "    }\n",
       "\n",
       "    .dataframe tbody tr th {\n",
       "        vertical-align: top;\n",
       "    }\n",
       "\n",
       "    .dataframe thead th {\n",
       "        text-align: right;\n",
       "    }\n",
       "</style>\n",
       "<table border=\"1\" class=\"dataframe\">\n",
       "  <thead>\n",
       "    <tr style=\"text-align: right;\">\n",
       "      <th></th>\n",
       "      <th>item_id_enc</th>\n",
       "      <th>score</th>\n",
       "      <th>item_id</th>\n",
       "      <th>track_id</th>\n",
       "      <th>genres</th>\n",
       "      <th>name</th>\n",
       "      <th>names_of_albums_</th>\n",
       "      <th>names_of_artists</th>\n",
       "      <th>track_id_enc</th>\n",
       "      <th>result</th>\n",
       "    </tr>\n",
       "  </thead>\n",
       "  <tbody>\n",
       "    <tr>\n",
       "      <th>0</th>\n",
       "      <td>137329</td>\n",
       "      <td>0.440569</td>\n",
       "      <td>35505245</td>\n",
       "      <td>35505245</td>\n",
       "      <td>[3, 75]</td>\n",
       "      <td>I Got Love</td>\n",
       "      <td>[I Got Love, I Got Love]</td>\n",
       "      <td>[Miyagi &amp; Эндшпиль, Рем Дигга]</td>\n",
       "      <td>137329</td>\n",
       "      <td>1</td>\n",
       "    </tr>\n",
       "    <tr>\n",
       "      <th>1</th>\n",
       "      <td>217142</td>\n",
       "      <td>0.387878</td>\n",
       "      <td>61565558</td>\n",
       "      <td>61565558</td>\n",
       "      <td>[11, 20]</td>\n",
       "      <td>Луна не знает пути</td>\n",
       "      <td>[Луна не знает пути, СОЮЗ 63]</td>\n",
       "      <td>[Тайпан, Agunda]</td>\n",
       "      <td>217142</td>\n",
       "      <td>1</td>\n",
       "    </tr>\n",
       "    <tr>\n",
       "      <th>2</th>\n",
       "      <td>207217</td>\n",
       "      <td>0.363691</td>\n",
       "      <td>57921154</td>\n",
       "      <td>57921154</td>\n",
       "      <td>[11, 20]</td>\n",
       "      <td>Комета</td>\n",
       "      <td>[Комета]</td>\n",
       "      <td>[JONY]</td>\n",
       "      <td>207217</td>\n",
       "      <td>1</td>\n",
       "    </tr>\n",
       "    <tr>\n",
       "      <th>3</th>\n",
       "      <td>208985</td>\n",
       "      <td>0.353832</td>\n",
       "      <td>58515506</td>\n",
       "      <td>58515506</td>\n",
       "      <td>[11, 20]</td>\n",
       "      <td>Увезите меня на Дип-хаус</td>\n",
       "      <td>[Увезите меня на Дип-хаус]</td>\n",
       "      <td>[GAYAZOV$ BROTHER$]</td>\n",
       "      <td>208985</td>\n",
       "      <td>1</td>\n",
       "    </tr>\n",
       "    <tr>\n",
       "      <th>4</th>\n",
       "      <td>194009</td>\n",
       "      <td>0.347190</td>\n",
       "      <td>52380688</td>\n",
       "      <td>52380688</td>\n",
       "      <td>[11, 20]</td>\n",
       "      <td>Любимка</td>\n",
       "      <td>[Любимка]</td>\n",
       "      <td>[NILETTO]</td>\n",
       "      <td>194009</td>\n",
       "      <td>1</td>\n",
       "    </tr>\n",
       "  </tbody>\n",
       "</table>\n",
       "</div>"
      ],
      "text/plain": [
       "   item_id_enc     score   item_id  track_id    genres  \\\n",
       "0       137329  0.440569  35505245  35505245   [3, 75]   \n",
       "1       217142  0.387878  61565558  61565558  [11, 20]   \n",
       "2       207217  0.363691  57921154  57921154  [11, 20]   \n",
       "3       208985  0.353832  58515506  58515506  [11, 20]   \n",
       "4       194009  0.347190  52380688  52380688  [11, 20]   \n",
       "\n",
       "                       name               names_of_albums_  \\\n",
       "0                I Got Love       [I Got Love, I Got Love]   \n",
       "1        Луна не знает пути  [Луна не знает пути, СОЮЗ 63]   \n",
       "2                    Комета                       [Комета]   \n",
       "3  Увезите меня на Дип-хаус     [Увезите меня на Дип-хаус]   \n",
       "4                   Любимка                      [Любимка]   \n",
       "\n",
       "                 names_of_artists  track_id_enc  result  \n",
       "0  [Miyagi & Эндшпиль, Рем Дигга]        137329       1  \n",
       "1                [Тайпан, Agunda]        217142       1  \n",
       "2                          [JONY]        207217       1  \n",
       "3             [GAYAZOV$ BROTHER$]        208985       1  \n",
       "4                       [NILETTO]        194009       1  "
      ]
     },
     "execution_count": 120,
     "metadata": {},
     "output_type": "execute_result"
    }
   ],
   "source": [
    "als_test_user_track=als_test_user.merge(items_,left_on='item_id',right_on='track_id',how='left')\n",
    "als_test_user_track['result']=1\n",
    "\n",
    "als_test_user_track"
   ]
  },
  {
   "cell_type": "markdown",
   "id": "007fe038",
   "metadata": {},
   "source": [
    "см фактические результаты у пользователя и есть ли пересечение"
   ]
  },
  {
   "cell_type": "code",
   "execution_count": 121,
   "id": "38903ff0",
   "metadata": {},
   "outputs": [
    {
     "data": {
      "text/html": [
       "<div>\n",
       "<style scoped>\n",
       "    .dataframe tbody tr th:only-of-type {\n",
       "        vertical-align: middle;\n",
       "    }\n",
       "\n",
       "    .dataframe tbody tr th {\n",
       "        vertical-align: top;\n",
       "    }\n",
       "\n",
       "    .dataframe thead th {\n",
       "        text-align: right;\n",
       "    }\n",
       "</style>\n",
       "<table border=\"1\" class=\"dataframe\">\n",
       "  <thead>\n",
       "    <tr style=\"text-align: right;\">\n",
       "      <th></th>\n",
       "      <th>user_id</th>\n",
       "      <th>track_id</th>\n",
       "      <th>track_seq</th>\n",
       "      <th>started_at</th>\n",
       "      <th>month</th>\n",
       "      <th>year</th>\n",
       "      <th>in_tracks</th>\n",
       "      <th>genres_x</th>\n",
       "      <th>name_x</th>\n",
       "      <th>names_of_albums__x</th>\n",
       "      <th>...</th>\n",
       "      <th>track_id_enc_x</th>\n",
       "      <th>item_id_enc</th>\n",
       "      <th>score</th>\n",
       "      <th>item_id</th>\n",
       "      <th>genres_y</th>\n",
       "      <th>name_y</th>\n",
       "      <th>names_of_albums__y</th>\n",
       "      <th>names_of_artists_y</th>\n",
       "      <th>track_id_enc_y</th>\n",
       "      <th>result</th>\n",
       "    </tr>\n",
       "  </thead>\n",
       "  <tbody>\n",
       "    <tr>\n",
       "      <th>0</th>\n",
       "      <td>1076955</td>\n",
       "      <td>84233822</td>\n",
       "      <td>172</td>\n",
       "      <td>2022-12-17</td>\n",
       "      <td>12</td>\n",
       "      <td>2022</td>\n",
       "      <td>True</td>\n",
       "      <td>[68]</td>\n",
       "      <td>I WANT YOU BACK</td>\n",
       "      <td>[I WANT YOU BACK, I Want You Back]</td>\n",
       "      <td>...</td>\n",
       "      <td>262935</td>\n",
       "      <td>NaN</td>\n",
       "      <td>NaN</td>\n",
       "      <td>NaN</td>\n",
       "      <td>NaN</td>\n",
       "      <td>NaN</td>\n",
       "      <td>NaN</td>\n",
       "      <td>NaN</td>\n",
       "      <td>NaN</td>\n",
       "      <td>NaN</td>\n",
       "    </tr>\n",
       "    <tr>\n",
       "      <th>1</th>\n",
       "      <td>1076955</td>\n",
       "      <td>84311070</td>\n",
       "      <td>173</td>\n",
       "      <td>2022-12-17</td>\n",
       "      <td>12</td>\n",
       "      <td>2022</td>\n",
       "      <td>True</td>\n",
       "      <td>[16]</td>\n",
       "      <td>WOAH</td>\n",
       "      <td>[WOAH]</td>\n",
       "      <td>...</td>\n",
       "      <td>263019</td>\n",
       "      <td>NaN</td>\n",
       "      <td>NaN</td>\n",
       "      <td>NaN</td>\n",
       "      <td>NaN</td>\n",
       "      <td>NaN</td>\n",
       "      <td>NaN</td>\n",
       "      <td>NaN</td>\n",
       "      <td>NaN</td>\n",
       "      <td>NaN</td>\n",
       "    </tr>\n",
       "    <tr>\n",
       "      <th>2</th>\n",
       "      <td>1076955</td>\n",
       "      <td>84382282</td>\n",
       "      <td>174</td>\n",
       "      <td>2022-12-17</td>\n",
       "      <td>12</td>\n",
       "      <td>2022</td>\n",
       "      <td>True</td>\n",
       "      <td>[3, 75]</td>\n",
       "      <td>Я в моменте</td>\n",
       "      <td>[Я в моменте]</td>\n",
       "      <td>...</td>\n",
       "      <td>263078</td>\n",
       "      <td>NaN</td>\n",
       "      <td>NaN</td>\n",
       "      <td>NaN</td>\n",
       "      <td>NaN</td>\n",
       "      <td>NaN</td>\n",
       "      <td>NaN</td>\n",
       "      <td>NaN</td>\n",
       "      <td>NaN</td>\n",
       "      <td>NaN</td>\n",
       "    </tr>\n",
       "    <tr>\n",
       "      <th>3</th>\n",
       "      <td>1076955</td>\n",
       "      <td>85335132</td>\n",
       "      <td>175</td>\n",
       "      <td>2022-12-18</td>\n",
       "      <td>12</td>\n",
       "      <td>2022</td>\n",
       "      <td>True</td>\n",
       "      <td>[75]</td>\n",
       "      <td>スピードデーモン</td>\n",
       "      <td>[スピードデーモン, love, phonk, why z music]</td>\n",
       "      <td>...</td>\n",
       "      <td>264260</td>\n",
       "      <td>NaN</td>\n",
       "      <td>NaN</td>\n",
       "      <td>NaN</td>\n",
       "      <td>NaN</td>\n",
       "      <td>NaN</td>\n",
       "      <td>NaN</td>\n",
       "      <td>NaN</td>\n",
       "      <td>NaN</td>\n",
       "      <td>NaN</td>\n",
       "    </tr>\n",
       "    <tr>\n",
       "      <th>4</th>\n",
       "      <td>1076955</td>\n",
       "      <td>87563076</td>\n",
       "      <td>176</td>\n",
       "      <td>2022-12-18</td>\n",
       "      <td>12</td>\n",
       "      <td>2022</td>\n",
       "      <td>True</td>\n",
       "      <td>[16]</td>\n",
       "      <td>Babel</td>\n",
       "      <td>[Babel]</td>\n",
       "      <td>...</td>\n",
       "      <td>266888</td>\n",
       "      <td>NaN</td>\n",
       "      <td>NaN</td>\n",
       "      <td>NaN</td>\n",
       "      <td>NaN</td>\n",
       "      <td>NaN</td>\n",
       "      <td>NaN</td>\n",
       "      <td>NaN</td>\n",
       "      <td>NaN</td>\n",
       "      <td>NaN</td>\n",
       "    </tr>\n",
       "    <tr>\n",
       "      <th>5</th>\n",
       "      <td>1076955</td>\n",
       "      <td>88266399</td>\n",
       "      <td>177</td>\n",
       "      <td>2022-12-21</td>\n",
       "      <td>12</td>\n",
       "      <td>2022</td>\n",
       "      <td>True</td>\n",
       "      <td>[16]</td>\n",
       "      <td>Laparisa</td>\n",
       "      <td>[Laparisa]</td>\n",
       "      <td>...</td>\n",
       "      <td>267623</td>\n",
       "      <td>NaN</td>\n",
       "      <td>NaN</td>\n",
       "      <td>NaN</td>\n",
       "      <td>NaN</td>\n",
       "      <td>NaN</td>\n",
       "      <td>NaN</td>\n",
       "      <td>NaN</td>\n",
       "      <td>NaN</td>\n",
       "      <td>NaN</td>\n",
       "    </tr>\n",
       "    <tr>\n",
       "      <th>6</th>\n",
       "      <td>1076955</td>\n",
       "      <td>90014040</td>\n",
       "      <td>178</td>\n",
       "      <td>2022-12-22</td>\n",
       "      <td>12</td>\n",
       "      <td>2022</td>\n",
       "      <td>True</td>\n",
       "      <td>[16]</td>\n",
       "      <td>Smack That</td>\n",
       "      <td>[Smack That]</td>\n",
       "      <td>...</td>\n",
       "      <td>269649</td>\n",
       "      <td>NaN</td>\n",
       "      <td>NaN</td>\n",
       "      <td>NaN</td>\n",
       "      <td>NaN</td>\n",
       "      <td>NaN</td>\n",
       "      <td>NaN</td>\n",
       "      <td>NaN</td>\n",
       "      <td>NaN</td>\n",
       "      <td>NaN</td>\n",
       "    </tr>\n",
       "    <tr>\n",
       "      <th>7</th>\n",
       "      <td>1076955</td>\n",
       "      <td>92868153</td>\n",
       "      <td>179</td>\n",
       "      <td>2022-12-25</td>\n",
       "      <td>12</td>\n",
       "      <td>2022</td>\n",
       "      <td>True</td>\n",
       "      <td>[68]</td>\n",
       "      <td>Mark</td>\n",
       "      <td>[Mark]</td>\n",
       "      <td>...</td>\n",
       "      <td>272666</td>\n",
       "      <td>NaN</td>\n",
       "      <td>NaN</td>\n",
       "      <td>NaN</td>\n",
       "      <td>NaN</td>\n",
       "      <td>NaN</td>\n",
       "      <td>NaN</td>\n",
       "      <td>NaN</td>\n",
       "      <td>NaN</td>\n",
       "      <td>NaN</td>\n",
       "    </tr>\n",
       "    <tr>\n",
       "      <th>8</th>\n",
       "      <td>1076955</td>\n",
       "      <td>94324100</td>\n",
       "      <td>180</td>\n",
       "      <td>2022-12-27</td>\n",
       "      <td>12</td>\n",
       "      <td>2022</td>\n",
       "      <td>True</td>\n",
       "      <td>[3, 75]</td>\n",
       "      <td>КТО УБИЛ МАРКА?</td>\n",
       "      <td>[КТО УБИЛ МАРКА?]</td>\n",
       "      <td>...</td>\n",
       "      <td>274045</td>\n",
       "      <td>NaN</td>\n",
       "      <td>NaN</td>\n",
       "      <td>NaN</td>\n",
       "      <td>NaN</td>\n",
       "      <td>NaN</td>\n",
       "      <td>NaN</td>\n",
       "      <td>NaN</td>\n",
       "      <td>NaN</td>\n",
       "      <td>NaN</td>\n",
       "    </tr>\n",
       "    <tr>\n",
       "      <th>9</th>\n",
       "      <td>1076955</td>\n",
       "      <td>99240797</td>\n",
       "      <td>181</td>\n",
       "      <td>2022-12-27</td>\n",
       "      <td>12</td>\n",
       "      <td>2022</td>\n",
       "      <td>True</td>\n",
       "      <td>[16]</td>\n",
       "      <td>BOSSHEE</td>\n",
       "      <td>[BOSSHEE]</td>\n",
       "      <td>...</td>\n",
       "      <td>277292</td>\n",
       "      <td>NaN</td>\n",
       "      <td>NaN</td>\n",
       "      <td>NaN</td>\n",
       "      <td>NaN</td>\n",
       "      <td>NaN</td>\n",
       "      <td>NaN</td>\n",
       "      <td>NaN</td>\n",
       "      <td>NaN</td>\n",
       "      <td>NaN</td>\n",
       "    </tr>\n",
       "    <tr>\n",
       "      <th>10</th>\n",
       "      <td>1076955</td>\n",
       "      <td>100861283</td>\n",
       "      <td>182</td>\n",
       "      <td>2022-12-30</td>\n",
       "      <td>12</td>\n",
       "      <td>2022</td>\n",
       "      <td>True</td>\n",
       "      <td>[11, 20]</td>\n",
       "      <td>Расцвела (prod. by Benad)</td>\n",
       "      <td>[Расцвела (prod. by Benad)]</td>\n",
       "      <td>...</td>\n",
       "      <td>277835</td>\n",
       "      <td>NaN</td>\n",
       "      <td>NaN</td>\n",
       "      <td>NaN</td>\n",
       "      <td>NaN</td>\n",
       "      <td>NaN</td>\n",
       "      <td>NaN</td>\n",
       "      <td>NaN</td>\n",
       "      <td>NaN</td>\n",
       "      <td>NaN</td>\n",
       "    </tr>\n",
       "  </tbody>\n",
       "</table>\n",
       "<p>11 rows × 21 columns</p>\n",
       "</div>"
      ],
      "text/plain": [
       "    user_id   track_id  track_seq started_at  month  year  in_tracks  \\\n",
       "0   1076955   84233822        172 2022-12-17     12  2022       True   \n",
       "1   1076955   84311070        173 2022-12-17     12  2022       True   \n",
       "2   1076955   84382282        174 2022-12-17     12  2022       True   \n",
       "3   1076955   85335132        175 2022-12-18     12  2022       True   \n",
       "4   1076955   87563076        176 2022-12-18     12  2022       True   \n",
       "5   1076955   88266399        177 2022-12-21     12  2022       True   \n",
       "6   1076955   90014040        178 2022-12-22     12  2022       True   \n",
       "7   1076955   92868153        179 2022-12-25     12  2022       True   \n",
       "8   1076955   94324100        180 2022-12-27     12  2022       True   \n",
       "9   1076955   99240797        181 2022-12-27     12  2022       True   \n",
       "10  1076955  100861283        182 2022-12-30     12  2022       True   \n",
       "\n",
       "    genres_x                     name_x                    names_of_albums__x  \\\n",
       "0       [68]            I WANT YOU BACK    [I WANT YOU BACK, I Want You Back]   \n",
       "1       [16]                       WOAH                                [WOAH]   \n",
       "2    [3, 75]                Я в моменте                         [Я в моменте]   \n",
       "3       [75]                   スピードデーモン  [スピードデーモン, love, phonk, why z music]   \n",
       "4       [16]                      Babel                               [Babel]   \n",
       "5       [16]                   Laparisa                            [Laparisa]   \n",
       "6       [16]                 Smack That                          [Smack That]   \n",
       "7       [68]                       Mark                                [Mark]   \n",
       "8    [3, 75]            КТО УБИЛ МАРКА?                     [КТО УБИЛ МАРКА?]   \n",
       "9       [16]                    BOSSHEE                             [BOSSHEE]   \n",
       "10  [11, 20]  Расцвела (prod. by Benad)           [Расцвела (prod. by Benad)]   \n",
       "\n",
       "    ... track_id_enc_x  item_id_enc  score  item_id  genres_y name_y  \\\n",
       "0   ...         262935          NaN    NaN      NaN       NaN    NaN   \n",
       "1   ...         263019          NaN    NaN      NaN       NaN    NaN   \n",
       "2   ...         263078          NaN    NaN      NaN       NaN    NaN   \n",
       "3   ...         264260          NaN    NaN      NaN       NaN    NaN   \n",
       "4   ...         266888          NaN    NaN      NaN       NaN    NaN   \n",
       "5   ...         267623          NaN    NaN      NaN       NaN    NaN   \n",
       "6   ...         269649          NaN    NaN      NaN       NaN    NaN   \n",
       "7   ...         272666          NaN    NaN      NaN       NaN    NaN   \n",
       "8   ...         274045          NaN    NaN      NaN       NaN    NaN   \n",
       "9   ...         277292          NaN    NaN      NaN       NaN    NaN   \n",
       "10  ...         277835          NaN    NaN      NaN       NaN    NaN   \n",
       "\n",
       "   names_of_albums__y names_of_artists_y track_id_enc_y  result  \n",
       "0                 NaN                NaN            NaN     NaN  \n",
       "1                 NaN                NaN            NaN     NaN  \n",
       "2                 NaN                NaN            NaN     NaN  \n",
       "3                 NaN                NaN            NaN     NaN  \n",
       "4                 NaN                NaN            NaN     NaN  \n",
       "5                 NaN                NaN            NaN     NaN  \n",
       "6                 NaN                NaN            NaN     NaN  \n",
       "7                 NaN                NaN            NaN     NaN  \n",
       "8                 NaN                NaN            NaN     NaN  \n",
       "9                 NaN                NaN            NaN     NaN  \n",
       "10                NaN                NaN            NaN     NaN  \n",
       "\n",
       "[11 rows x 21 columns]"
      ]
     },
     "execution_count": 121,
     "metadata": {},
     "output_type": "execute_result"
    }
   ],
   "source": [
    "events_test.query('user_id==@user_id_example').merge(items_,on='track_id',how='left').merge(als_test_user_track,on='track_id',how='left')"
   ]
  },
  {
   "cell_type": "markdown",
   "id": "8ec8fc22",
   "metadata": {},
   "source": [
    "для случайного пользователя (user_id=997358) пересечений рекоммендаций и фактических результатов нет"
   ]
  },
  {
   "cell_type": "markdown",
   "id": "98adeed6",
   "metadata": {},
   "source": [
    "Теперь получим рекомендации для всех имеющихся пользователей"
   ]
  },
  {
   "cell_type": "code",
   "execution_count": 122,
   "id": "9dda1361",
   "metadata": {},
   "outputs": [
    {
     "data": {
      "text/plain": [
       "(array([[145053, 188826, 123611, 188798],\n",
       "        [137329, 129285, 176882, 186587],\n",
       "        [ 24689,  22026,  24192,  77153],\n",
       "        ...,\n",
       "        [176882, 137329, 186587, 157087],\n",
       "        [228482, 194009, 127079, 186587],\n",
       "        [176882, 157087, 186587, 200371]], dtype=int32),\n",
       " array([[0.05626827, 0.04551451, 0.0434157 , 0.03572066],\n",
       "        [0.53511906, 0.35273358, 0.32452694, 0.27750087],\n",
       "        [0.2768026 , 0.23244675, 0.23096554, 0.22425196],\n",
       "        ...,\n",
       "        [1.0620899 , 0.947143  , 0.8916291 , 0.8752255 ],\n",
       "        [0.82311225, 0.7699116 , 0.69961274, 0.6570257 ],\n",
       "        [0.2220709 , 0.20153174, 0.18685158, 0.16543539]], dtype=float32))"
      ]
     },
     "execution_count": 122,
     "metadata": {},
     "output_type": "execute_result"
    }
   ],
   "source": [
    "user_ids_encoded = range(len(user_encoder.classes_))\n",
    "user_ids_encoded\n",
    "\n",
    "# получаем рекомендации для всех пользователей\n",
    "als_recommendations = als_model.recommend(\n",
    "    user_ids_encoded, \n",
    "    user_item_matrix_train[user_ids_encoded], \n",
    "    filter_already_liked_items=False, N=4) \n",
    "\n",
    "als_recommendations"
   ]
  },
  {
   "cell_type": "markdown",
   "id": "78d2bf36",
   "metadata": {},
   "source": [
    "преобразуем в удобный формат"
   ]
  },
  {
   "cell_type": "code",
   "execution_count": 123,
   "id": "598da137",
   "metadata": {},
   "outputs": [
    {
     "data": {
      "text/html": [
       "<div>\n",
       "<style scoped>\n",
       "    .dataframe tbody tr th:only-of-type {\n",
       "        vertical-align: middle;\n",
       "    }\n",
       "\n",
       "    .dataframe tbody tr th {\n",
       "        vertical-align: top;\n",
       "    }\n",
       "\n",
       "    .dataframe thead th {\n",
       "        text-align: right;\n",
       "    }\n",
       "</style>\n",
       "<table border=\"1\" class=\"dataframe\">\n",
       "  <thead>\n",
       "    <tr style=\"text-align: right;\">\n",
       "      <th></th>\n",
       "      <th>score</th>\n",
       "      <th>user_id</th>\n",
       "      <th>track_id</th>\n",
       "    </tr>\n",
       "  </thead>\n",
       "  <tbody>\n",
       "    <tr>\n",
       "      <th>0</th>\n",
       "      <td>0.056268</td>\n",
       "      <td>1</td>\n",
       "      <td>37258117</td>\n",
       "    </tr>\n",
       "    <tr>\n",
       "      <th>1</th>\n",
       "      <td>0.045515</td>\n",
       "      <td>1</td>\n",
       "      <td>50685843</td>\n",
       "    </tr>\n",
       "    <tr>\n",
       "      <th>2</th>\n",
       "      <td>0.043416</td>\n",
       "      <td>1</td>\n",
       "      <td>32291816</td>\n",
       "    </tr>\n",
       "    <tr>\n",
       "      <th>3</th>\n",
       "      <td>0.035721</td>\n",
       "      <td>1</td>\n",
       "      <td>50684233</td>\n",
       "    </tr>\n",
       "    <tr>\n",
       "      <th>4</th>\n",
       "      <td>0.535119</td>\n",
       "      <td>3</td>\n",
       "      <td>35505245</td>\n",
       "    </tr>\n",
       "    <tr>\n",
       "      <th>...</th>\n",
       "      <td>...</td>\n",
       "      <td>...</td>\n",
       "      <td>...</td>\n",
       "    </tr>\n",
       "    <tr>\n",
       "      <th>3439235</th>\n",
       "      <td>0.657026</td>\n",
       "      <td>1374581</td>\n",
       "      <td>49961817</td>\n",
       "    </tr>\n",
       "    <tr>\n",
       "      <th>3439236</th>\n",
       "      <td>0.222071</td>\n",
       "      <td>1374582</td>\n",
       "      <td>45499814</td>\n",
       "    </tr>\n",
       "    <tr>\n",
       "      <th>3439237</th>\n",
       "      <td>0.201532</td>\n",
       "      <td>1374582</td>\n",
       "      <td>39946957</td>\n",
       "    </tr>\n",
       "    <tr>\n",
       "      <th>3439238</th>\n",
       "      <td>0.186852</td>\n",
       "      <td>1374582</td>\n",
       "      <td>49961817</td>\n",
       "    </tr>\n",
       "    <tr>\n",
       "      <th>3439239</th>\n",
       "      <td>0.165435</td>\n",
       "      <td>1374582</td>\n",
       "      <td>54798445</td>\n",
       "    </tr>\n",
       "  </tbody>\n",
       "</table>\n",
       "<p>3439240 rows × 3 columns</p>\n",
       "</div>"
      ],
      "text/plain": [
       "            score  user_id  track_id\n",
       "0        0.056268        1  37258117\n",
       "1        0.045515        1  50685843\n",
       "2        0.043416        1  32291816\n",
       "3        0.035721        1  50684233\n",
       "4        0.535119        3  35505245\n",
       "...           ...      ...       ...\n",
       "3439235  0.657026  1374581  49961817\n",
       "3439236  0.222071  1374582  45499814\n",
       "3439237  0.201532  1374582  39946957\n",
       "3439238  0.186852  1374582  49961817\n",
       "3439239  0.165435  1374582  54798445\n",
       "\n",
       "[3439240 rows x 3 columns]"
      ]
     },
     "execution_count": 123,
     "metadata": {},
     "output_type": "execute_result"
    }
   ],
   "source": [
    "# преобразуем полученные рекомендации в табличный формат\n",
    "item_ids_enc = als_recommendations[0]\n",
    "als_scores = als_recommendations[1]\n",
    "\n",
    "als_recommendations = pd.DataFrame({\n",
    "    \"user_id_enc\": user_ids_encoded,\n",
    "    \"item_id_enc\": item_ids_enc.tolist(), \n",
    "    \"score\": als_scores.tolist()})\n",
    "als_recommendations = als_recommendations.explode([\"item_id_enc\", \"score\"], ignore_index=True)\n",
    "\n",
    "# приводим типы данных\n",
    "als_recommendations[\"item_id_enc\"] = als_recommendations[\"item_id_enc\"].astype(\"int\")\n",
    "als_recommendations[\"score\"] = als_recommendations[\"score\"].astype(\"float\")\n",
    "\n",
    "# получаем изначальные идентификаторы\n",
    "als_recommendations[\"user_id\"] = user_encoder.inverse_transform(als_recommendations[\"user_id_enc\"])\n",
    "als_recommendations[\"item_id\"] = item_encoder.inverse_transform(als_recommendations[\"item_id_enc\"])\n",
    "als_recommendations = als_recommendations.drop(columns=[\"user_id_enc\", \"item_id_enc\"])\n",
    "\n",
    "als_recommendations=als_recommendations.rename(columns={'item_id':'track_id'})\n",
    "als_recommendations"
   ]
  },
  {
   "cell_type": "markdown",
   "id": "ca3fb437",
   "metadata": {},
   "source": [
    "для расчета метрик закодирую тест"
   ]
  },
  {
   "cell_type": "code",
   "execution_count": 124,
   "id": "33ce5d5c",
   "metadata": {},
   "outputs": [],
   "source": [
    "events_test[\"user_id_enc\"] = user_encoder.transform(events_test[\"user_id\"])\n",
    "events_test[\"track_id_enc\"] = item_encoder.transform(events_test[\"track_id\"])"
   ]
  },
  {
   "cell_type": "markdown",
   "id": "bf5f574b",
   "metadata": {},
   "source": [
    "сохраним рекомендации"
   ]
  },
  {
   "cell_type": "code",
   "execution_count": 125,
   "id": "3ac06358",
   "metadata": {},
   "outputs": [],
   "source": [
    "als_recommendations.to_parquet(\"recs/personal_als.parquet\")"
   ]
  },
  {
   "cell_type": "code",
   "execution_count": 126,
   "id": "5b9706bb",
   "metadata": {},
   "outputs": [],
   "source": [
    "stage9_ALS=time.time()"
   ]
  },
  {
   "cell_type": "markdown",
   "id": "5f09dc7e-7c91-4355-860a-b9cfb9f33f15",
   "metadata": {},
   "source": [
    "# Похожие"
   ]
  },
  {
   "cell_type": "markdown",
   "id": "1dfcb683-b440-40a8-9975-894156a53872",
   "metadata": {},
   "source": [
    "Рассчитаем похожие, они позже пригодятся для онлайн-рекомендаций."
   ]
  },
  {
   "cell_type": "code",
   "execution_count": 127,
   "id": "a75d07ee-4b12-4ce5-aa85-e45cb7a7a4f0",
   "metadata": {},
   "outputs": [
    {
     "data": {
      "text/plain": [
       "array([  1728,   6452,   6453, ..., 272130, 225732, 235773])"
      ]
     },
     "execution_count": 127,
     "metadata": {},
     "output_type": "execute_result"
    }
   ],
   "source": [
    "# получим энкодированные идентификаторы всех объектов, известных нам из events_train\n",
    "train_item_ids_enc = events_train['track_id_enc'].unique()\n",
    "train_item_ids_enc"
   ]
  },
  {
   "cell_type": "markdown",
   "id": "a594382f",
   "metadata": {},
   "source": [
    "получаем списки похожих объектов, используя ранее полученную ALS-модель\n",
    " - метод similar_items возвращает и сам объект, как наиболее похожий"
   ]
  },
  {
   "cell_type": "code",
   "execution_count": 128,
   "id": "8f8b6e11",
   "metadata": {},
   "outputs": [],
   "source": [
    "max_similar_items = 4\n",
    "\n",
    "similar_items = als_model.similar_items(train_item_ids_enc, N=max_similar_items+1)"
   ]
  },
  {
   "cell_type": "markdown",
   "id": "15b50ede",
   "metadata": {},
   "source": [
    "преобразуем полученные списки в табличный формат"
   ]
  },
  {
   "cell_type": "code",
   "execution_count": 129,
   "id": "ce370904-4c49-4152-8706-416074ea9b9a",
   "metadata": {},
   "outputs": [],
   "source": [
    "sim_item_item_ids_enc = similar_items[0]\n",
    "sim_item_scores = similar_items[1]\n",
    "\n",
    "similar_items = pd.DataFrame({\n",
    "    \"track_id_enc\": train_item_ids_enc,\n",
    "    \"sim_track_id_enc\": sim_item_item_ids_enc.tolist(), \n",
    "    \"score\": sim_item_scores.tolist()})\n",
    "similar_items = similar_items.explode([\"sim_track_id_enc\", \"score\"], ignore_index=True)"
   ]
  },
  {
   "cell_type": "markdown",
   "id": "b882e7a0",
   "metadata": {},
   "source": [
    "преобразуем в удобный формат"
   ]
  },
  {
   "cell_type": "code",
   "execution_count": 130,
   "id": "ff3a3b48",
   "metadata": {},
   "outputs": [],
   "source": [
    "# приводим типы данных\n",
    "similar_items[\"sim_track_id_enc\"] = similar_items[\"sim_track_id_enc\"].astype(\"int\")\n",
    "similar_items[\"score\"] = similar_items[\"score\"].astype(\"float\")\n",
    "\n",
    "# получаем изначальные идентификаторы\n",
    "similar_items[\"track_id_1\"] = item_encoder.inverse_transform(similar_items[\"track_id_enc\"])\n",
    "similar_items[\"track_id_2\"] = item_encoder.inverse_transform(similar_items[\"sim_track_id_enc\"])\n",
    "similar_items = similar_items.drop(columns=[\"track_id_enc\", \"sim_track_id_enc\"])\n",
    "\n",
    "# убираем пары с одинаковыми объектами\n",
    "similar_items = similar_items.query(\"track_id_1 != track_id_2\")"
   ]
  },
  {
   "cell_type": "markdown",
   "id": "e2f3a33b",
   "metadata": {},
   "source": [
    "смотрю на примерах - действительно похожие рекомендации по жанрам, исполнителям"
   ]
  },
  {
   "cell_type": "code",
   "execution_count": 131,
   "id": "eebddb5e",
   "metadata": {},
   "outputs": [],
   "source": [
    "track_names_=items_[['track_id','name','names_of_artists','names_of_albums_']]"
   ]
  },
  {
   "cell_type": "code",
   "execution_count": 132,
   "id": "8457de49",
   "metadata": {},
   "outputs": [
    {
     "data": {
      "text/html": [
       "<div>\n",
       "<style scoped>\n",
       "    .dataframe tbody tr th:only-of-type {\n",
       "        vertical-align: middle;\n",
       "    }\n",
       "\n",
       "    .dataframe tbody tr th {\n",
       "        vertical-align: top;\n",
       "    }\n",
       "\n",
       "    .dataframe thead th {\n",
       "        text-align: right;\n",
       "    }\n",
       "</style>\n",
       "<table border=\"1\" class=\"dataframe\">\n",
       "  <thead>\n",
       "    <tr style=\"text-align: right;\">\n",
       "      <th></th>\n",
       "      <th>score</th>\n",
       "      <th>track_id_1</th>\n",
       "      <th>track_id_2</th>\n",
       "      <th>track_id_x</th>\n",
       "      <th>name_x</th>\n",
       "      <th>names_of_artists_x</th>\n",
       "      <th>names_of_albums__x</th>\n",
       "      <th>track_id_y</th>\n",
       "      <th>name_y</th>\n",
       "      <th>names_of_artists_y</th>\n",
       "      <th>names_of_albums__y</th>\n",
       "    </tr>\n",
       "  </thead>\n",
       "  <tbody>\n",
       "    <tr>\n",
       "      <th>0</th>\n",
       "      <td>0.987385</td>\n",
       "      <td>24417</td>\n",
       "      <td>43130</td>\n",
       "      <td>24417</td>\n",
       "      <td>Du Riechst So Gut</td>\n",
       "      <td>[Rammstein]</td>\n",
       "      <td>[Herzeleid. XXV Anniversary Edition]</td>\n",
       "      <td>43130</td>\n",
       "      <td>Links 2 3 4</td>\n",
       "      <td>[Rammstein]</td>\n",
       "      <td>[Mutter, Mutter, Mutter, SPORT FREI]</td>\n",
       "    </tr>\n",
       "    <tr>\n",
       "      <th>1</th>\n",
       "      <td>0.982825</td>\n",
       "      <td>24417</td>\n",
       "      <td>43127</td>\n",
       "      <td>24417</td>\n",
       "      <td>Du Riechst So Gut</td>\n",
       "      <td>[Rammstein]</td>\n",
       "      <td>[Herzeleid. XXV Anniversary Edition]</td>\n",
       "      <td>43127</td>\n",
       "      <td>Ich Will</td>\n",
       "      <td>[Rammstein]</td>\n",
       "      <td>[Mutter, Mutter, Mutter, SPORT FREI]</td>\n",
       "    </tr>\n",
       "    <tr>\n",
       "      <th>2</th>\n",
       "      <td>0.981918</td>\n",
       "      <td>24417</td>\n",
       "      <td>55568</td>\n",
       "      <td>24417</td>\n",
       "      <td>Du Riechst So Gut</td>\n",
       "      <td>[Rammstein]</td>\n",
       "      <td>[Herzeleid. XXV Anniversary Edition]</td>\n",
       "      <td>55568</td>\n",
       "      <td>Reise, Reise</td>\n",
       "      <td>[Rammstein]</td>\n",
       "      <td>[Reise, Reise, Reise, Reise]</td>\n",
       "    </tr>\n",
       "    <tr>\n",
       "      <th>3</th>\n",
       "      <td>0.981063</td>\n",
       "      <td>24417</td>\n",
       "      <td>24413</td>\n",
       "      <td>24417</td>\n",
       "      <td>Du Riechst So Gut</td>\n",
       "      <td>[Rammstein]</td>\n",
       "      <td>[Herzeleid. XXV Anniversary Edition]</td>\n",
       "      <td>24413</td>\n",
       "      <td>Asche zu Asche</td>\n",
       "      <td>[Rammstein]</td>\n",
       "      <td>[Herzeleid. XXV Anniversary Edition]</td>\n",
       "    </tr>\n",
       "  </tbody>\n",
       "</table>\n",
       "</div>"
      ],
      "text/plain": [
       "      score  track_id_1  track_id_2  track_id_x             name_x  \\\n",
       "0  0.987385       24417       43130       24417  Du Riechst So Gut   \n",
       "1  0.982825       24417       43127       24417  Du Riechst So Gut   \n",
       "2  0.981918       24417       55568       24417  Du Riechst So Gut   \n",
       "3  0.981063       24417       24413       24417  Du Riechst So Gut   \n",
       "\n",
       "  names_of_artists_x                    names_of_albums__x  track_id_y  \\\n",
       "0        [Rammstein]  [Herzeleid. XXV Anniversary Edition]       43130   \n",
       "1        [Rammstein]  [Herzeleid. XXV Anniversary Edition]       43127   \n",
       "2        [Rammstein]  [Herzeleid. XXV Anniversary Edition]       55568   \n",
       "3        [Rammstein]  [Herzeleid. XXV Anniversary Edition]       24413   \n",
       "\n",
       "           name_y names_of_artists_y                    names_of_albums__y  \n",
       "0     Links 2 3 4        [Rammstein]  [Mutter, Mutter, Mutter, SPORT FREI]  \n",
       "1        Ich Will        [Rammstein]  [Mutter, Mutter, Mutter, SPORT FREI]  \n",
       "2    Reise, Reise        [Rammstein]          [Reise, Reise, Reise, Reise]  \n",
       "3  Asche zu Asche        [Rammstein]  [Herzeleid. XXV Anniversary Edition]  "
      ]
     },
     "execution_count": 132,
     "metadata": {},
     "output_type": "execute_result"
    }
   ],
   "source": [
    "similar_items.head(4).merge(track_names_,left_on='track_id_1',right_on='track_id',how='left').merge(track_names_,left_on='track_id_2',right_on='track_id',how='left')"
   ]
  },
  {
   "cell_type": "markdown",
   "id": "ebc5462e",
   "metadata": {},
   "source": [
    "Несколько очевидная рекомендация по аналогичному исполнителю"
   ]
  },
  {
   "cell_type": "code",
   "execution_count": 133,
   "id": "08937441",
   "metadata": {},
   "outputs": [],
   "source": [
    "similar_items.to_parquet(\"recs/similar.parquet\") "
   ]
  },
  {
   "cell_type": "code",
   "execution_count": 134,
   "id": "f306f65b",
   "metadata": {},
   "outputs": [],
   "source": [
    "stage10_similar=time.time()"
   ]
  },
  {
   "cell_type": "markdown",
   "id": "ba2eabef",
   "metadata": {},
   "source": [
    "# Ранжирование рекомендаций"
   ]
  },
  {
   "cell_type": "markdown",
   "id": "5a3ea675",
   "metadata": {},
   "source": [
    "Построим ранжирующую модель, чтобы сделать рекомендации более точными. Отранжируем рекомендации."
   ]
  },
  {
   "cell_type": "markdown",
   "id": "f6ba76f0",
   "metadata": {},
   "source": [
    " - 1 сначала обработаю полученные ранее расчеты\n",
    " - 2 затем делаю расчет для периода train+catboost\n",
    " - 3 делаю расчет с учетом новых данных из периода catboost"
   ]
  },
  {
   "cell_type": "markdown",
   "id": "36b6245f",
   "metadata": {},
   "source": [
    "# === часть 1 - расчет для events_train ==="
   ]
  },
  {
   "cell_type": "markdown",
   "id": "16ea073f",
   "metadata": {},
   "source": [
    "возьмем рассчитанные ранее рекомендации из train"
   ]
  },
  {
   "cell_type": "code",
   "execution_count": 5,
   "id": "485d3536",
   "metadata": {},
   "outputs": [],
   "source": [
    "popularity_recommendations=pd.read_parquet(\"recs/top_popular.parquet\")\n",
    "als_recommendations=pd.read_parquet(\"recs/personal_als.parquet\")"
   ]
  },
  {
   "cell_type": "code",
   "execution_count": 6,
   "id": "35d4c3fb",
   "metadata": {},
   "outputs": [],
   "source": [
    "candidates = pd.merge(\n",
    "    als_recommendations[[\"user_id\", \"track_id\", \"score\"]].rename(columns={\"score\": \"als_score\"}),\n",
    "    popularity_recommendations[[\"user_id\", \"track_id\", \"score\"]].rename(columns={\"score\": \"pop_score\"}),\n",
    "    on=['user_id','track_id'],\n",
    "    how=\"outer\").fillna(0)"
   ]
  },
  {
   "cell_type": "code",
   "execution_count": null,
   "id": "24c1203d",
   "metadata": {},
   "outputs": [
    {
     "name": "stdout",
     "output_type": "stream",
     "text": [
      "доля совпадений в рекомендациях - 0.035\n"
     ]
    }
   ],
   "source": [
    "print(f\"доля совпадений в рекомендациях - {round(len(candidates.query('als_score!=0 and pop_score!=0'))/len(candidates),3)}\")"
   ]
  },
  {
   "cell_type": "markdown",
   "id": "0b3f882c",
   "metadata": {},
   "source": [
    "3% треков с ненулевым скором от всех рекоммендаций 2х методов"
   ]
  },
  {
   "cell_type": "markdown",
   "id": "68e40786",
   "metadata": {},
   "source": [
    "добавляем таргет к кандидатам со значением:\n",
    " — 1 для тех item_id, которые пользователь прочитал\n",
    " — 0, для всех остальных "
   ]
  },
  {
   "cell_type": "code",
   "execution_count": 8,
   "id": "6b1573a2",
   "metadata": {},
   "outputs": [
    {
     "data": {
      "text/html": [
       "<div>\n",
       "<style scoped>\n",
       "    .dataframe tbody tr th:only-of-type {\n",
       "        vertical-align: middle;\n",
       "    }\n",
       "\n",
       "    .dataframe tbody tr th {\n",
       "        vertical-align: top;\n",
       "    }\n",
       "\n",
       "    .dataframe thead th {\n",
       "        text-align: right;\n",
       "    }\n",
       "</style>\n",
       "<table border=\"1\" class=\"dataframe\">\n",
       "  <thead>\n",
       "    <tr style=\"text-align: right;\">\n",
       "      <th></th>\n",
       "      <th>user_id</th>\n",
       "      <th>track_id</th>\n",
       "      <th>als_score</th>\n",
       "      <th>pop_score</th>\n",
       "      <th>target</th>\n",
       "    </tr>\n",
       "  </thead>\n",
       "  <tbody>\n",
       "    <tr>\n",
       "      <th>0</th>\n",
       "      <td>1</td>\n",
       "      <td>37258117</td>\n",
       "      <td>0.056268</td>\n",
       "      <td>0.00</td>\n",
       "      <td>0.0</td>\n",
       "    </tr>\n",
       "    <tr>\n",
       "      <th>1</th>\n",
       "      <td>1</td>\n",
       "      <td>50685843</td>\n",
       "      <td>0.045515</td>\n",
       "      <td>0.00</td>\n",
       "      <td>0.0</td>\n",
       "    </tr>\n",
       "    <tr>\n",
       "      <th>2</th>\n",
       "      <td>1</td>\n",
       "      <td>32291816</td>\n",
       "      <td>0.043416</td>\n",
       "      <td>0.00</td>\n",
       "      <td>0.0</td>\n",
       "    </tr>\n",
       "    <tr>\n",
       "      <th>3</th>\n",
       "      <td>1</td>\n",
       "      <td>50684233</td>\n",
       "      <td>0.035721</td>\n",
       "      <td>0.00</td>\n",
       "      <td>0.0</td>\n",
       "    </tr>\n",
       "    <tr>\n",
       "      <th>4</th>\n",
       "      <td>3</td>\n",
       "      <td>35505245</td>\n",
       "      <td>0.535119</td>\n",
       "      <td>0.86</td>\n",
       "      <td>0.0</td>\n",
       "    </tr>\n",
       "    <tr>\n",
       "      <th>...</th>\n",
       "      <td>...</td>\n",
       "      <td>...</td>\n",
       "      <td>...</td>\n",
       "      <td>...</td>\n",
       "      <td>...</td>\n",
       "    </tr>\n",
       "    <tr>\n",
       "      <th>5661111</th>\n",
       "      <td>1374582</td>\n",
       "      <td>53404</td>\n",
       "      <td>0.000000</td>\n",
       "      <td>1.00</td>\n",
       "      <td>0.0</td>\n",
       "    </tr>\n",
       "    <tr>\n",
       "      <th>5661112</th>\n",
       "      <td>1374582</td>\n",
       "      <td>178529</td>\n",
       "      <td>0.000000</td>\n",
       "      <td>0.92</td>\n",
       "      <td>0.0</td>\n",
       "    </tr>\n",
       "    <tr>\n",
       "      <th>5661113</th>\n",
       "      <td>1374582</td>\n",
       "      <td>33311009</td>\n",
       "      <td>0.000000</td>\n",
       "      <td>0.86</td>\n",
       "      <td>0.0</td>\n",
       "    </tr>\n",
       "    <tr>\n",
       "      <th>5661114</th>\n",
       "      <td>1374582</td>\n",
       "      <td>35505245</td>\n",
       "      <td>0.000000</td>\n",
       "      <td>0.86</td>\n",
       "      <td>0.0</td>\n",
       "    </tr>\n",
       "    <tr>\n",
       "      <th>5661115</th>\n",
       "      <td>1374582</td>\n",
       "      <td>795836</td>\n",
       "      <td>0.000000</td>\n",
       "      <td>0.74</td>\n",
       "      <td>0.0</td>\n",
       "    </tr>\n",
       "  </tbody>\n",
       "</table>\n",
       "<p>5661116 rows × 5 columns</p>\n",
       "</div>"
      ],
      "text/plain": [
       "         user_id  track_id  als_score  pop_score  target\n",
       "0              1  37258117   0.056268       0.00     0.0\n",
       "1              1  50685843   0.045515       0.00     0.0\n",
       "2              1  32291816   0.043416       0.00     0.0\n",
       "3              1  50684233   0.035721       0.00     0.0\n",
       "4              3  35505245   0.535119       0.86     0.0\n",
       "...          ...       ...        ...        ...     ...\n",
       "5661111  1374582     53404   0.000000       1.00     0.0\n",
       "5661112  1374582    178529   0.000000       0.92     0.0\n",
       "5661113  1374582  33311009   0.000000       0.86     0.0\n",
       "5661114  1374582  35505245   0.000000       0.86     0.0\n",
       "5661115  1374582    795836   0.000000       0.74     0.0\n",
       "\n",
       "[5661116 rows x 5 columns]"
      ]
     },
     "execution_count": 8,
     "metadata": {},
     "output_type": "execute_result"
    }
   ],
   "source": [
    "events_catboost[\"target\"] = 1\n",
    "\n",
    "candidates = candidates.merge(events_catboost[[\"user_id\", \"track_id\", \"target\"]], on=['user_id','track_id'],how='left').fillna(0)\n",
    "candidates"
   ]
  },
  {
   "cell_type": "markdown",
   "id": "e2673505",
   "metadata": {},
   "source": [
    "см какая доля наблюдений получилась с таргетом 1"
   ]
  },
  {
   "cell_type": "code",
   "execution_count": 9,
   "id": "14ea7b43",
   "metadata": {},
   "outputs": [
    {
     "data": {
      "text/plain": [
       "target\n",
       "0.0    5630584\n",
       "1.0      30532\n",
       "Name: user_id, dtype: int64"
      ]
     },
     "execution_count": 9,
     "metadata": {},
     "output_type": "execute_result"
    }
   ],
   "source": [
    "candidates.groupby('target')['user_id'].count()"
   ]
  },
  {
   "cell_type": "markdown",
   "id": "5458be4c",
   "metadata": {},
   "source": [
    "надо балансировать классы"
   ]
  },
  {
   "cell_type": "markdown",
   "id": "c2db277c",
   "metadata": {},
   "source": [
    "в кандидатах оставляем только тех пользователей, у которых есть хотя бы 1 положительный таргет"
   ]
  },
  {
   "cell_type": "code",
   "execution_count": 10,
   "id": "d85b8ea2",
   "metadata": {},
   "outputs": [
    {
     "data": {
      "text/html": [
       "<div>\n",
       "<style scoped>\n",
       "    .dataframe tbody tr th:only-of-type {\n",
       "        vertical-align: middle;\n",
       "    }\n",
       "\n",
       "    .dataframe tbody tr th {\n",
       "        vertical-align: top;\n",
       "    }\n",
       "\n",
       "    .dataframe thead th {\n",
       "        text-align: right;\n",
       "    }\n",
       "</style>\n",
       "<table border=\"1\" class=\"dataframe\">\n",
       "  <thead>\n",
       "    <tr style=\"text-align: right;\">\n",
       "      <th></th>\n",
       "      <th>user_id</th>\n",
       "      <th>track_id</th>\n",
       "      <th>als_score</th>\n",
       "      <th>pop_score</th>\n",
       "      <th>target</th>\n",
       "    </tr>\n",
       "  </thead>\n",
       "  <tbody>\n",
       "    <tr>\n",
       "      <th>12</th>\n",
       "      <td>5</td>\n",
       "      <td>53404</td>\n",
       "      <td>0.427146</td>\n",
       "      <td>1.00</td>\n",
       "      <td>0.0</td>\n",
       "    </tr>\n",
       "    <tr>\n",
       "      <th>13</th>\n",
       "      <td>5</td>\n",
       "      <td>37384</td>\n",
       "      <td>0.370207</td>\n",
       "      <td>0.00</td>\n",
       "      <td>0.0</td>\n",
       "    </tr>\n",
       "    <tr>\n",
       "      <th>14</th>\n",
       "      <td>5</td>\n",
       "      <td>148345</td>\n",
       "      <td>0.341203</td>\n",
       "      <td>0.00</td>\n",
       "      <td>0.0</td>\n",
       "    </tr>\n",
       "    <tr>\n",
       "      <th>15</th>\n",
       "      <td>5</td>\n",
       "      <td>178529</td>\n",
       "      <td>0.328936</td>\n",
       "      <td>0.92</td>\n",
       "      <td>0.0</td>\n",
       "    </tr>\n",
       "    <tr>\n",
       "      <th>336</th>\n",
       "      <td>138</td>\n",
       "      <td>65851540</td>\n",
       "      <td>0.162286</td>\n",
       "      <td>0.00</td>\n",
       "      <td>0.0</td>\n",
       "    </tr>\n",
       "    <tr>\n",
       "      <th>...</th>\n",
       "      <td>...</td>\n",
       "      <td>...</td>\n",
       "      <td>...</td>\n",
       "      <td>...</td>\n",
       "      <td>...</td>\n",
       "    </tr>\n",
       "    <tr>\n",
       "      <th>5661096</th>\n",
       "      <td>1374573</td>\n",
       "      <td>53404</td>\n",
       "      <td>0.000000</td>\n",
       "      <td>1.00</td>\n",
       "      <td>0.0</td>\n",
       "    </tr>\n",
       "    <tr>\n",
       "      <th>5661097</th>\n",
       "      <td>1374573</td>\n",
       "      <td>178529</td>\n",
       "      <td>0.000000</td>\n",
       "      <td>0.92</td>\n",
       "      <td>0.0</td>\n",
       "    </tr>\n",
       "    <tr>\n",
       "      <th>5661098</th>\n",
       "      <td>1374573</td>\n",
       "      <td>33311009</td>\n",
       "      <td>0.000000</td>\n",
       "      <td>0.86</td>\n",
       "      <td>0.0</td>\n",
       "    </tr>\n",
       "    <tr>\n",
       "      <th>5661099</th>\n",
       "      <td>1374573</td>\n",
       "      <td>35505245</td>\n",
       "      <td>0.000000</td>\n",
       "      <td>0.86</td>\n",
       "      <td>0.0</td>\n",
       "    </tr>\n",
       "    <tr>\n",
       "      <th>5661100</th>\n",
       "      <td>1374573</td>\n",
       "      <td>795836</td>\n",
       "      <td>0.000000</td>\n",
       "      <td>0.74</td>\n",
       "      <td>0.0</td>\n",
       "    </tr>\n",
       "  </tbody>\n",
       "</table>\n",
       "<p>220850 rows × 5 columns</p>\n",
       "</div>"
      ],
      "text/plain": [
       "         user_id  track_id  als_score  pop_score  target\n",
       "12             5     53404   0.427146       1.00     0.0\n",
       "13             5     37384   0.370207       0.00     0.0\n",
       "14             5    148345   0.341203       0.00     0.0\n",
       "15             5    178529   0.328936       0.92     0.0\n",
       "336          138  65851540   0.162286       0.00     0.0\n",
       "...          ...       ...        ...        ...     ...\n",
       "5661096  1374573     53404   0.000000       1.00     0.0\n",
       "5661097  1374573    178529   0.000000       0.92     0.0\n",
       "5661098  1374573  33311009   0.000000       0.86     0.0\n",
       "5661099  1374573  35505245   0.000000       0.86     0.0\n",
       "5661100  1374573    795836   0.000000       0.74     0.0\n",
       "\n",
       "[220850 rows x 5 columns]"
      ]
     },
     "execution_count": 10,
     "metadata": {},
     "output_type": "execute_result"
    }
   ],
   "source": [
    "candidates_to_sample = candidates.groupby(\"user_id\").filter(lambda x: x[\"target\"].sum() > 0)\n",
    "candidates_to_sample"
   ]
  },
  {
   "cell_type": "markdown",
   "id": "c5387418",
   "metadata": {},
   "source": [
    "см какая доля наблюдений получилась с таргетом 1"
   ]
  },
  {
   "cell_type": "code",
   "execution_count": 11,
   "id": "343d6715",
   "metadata": {},
   "outputs": [
    {
     "data": {
      "text/plain": [
       "target\n",
       "0.0    190318\n",
       "1.0     30532\n",
       "Name: user_id, dtype: int64"
      ]
     },
     "execution_count": 11,
     "metadata": {},
     "output_type": "execute_result"
    }
   ],
   "source": [
    "candidates_to_sample.groupby('target')['user_id'].count()"
   ]
  },
  {
   "cell_type": "markdown",
   "id": "1fb08118",
   "metadata": {},
   "source": [
    "стало лучше, продолжим"
   ]
  },
  {
   "cell_type": "code",
   "execution_count": 12,
   "id": "e74aa79b",
   "metadata": {},
   "outputs": [],
   "source": [
    "candidates_to_sample.loc[candidates_to_sample['target']==0,'target_negative']=1\n",
    "candidates_to_sample=candidates_to_sample.fillna(0)"
   ]
  },
  {
   "cell_type": "markdown",
   "id": "0233d671",
   "metadata": {},
   "source": [
    "в кандидатах оставляем только тех пользователей, у которых есть хотя бы 4 отрицательных таргета"
   ]
  },
  {
   "cell_type": "code",
   "execution_count": 13,
   "id": "418b2e3c",
   "metadata": {},
   "outputs": [
    {
     "data": {
      "text/html": [
       "<div>\n",
       "<style scoped>\n",
       "    .dataframe tbody tr th:only-of-type {\n",
       "        vertical-align: middle;\n",
       "    }\n",
       "\n",
       "    .dataframe tbody tr th {\n",
       "        vertical-align: top;\n",
       "    }\n",
       "\n",
       "    .dataframe thead th {\n",
       "        text-align: right;\n",
       "    }\n",
       "</style>\n",
       "<table border=\"1\" class=\"dataframe\">\n",
       "  <thead>\n",
       "    <tr style=\"text-align: right;\">\n",
       "      <th></th>\n",
       "      <th>user_id</th>\n",
       "      <th>track_id</th>\n",
       "      <th>als_score</th>\n",
       "      <th>pop_score</th>\n",
       "      <th>target</th>\n",
       "      <th>target_negative</th>\n",
       "    </tr>\n",
       "  </thead>\n",
       "  <tbody>\n",
       "    <tr>\n",
       "      <th>12</th>\n",
       "      <td>5</td>\n",
       "      <td>53404</td>\n",
       "      <td>0.427146</td>\n",
       "      <td>1.00</td>\n",
       "      <td>0.0</td>\n",
       "      <td>1.0</td>\n",
       "    </tr>\n",
       "    <tr>\n",
       "      <th>13</th>\n",
       "      <td>5</td>\n",
       "      <td>37384</td>\n",
       "      <td>0.370207</td>\n",
       "      <td>0.00</td>\n",
       "      <td>0.0</td>\n",
       "      <td>1.0</td>\n",
       "    </tr>\n",
       "    <tr>\n",
       "      <th>14</th>\n",
       "      <td>5</td>\n",
       "      <td>148345</td>\n",
       "      <td>0.341203</td>\n",
       "      <td>0.00</td>\n",
       "      <td>0.0</td>\n",
       "      <td>1.0</td>\n",
       "    </tr>\n",
       "    <tr>\n",
       "      <th>15</th>\n",
       "      <td>5</td>\n",
       "      <td>178529</td>\n",
       "      <td>0.328936</td>\n",
       "      <td>0.92</td>\n",
       "      <td>0.0</td>\n",
       "      <td>1.0</td>\n",
       "    </tr>\n",
       "    <tr>\n",
       "      <th>336</th>\n",
       "      <td>138</td>\n",
       "      <td>65851540</td>\n",
       "      <td>0.162286</td>\n",
       "      <td>0.00</td>\n",
       "      <td>0.0</td>\n",
       "      <td>1.0</td>\n",
       "    </tr>\n",
       "    <tr>\n",
       "      <th>...</th>\n",
       "      <td>...</td>\n",
       "      <td>...</td>\n",
       "      <td>...</td>\n",
       "      <td>...</td>\n",
       "      <td>...</td>\n",
       "      <td>...</td>\n",
       "    </tr>\n",
       "    <tr>\n",
       "      <th>5661096</th>\n",
       "      <td>1374573</td>\n",
       "      <td>53404</td>\n",
       "      <td>0.000000</td>\n",
       "      <td>1.00</td>\n",
       "      <td>0.0</td>\n",
       "      <td>1.0</td>\n",
       "    </tr>\n",
       "    <tr>\n",
       "      <th>5661097</th>\n",
       "      <td>1374573</td>\n",
       "      <td>178529</td>\n",
       "      <td>0.000000</td>\n",
       "      <td>0.92</td>\n",
       "      <td>0.0</td>\n",
       "      <td>1.0</td>\n",
       "    </tr>\n",
       "    <tr>\n",
       "      <th>5661098</th>\n",
       "      <td>1374573</td>\n",
       "      <td>33311009</td>\n",
       "      <td>0.000000</td>\n",
       "      <td>0.86</td>\n",
       "      <td>0.0</td>\n",
       "      <td>1.0</td>\n",
       "    </tr>\n",
       "    <tr>\n",
       "      <th>5661099</th>\n",
       "      <td>1374573</td>\n",
       "      <td>35505245</td>\n",
       "      <td>0.000000</td>\n",
       "      <td>0.86</td>\n",
       "      <td>0.0</td>\n",
       "      <td>1.0</td>\n",
       "    </tr>\n",
       "    <tr>\n",
       "      <th>5661100</th>\n",
       "      <td>1374573</td>\n",
       "      <td>795836</td>\n",
       "      <td>0.000000</td>\n",
       "      <td>0.74</td>\n",
       "      <td>0.0</td>\n",
       "      <td>1.0</td>\n",
       "    </tr>\n",
       "  </tbody>\n",
       "</table>\n",
       "<p>216852 rows × 6 columns</p>\n",
       "</div>"
      ],
      "text/plain": [
       "         user_id  track_id  als_score  pop_score  target  target_negative\n",
       "12             5     53404   0.427146       1.00     0.0              1.0\n",
       "13             5     37384   0.370207       0.00     0.0              1.0\n",
       "14             5    148345   0.341203       0.00     0.0              1.0\n",
       "15             5    178529   0.328936       0.92     0.0              1.0\n",
       "336          138  65851540   0.162286       0.00     0.0              1.0\n",
       "...          ...       ...        ...        ...     ...              ...\n",
       "5661096  1374573     53404   0.000000       1.00     0.0              1.0\n",
       "5661097  1374573    178529   0.000000       0.92     0.0              1.0\n",
       "5661098  1374573  33311009   0.000000       0.86     0.0              1.0\n",
       "5661099  1374573  35505245   0.000000       0.86     0.0              1.0\n",
       "5661100  1374573    795836   0.000000       0.74     0.0              1.0\n",
       "\n",
       "[216852 rows x 6 columns]"
      ]
     },
     "execution_count": 13,
     "metadata": {},
     "output_type": "execute_result"
    }
   ],
   "source": [
    "candidates_to_sample = candidates_to_sample.groupby(\"user_id\").filter(lambda x: x[\"target_negative\"].sum() >= 4)\n",
    "candidates_to_sample"
   ]
  },
  {
   "cell_type": "markdown",
   "id": "57b85a54",
   "metadata": {},
   "source": [
    "см какая доля наблюдений получилась с таргетом 1"
   ]
  },
  {
   "cell_type": "code",
   "execution_count": 14,
   "id": "0b80ca4c",
   "metadata": {},
   "outputs": [
    {
     "data": {
      "text/plain": [
       "target\n",
       "0.0    187404\n",
       "1.0     29448\n",
       "Name: user_id, dtype: int64"
      ]
     },
     "execution_count": 14,
     "metadata": {},
     "output_type": "execute_result"
    }
   ],
   "source": [
    "candidates_to_sample.groupby('target')['user_id'].count()"
   ]
  },
  {
   "cell_type": "code",
   "execution_count": null,
   "id": "fe651c7a",
   "metadata": {},
   "outputs": [
    {
     "data": {
      "text/html": [
       "<div>\n",
       "<style scoped>\n",
       "    .dataframe tbody tr th:only-of-type {\n",
       "        vertical-align: middle;\n",
       "    }\n",
       "\n",
       "    .dataframe tbody tr th {\n",
       "        vertical-align: top;\n",
       "    }\n",
       "\n",
       "    .dataframe thead th {\n",
       "        text-align: right;\n",
       "    }\n",
       "</style>\n",
       "<table border=\"1\" class=\"dataframe\">\n",
       "  <thead>\n",
       "    <tr style=\"text-align: right;\">\n",
       "      <th></th>\n",
       "      <th>user_id</th>\n",
       "      <th>track_id</th>\n",
       "    </tr>\n",
       "  </thead>\n",
       "  <tbody>\n",
       "    <tr>\n",
       "      <th>24382</th>\n",
       "      <td>1330405</td>\n",
       "      <td>4</td>\n",
       "    </tr>\n",
       "    <tr>\n",
       "      <th>12568</th>\n",
       "      <td>680686</td>\n",
       "      <td>4</td>\n",
       "    </tr>\n",
       "    <tr>\n",
       "      <th>12651</th>\n",
       "      <td>685752</td>\n",
       "      <td>4</td>\n",
       "    </tr>\n",
       "  </tbody>\n",
       "</table>\n",
       "</div>"
      ],
      "text/plain": [
       "       user_id  track_id\n",
       "24382  1330405         4\n",
       "12568   680686         4\n",
       "12651   685752         4"
      ]
     },
     "execution_count": 15,
     "metadata": {},
     "output_type": "execute_result"
    }
   ],
   "source": [
    "candidates_to_sample.query('target==0').groupby('user_id').agg({'track_id':'count'}).reset_index().sort_values(by='track_id').head(3)"
   ]
  },
  {
   "cell_type": "markdown",
   "id": "f8f7befa",
   "metadata": {},
   "source": [
    "смотрим пример пользователя"
   ]
  },
  {
   "cell_type": "code",
   "execution_count": 16,
   "id": "c0c2f721",
   "metadata": {},
   "outputs": [
    {
     "data": {
      "text/html": [
       "<div>\n",
       "<style scoped>\n",
       "    .dataframe tbody tr th:only-of-type {\n",
       "        vertical-align: middle;\n",
       "    }\n",
       "\n",
       "    .dataframe tbody tr th {\n",
       "        vertical-align: top;\n",
       "    }\n",
       "\n",
       "    .dataframe thead th {\n",
       "        text-align: right;\n",
       "    }\n",
       "</style>\n",
       "<table border=\"1\" class=\"dataframe\">\n",
       "  <thead>\n",
       "    <tr style=\"text-align: right;\">\n",
       "      <th></th>\n",
       "      <th>user_id</th>\n",
       "      <th>track_id</th>\n",
       "      <th>als_score</th>\n",
       "      <th>pop_score</th>\n",
       "      <th>target</th>\n",
       "      <th>target_negative</th>\n",
       "    </tr>\n",
       "  </thead>\n",
       "  <tbody>\n",
       "    <tr>\n",
       "      <th>242176</th>\n",
       "      <td>96983</td>\n",
       "      <td>3703085</td>\n",
       "      <td>0.273109</td>\n",
       "      <td>0.00</td>\n",
       "      <td>0.0</td>\n",
       "      <td>1.0</td>\n",
       "    </tr>\n",
       "    <tr>\n",
       "      <th>242177</th>\n",
       "      <td>96983</td>\n",
       "      <td>23559960</td>\n",
       "      <td>0.253887</td>\n",
       "      <td>0.00</td>\n",
       "      <td>0.0</td>\n",
       "      <td>1.0</td>\n",
       "    </tr>\n",
       "    <tr>\n",
       "      <th>242178</th>\n",
       "      <td>96983</td>\n",
       "      <td>19152669</td>\n",
       "      <td>0.249929</td>\n",
       "      <td>0.00</td>\n",
       "      <td>0.0</td>\n",
       "      <td>1.0</td>\n",
       "    </tr>\n",
       "    <tr>\n",
       "      <th>242179</th>\n",
       "      <td>96983</td>\n",
       "      <td>17079396</td>\n",
       "      <td>0.238618</td>\n",
       "      <td>0.00</td>\n",
       "      <td>0.0</td>\n",
       "      <td>1.0</td>\n",
       "    </tr>\n",
       "    <tr>\n",
       "      <th>3596149</th>\n",
       "      <td>96983</td>\n",
       "      <td>53404</td>\n",
       "      <td>0.000000</td>\n",
       "      <td>1.00</td>\n",
       "      <td>0.0</td>\n",
       "      <td>1.0</td>\n",
       "    </tr>\n",
       "    <tr>\n",
       "      <th>3596150</th>\n",
       "      <td>96983</td>\n",
       "      <td>178529</td>\n",
       "      <td>0.000000</td>\n",
       "      <td>0.92</td>\n",
       "      <td>0.0</td>\n",
       "      <td>1.0</td>\n",
       "    </tr>\n",
       "    <tr>\n",
       "      <th>3596151</th>\n",
       "      <td>96983</td>\n",
       "      <td>33311009</td>\n",
       "      <td>0.000000</td>\n",
       "      <td>0.86</td>\n",
       "      <td>1.0</td>\n",
       "      <td>0.0</td>\n",
       "    </tr>\n",
       "    <tr>\n",
       "      <th>3596152</th>\n",
       "      <td>96983</td>\n",
       "      <td>35505245</td>\n",
       "      <td>0.000000</td>\n",
       "      <td>0.86</td>\n",
       "      <td>0.0</td>\n",
       "      <td>1.0</td>\n",
       "    </tr>\n",
       "    <tr>\n",
       "      <th>3596153</th>\n",
       "      <td>96983</td>\n",
       "      <td>795836</td>\n",
       "      <td>0.000000</td>\n",
       "      <td>0.74</td>\n",
       "      <td>0.0</td>\n",
       "      <td>1.0</td>\n",
       "    </tr>\n",
       "  </tbody>\n",
       "</table>\n",
       "</div>"
      ],
      "text/plain": [
       "         user_id  track_id  als_score  pop_score  target  target_negative\n",
       "242176     96983   3703085   0.273109       0.00     0.0              1.0\n",
       "242177     96983  23559960   0.253887       0.00     0.0              1.0\n",
       "242178     96983  19152669   0.249929       0.00     0.0              1.0\n",
       "242179     96983  17079396   0.238618       0.00     0.0              1.0\n",
       "3596149    96983     53404   0.000000       1.00     0.0              1.0\n",
       "3596150    96983    178529   0.000000       0.92     0.0              1.0\n",
       "3596151    96983  33311009   0.000000       0.86     1.0              0.0\n",
       "3596152    96983  35505245   0.000000       0.86     0.0              1.0\n",
       "3596153    96983    795836   0.000000       0.74     0.0              1.0"
      ]
     },
     "execution_count": 16,
     "metadata": {},
     "output_type": "execute_result"
    }
   ],
   "source": [
    "candidates_to_sample[candidates_to_sample['user_id']==candidates_to_sample['user_id'].sample().iat[0]]"
   ]
  },
  {
   "cell_type": "markdown",
   "id": "063f47a5",
   "metadata": {},
   "source": [
    "Обучим модель ранжирования"
   ]
  },
  {
   "cell_type": "code",
   "execution_count": 17,
   "id": "eaf3cf4e",
   "metadata": {},
   "outputs": [
    {
     "name": "stdout",
     "output_type": "stream",
     "text": [
      "0:\tlearn: 0.6108839\ttotal: 130ms\tremaining: 1m 4s\n",
      "100:\tlearn: 0.3653285\ttotal: 2.56s\tremaining: 10.1s\n",
      "200:\tlearn: 0.3647530\ttotal: 5.77s\tremaining: 8.58s\n",
      "300:\tlearn: 0.3643892\ttotal: 8.28s\tremaining: 5.47s\n",
      "400:\tlearn: 0.3641383\ttotal: 10.6s\tremaining: 2.61s\n",
      "499:\tlearn: 0.3639332\ttotal: 12.7s\tremaining: 0us\n"
     ]
    },
    {
     "data": {
      "text/html": [
       "<div>\n",
       "<style scoped>\n",
       "    .dataframe tbody tr th:only-of-type {\n",
       "        vertical-align: middle;\n",
       "    }\n",
       "\n",
       "    .dataframe tbody tr th {\n",
       "        vertical-align: top;\n",
       "    }\n",
       "\n",
       "    .dataframe thead th {\n",
       "        text-align: right;\n",
       "    }\n",
       "</style>\n",
       "<table border=\"1\" class=\"dataframe\">\n",
       "  <thead>\n",
       "    <tr style=\"text-align: right;\">\n",
       "      <th></th>\n",
       "      <th>feature_importance</th>\n",
       "    </tr>\n",
       "  </thead>\n",
       "  <tbody>\n",
       "    <tr>\n",
       "      <th>pop_score</th>\n",
       "      <td>75.067923</td>\n",
       "    </tr>\n",
       "    <tr>\n",
       "      <th>als_score</th>\n",
       "      <td>24.932077</td>\n",
       "    </tr>\n",
       "  </tbody>\n",
       "</table>\n",
       "</div>"
      ],
      "text/plain": [
       "           feature_importance\n",
       "pop_score           75.067923\n",
       "als_score           24.932077"
      ]
     },
     "execution_count": 17,
     "metadata": {},
     "output_type": "execute_result"
    }
   ],
   "source": [
    "# задаём имена колонок признаков и таргета\n",
    "features = ['als_score', 'pop_score']\n",
    "target = 'target'\n",
    "\n",
    "\n",
    "# создаём Pool\n",
    "train_data = Pool(\n",
    "    data=candidates_to_sample[features], \n",
    "    label=candidates_to_sample[target])\n",
    "\n",
    "# инициализируем модель CatBoostClassifier\n",
    "cb_model = CatBoostClassifier(\n",
    "    iterations=500,\n",
    "    learning_rate=0.1,\n",
    "    depth=6,\n",
    "    loss_function='Logloss',\n",
    "    verbose=100,\n",
    "    random_seed=0,\n",
    ")\n",
    "\n",
    "# тренируем модель\n",
    "cb_model.fit(train_data)\n",
    "\n",
    "# Посмотрим на важность признаков построенной модели\n",
    "pd.DataFrame(\n",
    "    cb_model.get_feature_importance(), \n",
    "    index=features, \n",
    "    columns=['feature_importance']\n",
    ").sort_values(by='feature_importance', ascending=False)\n"
   ]
  },
  {
   "cell_type": "markdown",
   "id": "82d1f97e",
   "metadata": {},
   "source": [
    "сохраним модель"
   ]
  },
  {
   "cell_type": "code",
   "execution_count": 18,
   "id": "ab6a9d9a",
   "metadata": {},
   "outputs": [],
   "source": [
    "with open('models/cb_model.pkl', 'wb') as f:\n",
    "       pickle.dump(cb_model, f)"
   ]
  },
  {
   "cell_type": "code",
   "execution_count": 19,
   "id": "0b7c26e2",
   "metadata": {},
   "outputs": [],
   "source": [
    "with open('models/cb_model.pkl', 'rb') as f:\n",
    "    cb_model = pickle.load(f)"
   ]
  },
  {
   "cell_type": "code",
   "execution_count": 26,
   "id": "f377a614",
   "metadata": {},
   "outputs": [],
   "source": [
    "stage11_catboost_base=time.time()"
   ]
  },
  {
   "cell_type": "markdown",
   "id": "1315f020",
   "metadata": {},
   "source": [
    "# === часть 2.1 - прошло время - топ популярных ==="
   ]
  },
  {
   "cell_type": "markdown",
   "id": "c7d604d7",
   "metadata": {},
   "source": [
    "обернем в функцию, чтобы можно было переиспользовать многократно"
   ]
  },
  {
   "cell_type": "code",
   "execution_count": 20,
   "id": "96c0a750",
   "metadata": {},
   "outputs": [],
   "source": [
    "def popularity_score(df,df_rec,k):\n",
    "    #сортировка треков\n",
    "    item_popularity = df.groupby('track_id').agg(track_count=(\"user_id\",\"count\")).reset_index().sort_values(by='track_count',ascending=False)\n",
    "    #нормализация\n",
    "    x_min=item_popularity['track_count'].min()\n",
    "    x_max=item_popularity['track_count'].max()\n",
    "    item_popularity['score']=item_popularity['track_count'].apply(lambda x: (x-x_min)/(x_max-x_min))\n",
    "    top_k_pop_items=item_popularity[[\"track_id\",\"score\"]].head(k)\n",
    "    top_k_pop_items_names=top_k_pop_items.merge(items_,on='track_id',how='left')[['track_id','score','name']]\n",
    "    recom_top = (\n",
    "    df[['user_id']]\n",
    "    .drop_duplicates()\n",
    "    .reset_index(drop=True)\n",
    "    .merge(top_k_pop_items_names, how='cross')\n",
    "    .reset_index(drop=True))\n",
    "\n",
    "    return recom_top"
   ]
  },
  {
   "cell_type": "code",
   "execution_count": 30,
   "id": "1d9a08b9",
   "metadata": {},
   "outputs": [],
   "source": [
    "events_train2=pd.concat([events_train,events_catboost])"
   ]
  },
  {
   "cell_type": "markdown",
   "id": "22ab783f",
   "metadata": {},
   "source": [
    "Обновленные рекоммендации"
   ]
  },
  {
   "cell_type": "code",
   "execution_count": 22,
   "id": "1bd949e2",
   "metadata": {},
   "outputs": [
    {
     "data": {
      "text/html": [
       "<div>\n",
       "<style scoped>\n",
       "    .dataframe tbody tr th:only-of-type {\n",
       "        vertical-align: middle;\n",
       "    }\n",
       "\n",
       "    .dataframe tbody tr th {\n",
       "        vertical-align: top;\n",
       "    }\n",
       "\n",
       "    .dataframe thead th {\n",
       "        text-align: right;\n",
       "    }\n",
       "</style>\n",
       "<table border=\"1\" class=\"dataframe\">\n",
       "  <thead>\n",
       "    <tr style=\"text-align: right;\">\n",
       "      <th></th>\n",
       "      <th>user_id</th>\n",
       "      <th>track_id</th>\n",
       "      <th>score</th>\n",
       "      <th>name</th>\n",
       "    </tr>\n",
       "  </thead>\n",
       "  <tbody>\n",
       "    <tr>\n",
       "      <th>0</th>\n",
       "      <td>1</td>\n",
       "      <td>53404</td>\n",
       "      <td>1.000000</td>\n",
       "      <td>Smells Like Teen Spirit</td>\n",
       "    </tr>\n",
       "    <tr>\n",
       "      <th>1</th>\n",
       "      <td>1</td>\n",
       "      <td>178529</td>\n",
       "      <td>0.919056</td>\n",
       "      <td>Numb</td>\n",
       "    </tr>\n",
       "    <tr>\n",
       "      <th>2</th>\n",
       "      <td>1</td>\n",
       "      <td>33311009</td>\n",
       "      <td>0.918615</td>\n",
       "      <td>Believer</td>\n",
       "    </tr>\n",
       "    <tr>\n",
       "      <th>3</th>\n",
       "      <td>1</td>\n",
       "      <td>35505245</td>\n",
       "      <td>0.896165</td>\n",
       "      <td>I Got Love</td>\n",
       "    </tr>\n",
       "    <tr>\n",
       "      <th>4</th>\n",
       "      <td>1</td>\n",
       "      <td>24692821</td>\n",
       "      <td>0.761038</td>\n",
       "      <td>Way Down We Go</td>\n",
       "    </tr>\n",
       "    <tr>\n",
       "      <th>...</th>\n",
       "      <td>...</td>\n",
       "      <td>...</td>\n",
       "      <td>...</td>\n",
       "      <td>...</td>\n",
       "    </tr>\n",
       "    <tr>\n",
       "      <th>4233235</th>\n",
       "      <td>1374535</td>\n",
       "      <td>53404</td>\n",
       "      <td>1.000000</td>\n",
       "      <td>Smells Like Teen Spirit</td>\n",
       "    </tr>\n",
       "    <tr>\n",
       "      <th>4233236</th>\n",
       "      <td>1374535</td>\n",
       "      <td>178529</td>\n",
       "      <td>0.919056</td>\n",
       "      <td>Numb</td>\n",
       "    </tr>\n",
       "    <tr>\n",
       "      <th>4233237</th>\n",
       "      <td>1374535</td>\n",
       "      <td>33311009</td>\n",
       "      <td>0.918615</td>\n",
       "      <td>Believer</td>\n",
       "    </tr>\n",
       "    <tr>\n",
       "      <th>4233238</th>\n",
       "      <td>1374535</td>\n",
       "      <td>35505245</td>\n",
       "      <td>0.896165</td>\n",
       "      <td>I Got Love</td>\n",
       "    </tr>\n",
       "    <tr>\n",
       "      <th>4233239</th>\n",
       "      <td>1374535</td>\n",
       "      <td>24692821</td>\n",
       "      <td>0.761038</td>\n",
       "      <td>Way Down We Go</td>\n",
       "    </tr>\n",
       "  </tbody>\n",
       "</table>\n",
       "<p>4233240 rows × 4 columns</p>\n",
       "</div>"
      ],
      "text/plain": [
       "         user_id  track_id     score                     name\n",
       "0              1     53404  1.000000  Smells Like Teen Spirit\n",
       "1              1    178529  0.919056                     Numb\n",
       "2              1  33311009  0.918615                 Believer\n",
       "3              1  35505245  0.896165               I Got Love\n",
       "4              1  24692821  0.761038           Way Down We Go\n",
       "...          ...       ...       ...                      ...\n",
       "4233235  1374535     53404  1.000000  Smells Like Teen Spirit\n",
       "4233236  1374535    178529  0.919056                     Numb\n",
       "4233237  1374535  33311009  0.918615                 Believer\n",
       "4233238  1374535  35505245  0.896165               I Got Love\n",
       "4233239  1374535  24692821  0.761038           Way Down We Go\n",
       "\n",
       "[4233240 rows x 4 columns]"
      ]
     },
     "execution_count": 22,
     "metadata": {},
     "output_type": "execute_result"
    }
   ],
   "source": [
    "recom_top_2=popularity_score(events_train2,events_test,5)\n",
    "recom_top_2"
   ]
  },
  {
   "cell_type": "markdown",
   "id": "11f79edb",
   "metadata": {},
   "source": [
    "сохраняем"
   ]
  },
  {
   "cell_type": "code",
   "execution_count": 23,
   "id": "d31f8ec5",
   "metadata": {},
   "outputs": [],
   "source": [
    "recom_top_2.to_parquet(\"recs/top_popular_2.parquet\")"
   ]
  },
  {
   "cell_type": "code",
   "execution_count": 24,
   "id": "a4fc96d2",
   "metadata": {},
   "outputs": [],
   "source": [
    "stage12_for_catboost_pop=time.time()"
   ]
  },
  {
   "cell_type": "markdown",
   "id": "af9fc416",
   "metadata": {},
   "source": [
    "# === часть 2.2 - прошло время - персональные ==="
   ]
  },
  {
   "cell_type": "code",
   "execution_count": 25,
   "id": "d402e3a3",
   "metadata": {},
   "outputs": [],
   "source": [
    "# перекодируем идентификаторы пользователей: \n",
    "# из имеющихся в последовательность 0, 1, 2, ...\n",
    "user_encoder = sklearn.preprocessing.LabelEncoder()\n",
    "user_encoder.fit(events_[\"user_id\"])\n",
    "events_train2[\"user_id_enc\"] = user_encoder.transform(events_train2[\"user_id\"])"
   ]
  },
  {
   "cell_type": "code",
   "execution_count": 26,
   "id": "633671a9",
   "metadata": {},
   "outputs": [],
   "source": [
    "# перекодируем идентификаторы объектов: \n",
    "# из имеющихся в последовательность 0, 1, 2, ...\n",
    "item_encoder = sklearn.preprocessing.LabelEncoder()\n",
    "item_encoder.fit(items_[\"track_id\"])\n",
    "items_[\"track_id_enc\"] = item_encoder.transform(items_[\"track_id\"])\n",
    "events_train2[\"track_id_enc\"] = item_encoder.transform(events_train2[\"track_id\"])"
   ]
  },
  {
   "cell_type": "code",
   "execution_count": 27,
   "id": "5f035eb6",
   "metadata": {},
   "outputs": [
    {
     "data": {
      "text/plain": [
       "<Compressed Sparse Row sparse matrix of dtype 'int8'\n",
       "\twith 120586413 stored elements and shape (859810, 277894)>"
      ]
     },
     "execution_count": 27,
     "metadata": {},
     "output_type": "execute_result"
    }
   ],
   "source": [
    "# создаём sparse-матрицу формата CSR \n",
    "user_item_matrix_train = scipy.sparse.csr_matrix((\n",
    "    np.ones(len(events_train2)),\n",
    "    (events_train2['user_id_enc'], events_train2['track_id_enc'])),\n",
    "    dtype=np.int8)\n",
    "\n",
    "user_item_matrix_train #матрица пользователь треки"
   ]
  },
  {
   "cell_type": "code",
   "execution_count": 34,
   "id": "79914ab0",
   "metadata": {},
   "outputs": [
    {
     "name": "stderr",
     "output_type": "stream",
     "text": [
      "100%|██████████| 10/10 [04:58<00:00, 29.83s/it]\n"
     ]
    }
   ],
   "source": [
    "#получим рейтинги на основе коллаборативных фильтраций на основе ALS\n",
    "als_model_catboost = AlternatingLeastSquares(factors=50, iterations=10, regularization=0.05, random_state=0)\n",
    "als_model_catboost.fit(user_item_matrix_train) "
   ]
  },
  {
   "cell_type": "code",
   "execution_count": 35,
   "id": "f3f7b95a",
   "metadata": {},
   "outputs": [],
   "source": [
    "with open('models/als_model_catboost.pkl', 'wb') as f:\n",
    "       pickle.dump(als_model_catboost, f)"
   ]
  },
  {
   "cell_type": "code",
   "execution_count": 36,
   "id": "ca31cf9d",
   "metadata": {},
   "outputs": [],
   "source": [
    "with open('models/als_model_catboost.pkl', 'rb') as f:\n",
    "    als_model_catboost = pickle.load(f)"
   ]
  },
  {
   "cell_type": "code",
   "execution_count": 37,
   "id": "9e8cfd20",
   "metadata": {},
   "outputs": [
    {
     "data": {
      "text/plain": [
       "(array([[145053, 123611, 188826, 156065, 180915],\n",
       "        [137329, 176882, 129285, 186587, 200371],\n",
       "        [ 24689,  77153,  22026,  24192,  33079],\n",
       "        ...,\n",
       "        [176882, 157087, 137329, 186587, 200371],\n",
       "        [194009, 228482, 245620, 127079, 260225],\n",
       "        [236133, 176882, 200371, 232008, 157087]], dtype=int32),\n",
       " array([[0.06988708, 0.05462794, 0.03862946, 0.0367821 , 0.03508788],\n",
       "        [0.5196024 , 0.36777923, 0.33599138, 0.3090555 , 0.293888  ],\n",
       "        [0.28119165, 0.24771754, 0.24100915, 0.23371777, 0.20645238],\n",
       "        ...,\n",
       "        [1.2095659 , 0.9872819 , 0.9290532 , 0.92116743, 0.7023651 ],\n",
       "        [0.86659646, 0.8425016 , 0.7672883 , 0.7057351 , 0.6781691 ],\n",
       "        [0.30916846, 0.27507672, 0.24792488, 0.24782163, 0.2307976 ]],\n",
       "       dtype=float32))"
      ]
     },
     "execution_count": 37,
     "metadata": {},
     "output_type": "execute_result"
    }
   ],
   "source": [
    "#Получим рекомендации для всех имеющихся пользователей\n",
    "user_ids_encoded = range(len(user_encoder.classes_))\n",
    "user_ids_encoded\n",
    "\n",
    "# получаем рекомендации для всех пользователей\n",
    "als_recommendations = als_model_catboost.recommend(\n",
    "    user_ids_encoded, \n",
    "    user_item_matrix_train[user_ids_encoded], \n",
    "    filter_already_liked_items=False, N=5) \n",
    "\n",
    "als_recommendations\n"
   ]
  },
  {
   "cell_type": "code",
   "execution_count": 38,
   "id": "57ea77d4",
   "metadata": {},
   "outputs": [],
   "source": [
    "# преобразуем полученные рекомендации в табличный формат\n",
    "item_ids_enc = als_recommendations[0]\n",
    "als_scores = als_recommendations[1]\n",
    "\n",
    "als_recommendations = pd.DataFrame({\n",
    "    \"user_id_enc\": user_ids_encoded,\n",
    "    \"item_id_enc\": item_ids_enc.tolist(), \n",
    "    \"score\": als_scores.tolist()})\n",
    "als_recommendations = als_recommendations.explode([\"item_id_enc\", \"score\"], ignore_index=True)\n",
    "\n",
    "# приводим типы данных\n",
    "als_recommendations[\"item_id_enc\"] = als_recommendations[\"item_id_enc\"].astype(\"int\")\n",
    "als_recommendations[\"score\"] = als_recommendations[\"score\"].astype(\"float\")\n",
    "\n",
    "# получаем изначальные идентификаторы\n",
    "als_recommendations[\"user_id\"] = user_encoder.inverse_transform(als_recommendations[\"user_id_enc\"])\n",
    "als_recommendations[\"item_id\"] = item_encoder.inverse_transform(als_recommendations[\"item_id_enc\"])\n",
    "als_recommendations = als_recommendations.drop(columns=[\"user_id_enc\", \"item_id_enc\"])"
   ]
  },
  {
   "cell_type": "code",
   "execution_count": 39,
   "id": "1d689b8a",
   "metadata": {},
   "outputs": [
    {
     "data": {
      "text/html": [
       "<div>\n",
       "<style scoped>\n",
       "    .dataframe tbody tr th:only-of-type {\n",
       "        vertical-align: middle;\n",
       "    }\n",
       "\n",
       "    .dataframe tbody tr th {\n",
       "        vertical-align: top;\n",
       "    }\n",
       "\n",
       "    .dataframe thead th {\n",
       "        text-align: right;\n",
       "    }\n",
       "</style>\n",
       "<table border=\"1\" class=\"dataframe\">\n",
       "  <thead>\n",
       "    <tr style=\"text-align: right;\">\n",
       "      <th></th>\n",
       "      <th>score</th>\n",
       "      <th>user_id</th>\n",
       "      <th>track_id</th>\n",
       "    </tr>\n",
       "  </thead>\n",
       "  <tbody>\n",
       "    <tr>\n",
       "      <th>0</th>\n",
       "      <td>0.069887</td>\n",
       "      <td>1</td>\n",
       "      <td>37258117</td>\n",
       "    </tr>\n",
       "    <tr>\n",
       "      <th>1</th>\n",
       "      <td>0.054628</td>\n",
       "      <td>1</td>\n",
       "      <td>32291816</td>\n",
       "    </tr>\n",
       "    <tr>\n",
       "      <th>2</th>\n",
       "      <td>0.038629</td>\n",
       "      <td>1</td>\n",
       "      <td>50685843</td>\n",
       "    </tr>\n",
       "    <tr>\n",
       "      <th>3</th>\n",
       "      <td>0.036782</td>\n",
       "      <td>1</td>\n",
       "      <td>39632975</td>\n",
       "    </tr>\n",
       "    <tr>\n",
       "      <th>4</th>\n",
       "      <td>0.035088</td>\n",
       "      <td>1</td>\n",
       "      <td>47026428</td>\n",
       "    </tr>\n",
       "    <tr>\n",
       "      <th>...</th>\n",
       "      <td>...</td>\n",
       "      <td>...</td>\n",
       "      <td>...</td>\n",
       "    </tr>\n",
       "    <tr>\n",
       "      <th>4299045</th>\n",
       "      <td>0.309168</td>\n",
       "      <td>1374582</td>\n",
       "      <td>69459326</td>\n",
       "    </tr>\n",
       "    <tr>\n",
       "      <th>4299046</th>\n",
       "      <td>0.275077</td>\n",
       "      <td>1374582</td>\n",
       "      <td>45499814</td>\n",
       "    </tr>\n",
       "    <tr>\n",
       "      <th>4299047</th>\n",
       "      <td>0.247925</td>\n",
       "      <td>1374582</td>\n",
       "      <td>54798445</td>\n",
       "    </tr>\n",
       "    <tr>\n",
       "      <th>4299048</th>\n",
       "      <td>0.247822</td>\n",
       "      <td>1374582</td>\n",
       "      <td>67538121</td>\n",
       "    </tr>\n",
       "    <tr>\n",
       "      <th>4299049</th>\n",
       "      <td>0.230798</td>\n",
       "      <td>1374582</td>\n",
       "      <td>39946957</td>\n",
       "    </tr>\n",
       "  </tbody>\n",
       "</table>\n",
       "<p>4299050 rows × 3 columns</p>\n",
       "</div>"
      ],
      "text/plain": [
       "            score  user_id  track_id\n",
       "0        0.069887        1  37258117\n",
       "1        0.054628        1  32291816\n",
       "2        0.038629        1  50685843\n",
       "3        0.036782        1  39632975\n",
       "4        0.035088        1  47026428\n",
       "...           ...      ...       ...\n",
       "4299045  0.309168  1374582  69459326\n",
       "4299046  0.275077  1374582  45499814\n",
       "4299047  0.247925  1374582  54798445\n",
       "4299048  0.247822  1374582  67538121\n",
       "4299049  0.230798  1374582  39946957\n",
       "\n",
       "[4299050 rows x 3 columns]"
      ]
     },
     "execution_count": 39,
     "metadata": {},
     "output_type": "execute_result"
    }
   ],
   "source": [
    "als_recommendations=als_recommendations.rename(columns={'item_id':'track_id'})\n",
    "als_recommendations"
   ]
  },
  {
   "cell_type": "code",
   "execution_count": 40,
   "id": "90c79c53",
   "metadata": {},
   "outputs": [],
   "source": [
    "#сохраним рекомендации\n",
    "als_recommendations.to_parquet(\"recs/personal_als_2.parquet\")"
   ]
  },
  {
   "cell_type": "code",
   "execution_count": 46,
   "id": "2ae0bba4",
   "metadata": {},
   "outputs": [],
   "source": [
    "stage13_for_catboost_pers=time.time()"
   ]
  },
  {
   "cell_type": "markdown",
   "id": "3afbfb68",
   "metadata": {},
   "source": [
    "# === часть 3 - объединение и расчет рекоммендаций catboost ==="
   ]
  },
  {
   "cell_type": "code",
   "execution_count": 16,
   "id": "88076123",
   "metadata": {},
   "outputs": [],
   "source": [
    "#рекомендации для catboost\n",
    "popularity_recommendations_2 = pd.read_parquet(\"recs/top_popular_2.parquet\") \n",
    "als_recommendations_2 = pd.read_parquet(\"recs/personal_als_2.parquet\") "
   ]
  },
  {
   "cell_type": "code",
   "execution_count": 17,
   "id": "d85ed600",
   "metadata": {},
   "outputs": [],
   "source": [
    "candidates_to_rank = pd.merge(\n",
    "    als_recommendations_2[[\"user_id\", \"track_id\", \"score\"]].rename(columns={\"score\": \"als_score\"}),\n",
    "    popularity_recommendations_2[[\"user_id\", \"track_id\", \"score\"]].rename(columns={\"score\": \"pop_score\"}),\n",
    "    on=['user_id','track_id'],\n",
    "    how=\"outer\").fillna(0)"
   ]
  },
  {
   "cell_type": "code",
   "execution_count": 18,
   "id": "b1d5e16a",
   "metadata": {},
   "outputs": [
    {
     "name": "stdout",
     "output_type": "stream",
     "text": [
      "4568283\n"
     ]
    }
   ],
   "source": [
    "# оставляем только тех пользователей, что есть в тестовой выборке, для экономии ресурсов\n",
    "candidates_to_rank = candidates_to_rank[candidates_to_rank[\"user_id\"].isin(events_test[\"user_id\"].drop_duplicates())]\n",
    "print(len(candidates_to_rank)) "
   ]
  },
  {
   "cell_type": "code",
   "execution_count": 44,
   "id": "931d94fb",
   "metadata": {},
   "outputs": [],
   "source": [
    "inference_data = Pool(data=candidates_to_rank[features])\n",
    "predictions = cb_model.predict_proba(inference_data)\n",
    "\n",
    "candidates_to_rank[\"cb_score\"] = predictions[:, 1]\n",
    "\n",
    "candidates_to_rank = candidates_to_rank.sort_values([\"user_id\", \"cb_score\"], ascending=[True, False])"
   ]
  },
  {
   "cell_type": "code",
   "execution_count": 45,
   "id": "677a4211",
   "metadata": {},
   "outputs": [
    {
     "data": {
      "text/html": [
       "<div>\n",
       "<style scoped>\n",
       "    .dataframe tbody tr th:only-of-type {\n",
       "        vertical-align: middle;\n",
       "    }\n",
       "\n",
       "    .dataframe tbody tr th {\n",
       "        vertical-align: top;\n",
       "    }\n",
       "\n",
       "    .dataframe thead th {\n",
       "        text-align: right;\n",
       "    }\n",
       "</style>\n",
       "<table border=\"1\" class=\"dataframe\">\n",
       "  <thead>\n",
       "    <tr style=\"text-align: right;\">\n",
       "      <th></th>\n",
       "      <th>user_id</th>\n",
       "      <th>track_id</th>\n",
       "      <th>score</th>\n",
       "    </tr>\n",
       "  </thead>\n",
       "  <tbody>\n",
       "    <tr>\n",
       "      <th>9</th>\n",
       "      <td>3</td>\n",
       "      <td>54798445</td>\n",
       "      <td>0.16</td>\n",
       "    </tr>\n",
       "    <tr>\n",
       "      <th>8</th>\n",
       "      <td>3</td>\n",
       "      <td>49961817</td>\n",
       "      <td>0.16</td>\n",
       "    </tr>\n",
       "    <tr>\n",
       "      <th>6</th>\n",
       "      <td>3</td>\n",
       "      <td>45499814</td>\n",
       "      <td>0.11</td>\n",
       "    </tr>\n",
       "    <tr>\n",
       "      <th>14</th>\n",
       "      <td>4</td>\n",
       "      <td>1710810</td>\n",
       "      <td>0.19</td>\n",
       "    </tr>\n",
       "    <tr>\n",
       "      <th>12</th>\n",
       "      <td>4</td>\n",
       "      <td>647040</td>\n",
       "      <td>0.17</td>\n",
       "    </tr>\n",
       "    <tr>\n",
       "      <th>...</th>\n",
       "      <td>...</td>\n",
       "      <td>...</td>\n",
       "      <td>...</td>\n",
       "    </tr>\n",
       "    <tr>\n",
       "      <th>8042666</th>\n",
       "      <td>1374581</td>\n",
       "      <td>53404</td>\n",
       "      <td>0.09</td>\n",
       "    </tr>\n",
       "    <tr>\n",
       "      <th>4299042</th>\n",
       "      <td>1374581</td>\n",
       "      <td>73376988</td>\n",
       "      <td>0.09</td>\n",
       "    </tr>\n",
       "    <tr>\n",
       "      <th>4299049</th>\n",
       "      <td>1374582</td>\n",
       "      <td>39946957</td>\n",
       "      <td>0.20</td>\n",
       "    </tr>\n",
       "    <tr>\n",
       "      <th>4299046</th>\n",
       "      <td>1374582</td>\n",
       "      <td>45499814</td>\n",
       "      <td>0.17</td>\n",
       "    </tr>\n",
       "    <tr>\n",
       "      <th>4299045</th>\n",
       "      <td>1374582</td>\n",
       "      <td>69459326</td>\n",
       "      <td>0.16</td>\n",
       "    </tr>\n",
       "  </tbody>\n",
       "</table>\n",
       "<p>1451655 rows × 3 columns</p>\n",
       "</div>"
      ],
      "text/plain": [
       "         user_id  track_id  score\n",
       "9              3  54798445   0.16\n",
       "8              3  49961817   0.16\n",
       "6              3  45499814   0.11\n",
       "14             4   1710810   0.19\n",
       "12             4    647040   0.17\n",
       "...          ...       ...    ...\n",
       "8042666  1374581     53404   0.09\n",
       "4299042  1374581  73376988   0.09\n",
       "4299049  1374582  39946957   0.20\n",
       "4299046  1374582  45499814   0.17\n",
       "4299045  1374582  69459326   0.16\n",
       "\n",
       "[1451655 rows x 3 columns]"
      ]
     },
     "execution_count": 45,
     "metadata": {},
     "output_type": "execute_result"
    }
   ],
   "source": [
    "final_recommendations=candidates_to_rank.groupby('user_id').head(3).round(2)\n",
    "\n",
    "final_recommendations=final_recommendations[['user_id', 'track_id', 'cb_score']].rename(columns={'cb_score': 'score'})\n",
    "final_recommendations"
   ]
  },
  {
   "cell_type": "code",
   "execution_count": 46,
   "id": "4fa890e5",
   "metadata": {},
   "outputs": [],
   "source": [
    "final_recommendations.to_parquet(\"recs/recommendations_.parquet\")"
   ]
  },
  {
   "cell_type": "code",
   "execution_count": 185,
   "id": "78b1913b",
   "metadata": {},
   "outputs": [],
   "source": [
    "stage14_for_catboost_version2=time.time()"
   ]
  },
  {
   "cell_type": "markdown",
   "id": "0087a3e7-ca9f-42cd-944c-944222c1baef",
   "metadata": {},
   "source": [
    "# Построение признаков"
   ]
  },
  {
   "cell_type": "markdown",
   "id": "a247a102",
   "metadata": {},
   "source": []
  },
  {
   "cell_type": "markdown",
   "id": "5da13939",
   "metadata": {},
   "source": [
    "# - Генерация признаков"
   ]
  },
  {
   "cell_type": "markdown",
   "id": "eeb57dc2",
   "metadata": {},
   "source": [
    "# - Генерация признаков to_sample"
   ]
  },
  {
   "cell_type": "code",
   "execution_count": 20,
   "id": "b2afe959",
   "metadata": {},
   "outputs": [
    {
     "data": {
      "text/html": [
       "<div>\n",
       "<style scoped>\n",
       "    .dataframe tbody tr th:only-of-type {\n",
       "        vertical-align: middle;\n",
       "    }\n",
       "\n",
       "    .dataframe tbody tr th {\n",
       "        vertical-align: top;\n",
       "    }\n",
       "\n",
       "    .dataframe thead th {\n",
       "        text-align: right;\n",
       "    }\n",
       "</style>\n",
       "<table border=\"1\" class=\"dataframe\">\n",
       "  <thead>\n",
       "    <tr style=\"text-align: right;\">\n",
       "      <th></th>\n",
       "      <th>track_id</th>\n",
       "      <th>genres</th>\n",
       "      <th>name</th>\n",
       "      <th>names_of_albums_</th>\n",
       "      <th>names_of_artists</th>\n",
       "      <th>feature_genre_clean</th>\n",
       "      <th>feature_artist_clean</th>\n",
       "    </tr>\n",
       "  </thead>\n",
       "  <tbody>\n",
       "    <tr>\n",
       "      <th>58</th>\n",
       "      <td>1091</td>\n",
       "      <td>[74]</td>\n",
       "      <td>Don't Look Any Further</td>\n",
       "      <td>[Motown Love, True Motown / Spectrum 3 CD Set,...</td>\n",
       "      <td>[Dennis Edwards, Siedah Garrett]</td>\n",
       "      <td>1</td>\n",
       "      <td>0</td>\n",
       "    </tr>\n",
       "    <tr>\n",
       "      <th>83</th>\n",
       "      <td>1179</td>\n",
       "      <td>[44, 75]</td>\n",
       "      <td>Old Time's Sake</td>\n",
       "      <td>[Relapse, Relapse: Refill, Old Time's Sake fea...</td>\n",
       "      <td>[Eminem, Dr. Dre]</td>\n",
       "      <td>0</td>\n",
       "      <td>0</td>\n",
       "    </tr>\n",
       "    <tr>\n",
       "      <th>88</th>\n",
       "      <td>1185</td>\n",
       "      <td>[44, 75]</td>\n",
       "      <td>Crack A Bottle</td>\n",
       "      <td>[Relapse, Relapse: Refill, Relapse: Refill, Re...</td>\n",
       "      <td>[Eminem, Dr. Dre, 50 Cent]</td>\n",
       "      <td>0</td>\n",
       "      <td>0</td>\n",
       "    </tr>\n",
       "    <tr>\n",
       "      <th>91</th>\n",
       "      <td>1268</td>\n",
       "      <td>[44, 75]</td>\n",
       "      <td>Hero</td>\n",
       "      <td>[Hero, Hip Hop The Collection 2009, Nas, Hip T...</td>\n",
       "      <td>[Nas, Keri Hilson]</td>\n",
       "      <td>0</td>\n",
       "      <td>0</td>\n",
       "    </tr>\n",
       "    <tr>\n",
       "      <th>92</th>\n",
       "      <td>1277</td>\n",
       "      <td>[44, 75]</td>\n",
       "      <td>Scream</td>\n",
       "      <td>[In A Perfect World..., In A Perfect World...,...</td>\n",
       "      <td>[Timbaland, Keri Hilson, Nicole Scherzinger]</td>\n",
       "      <td>0</td>\n",
       "      <td>0</td>\n",
       "    </tr>\n",
       "  </tbody>\n",
       "</table>\n",
       "</div>"
      ],
      "text/plain": [
       "    track_id    genres                    name  \\\n",
       "58      1091      [74]  Don't Look Any Further   \n",
       "83      1179  [44, 75]         Old Time's Sake   \n",
       "88      1185  [44, 75]          Crack A Bottle   \n",
       "91      1268  [44, 75]                    Hero   \n",
       "92      1277  [44, 75]                  Scream   \n",
       "\n",
       "                                     names_of_albums_  \\\n",
       "58  [Motown Love, True Motown / Spectrum 3 CD Set,...   \n",
       "83  [Relapse, Relapse: Refill, Old Time's Sake fea...   \n",
       "88  [Relapse, Relapse: Refill, Relapse: Refill, Re...   \n",
       "91  [Hero, Hip Hop The Collection 2009, Nas, Hip T...   \n",
       "92  [In A Perfect World..., In A Perfect World...,...   \n",
       "\n",
       "                                names_of_artists  feature_genre_clean  \\\n",
       "58              [Dennis Edwards, Siedah Garrett]                    1   \n",
       "83                             [Eminem, Dr. Dre]                    0   \n",
       "88                    [Eminem, Dr. Dre, 50 Cent]                    0   \n",
       "91                            [Nas, Keri Hilson]                    0   \n",
       "92  [Timbaland, Keri Hilson, Nicole Scherzinger]                    0   \n",
       "\n",
       "    feature_artist_clean  \n",
       "58                     0  \n",
       "83                     0  \n",
       "88                     0  \n",
       "91                     0  \n",
       "92                     0  "
      ]
     },
     "execution_count": 20,
     "metadata": {},
     "output_type": "execute_result"
    }
   ],
   "source": [
    "#признаки объектов - жанр чистый/смешанный\n",
    "# - исполнитель 1/несколько\n",
    "#items_[items_['genres'].str.len()==1]\n",
    "items_['feature_genre_clean']=0\n",
    "items_.loc[items_['genres'].str.len()==1,'feature_genre_clean']=1\n",
    "items_.query('feature_genre_clean==1')\n",
    "\n",
    "items_['feature_artist_clean']=0\n",
    "items_.loc[items_['names_of_artists'].str.len()==1,'feature_artist_clean']=1\n",
    "items_.query('feature_artist_clean==0').head(5)"
   ]
  },
  {
   "cell_type": "code",
   "execution_count": 21,
   "id": "3f5b1e4d",
   "metadata": {},
   "outputs": [],
   "source": [
    "candidates_Y = candidates_to_sample.merge(\n",
    "    items_[['track_id','feature_genre_clean','feature_artist_clean']],  \n",
    "    on='track_id',\n",
    "    how='left'\n",
    ")"
   ]
  },
  {
   "cell_type": "code",
   "execution_count": 22,
   "id": "80e01556",
   "metadata": {},
   "outputs": [],
   "source": [
    "def get_user_features(events):\n",
    "    user_features=events.groupby('user_id').agg(\n",
    "        tracks_listened=('track_seq','nunique'),\n",
    "        month_start=('month','min')\n",
    "    )\n",
    "    return user_features"
   ]
  },
  {
   "cell_type": "code",
   "execution_count": 23,
   "id": "88b9e501",
   "metadata": {},
   "outputs": [],
   "source": [
    "user_features_for_train=get_user_features(events_train).reset_index()"
   ]
  },
  {
   "cell_type": "code",
   "execution_count": 24,
   "id": "bd291be1",
   "metadata": {},
   "outputs": [
    {
     "data": {
      "text/html": [
       "<div>\n",
       "<style scoped>\n",
       "    .dataframe tbody tr th:only-of-type {\n",
       "        vertical-align: middle;\n",
       "    }\n",
       "\n",
       "    .dataframe tbody tr th {\n",
       "        vertical-align: top;\n",
       "    }\n",
       "\n",
       "    .dataframe thead th {\n",
       "        text-align: right;\n",
       "    }\n",
       "</style>\n",
       "<table border=\"1\" class=\"dataframe\">\n",
       "  <thead>\n",
       "    <tr style=\"text-align: right;\">\n",
       "      <th></th>\n",
       "      <th>user_id</th>\n",
       "      <th>tracks_listened</th>\n",
       "      <th>month_start</th>\n",
       "      <th>months_in_service</th>\n",
       "    </tr>\n",
       "  </thead>\n",
       "  <tbody>\n",
       "    <tr>\n",
       "      <th>0</th>\n",
       "      <td>1</td>\n",
       "      <td>33</td>\n",
       "      <td>6</td>\n",
       "      <td>5</td>\n",
       "    </tr>\n",
       "    <tr>\n",
       "      <th>1</th>\n",
       "      <td>3</td>\n",
       "      <td>31</td>\n",
       "      <td>2</td>\n",
       "      <td>9</td>\n",
       "    </tr>\n",
       "    <tr>\n",
       "      <th>2</th>\n",
       "      <td>4</td>\n",
       "      <td>211</td>\n",
       "      <td>3</td>\n",
       "      <td>8</td>\n",
       "    </tr>\n",
       "    <tr>\n",
       "      <th>3</th>\n",
       "      <td>5</td>\n",
       "      <td>69</td>\n",
       "      <td>5</td>\n",
       "      <td>6</td>\n",
       "    </tr>\n",
       "    <tr>\n",
       "      <th>4</th>\n",
       "      <td>7</td>\n",
       "      <td>32</td>\n",
       "      <td>4</td>\n",
       "      <td>7</td>\n",
       "    </tr>\n",
       "    <tr>\n",
       "      <th>...</th>\n",
       "      <td>...</td>\n",
       "      <td>...</td>\n",
       "      <td>...</td>\n",
       "      <td>...</td>\n",
       "    </tr>\n",
       "    <tr>\n",
       "      <th>818445</th>\n",
       "      <td>1374573</td>\n",
       "      <td>27</td>\n",
       "      <td>11</td>\n",
       "      <td>0</td>\n",
       "    </tr>\n",
       "    <tr>\n",
       "      <th>818446</th>\n",
       "      <td>1374577</td>\n",
       "      <td>58</td>\n",
       "      <td>1</td>\n",
       "      <td>10</td>\n",
       "    </tr>\n",
       "    <tr>\n",
       "      <th>818447</th>\n",
       "      <td>1374580</td>\n",
       "      <td>272</td>\n",
       "      <td>3</td>\n",
       "      <td>8</td>\n",
       "    </tr>\n",
       "    <tr>\n",
       "      <th>818448</th>\n",
       "      <td>1374581</td>\n",
       "      <td>448</td>\n",
       "      <td>4</td>\n",
       "      <td>7</td>\n",
       "    </tr>\n",
       "    <tr>\n",
       "      <th>818449</th>\n",
       "      <td>1374582</td>\n",
       "      <td>129</td>\n",
       "      <td>11</td>\n",
       "      <td>0</td>\n",
       "    </tr>\n",
       "  </tbody>\n",
       "</table>\n",
       "<p>818450 rows × 4 columns</p>\n",
       "</div>"
      ],
      "text/plain": [
       "        user_id  tracks_listened  month_start  months_in_service\n",
       "0             1               33            6                  5\n",
       "1             3               31            2                  9\n",
       "2             4              211            3                  8\n",
       "3             5               69            5                  6\n",
       "4             7               32            4                  7\n",
       "...         ...              ...          ...                ...\n",
       "818445  1374573               27           11                  0\n",
       "818446  1374577               58            1                 10\n",
       "818447  1374580              272            3                  8\n",
       "818448  1374581              448            4                  7\n",
       "818449  1374582              129           11                  0\n",
       "\n",
       "[818450 rows x 4 columns]"
      ]
     },
     "execution_count": 24,
     "metadata": {},
     "output_type": "execute_result"
    }
   ],
   "source": [
    "user_features_for_train['months_in_service']=user_features_for_train['month_start'].apply(lambda x: 11-x)\n",
    "\n",
    "user_features_for_train"
   ]
  },
  {
   "cell_type": "code",
   "execution_count": 25,
   "id": "8c64418f",
   "metadata": {},
   "outputs": [],
   "source": [
    "candidates_Y = candidates_Y.merge(\n",
    "    user_features_for_train[['user_id','tracks_listened','months_in_service']],  \n",
    "    on='user_id',\n",
    "    how='left'\n",
    ")"
   ]
  },
  {
   "cell_type": "code",
   "execution_count": 26,
   "id": "ee254a23",
   "metadata": {},
   "outputs": [
    {
     "data": {
      "text/html": [
       "<div>\n",
       "<style scoped>\n",
       "    .dataframe tbody tr th:only-of-type {\n",
       "        vertical-align: middle;\n",
       "    }\n",
       "\n",
       "    .dataframe tbody tr th {\n",
       "        vertical-align: top;\n",
       "    }\n",
       "\n",
       "    .dataframe thead th {\n",
       "        text-align: right;\n",
       "    }\n",
       "</style>\n",
       "<table border=\"1\" class=\"dataframe\">\n",
       "  <thead>\n",
       "    <tr style=\"text-align: right;\">\n",
       "      <th></th>\n",
       "      <th>user_id</th>\n",
       "      <th>track_id</th>\n",
       "      <th>als_score</th>\n",
       "      <th>pop_score</th>\n",
       "      <th>target</th>\n",
       "      <th>target_negative</th>\n",
       "      <th>feature_genre_clean</th>\n",
       "      <th>feature_artist_clean</th>\n",
       "      <th>tracks_listened</th>\n",
       "      <th>months_in_service</th>\n",
       "    </tr>\n",
       "  </thead>\n",
       "  <tbody>\n",
       "    <tr>\n",
       "      <th>0</th>\n",
       "      <td>5</td>\n",
       "      <td>53404</td>\n",
       "      <td>0.427146</td>\n",
       "      <td>1.00</td>\n",
       "      <td>0.0</td>\n",
       "      <td>1.0</td>\n",
       "      <td>0</td>\n",
       "      <td>1</td>\n",
       "      <td>69.0</td>\n",
       "      <td>6.0</td>\n",
       "    </tr>\n",
       "    <tr>\n",
       "      <th>1</th>\n",
       "      <td>5</td>\n",
       "      <td>37384</td>\n",
       "      <td>0.370207</td>\n",
       "      <td>0.00</td>\n",
       "      <td>0.0</td>\n",
       "      <td>1.0</td>\n",
       "      <td>0</td>\n",
       "      <td>1</td>\n",
       "      <td>69.0</td>\n",
       "      <td>6.0</td>\n",
       "    </tr>\n",
       "    <tr>\n",
       "      <th>2</th>\n",
       "      <td>5</td>\n",
       "      <td>148345</td>\n",
       "      <td>0.341203</td>\n",
       "      <td>0.00</td>\n",
       "      <td>0.0</td>\n",
       "      <td>1.0</td>\n",
       "      <td>0</td>\n",
       "      <td>1</td>\n",
       "      <td>69.0</td>\n",
       "      <td>6.0</td>\n",
       "    </tr>\n",
       "    <tr>\n",
       "      <th>3</th>\n",
       "      <td>5</td>\n",
       "      <td>178529</td>\n",
       "      <td>0.328936</td>\n",
       "      <td>0.92</td>\n",
       "      <td>0.0</td>\n",
       "      <td>1.0</td>\n",
       "      <td>0</td>\n",
       "      <td>1</td>\n",
       "      <td>69.0</td>\n",
       "      <td>6.0</td>\n",
       "    </tr>\n",
       "    <tr>\n",
       "      <th>4</th>\n",
       "      <td>138</td>\n",
       "      <td>65851540</td>\n",
       "      <td>0.162286</td>\n",
       "      <td>0.00</td>\n",
       "      <td>0.0</td>\n",
       "      <td>1.0</td>\n",
       "      <td>0</td>\n",
       "      <td>1</td>\n",
       "      <td>25.0</td>\n",
       "      <td>1.0</td>\n",
       "    </tr>\n",
       "  </tbody>\n",
       "</table>\n",
       "</div>"
      ],
      "text/plain": [
       "   user_id  track_id  als_score  pop_score  target  target_negative  \\\n",
       "0        5     53404   0.427146       1.00     0.0              1.0   \n",
       "1        5     37384   0.370207       0.00     0.0              1.0   \n",
       "2        5    148345   0.341203       0.00     0.0              1.0   \n",
       "3        5    178529   0.328936       0.92     0.0              1.0   \n",
       "4      138  65851540   0.162286       0.00     0.0              1.0   \n",
       "\n",
       "   feature_genre_clean  feature_artist_clean  tracks_listened  \\\n",
       "0                    0                     1             69.0   \n",
       "1                    0                     1             69.0   \n",
       "2                    0                     1             69.0   \n",
       "3                    0                     1             69.0   \n",
       "4                    0                     1             25.0   \n",
       "\n",
       "   months_in_service  \n",
       "0                6.0  \n",
       "1                6.0  \n",
       "2                6.0  \n",
       "3                6.0  \n",
       "4                1.0  "
      ]
     },
     "execution_count": 26,
     "metadata": {},
     "output_type": "execute_result"
    }
   ],
   "source": [
    "candidates_Y.head(5)"
   ]
  },
  {
   "cell_type": "code",
   "execution_count": 54,
   "id": "d2a7bba3",
   "metadata": {},
   "outputs": [
    {
     "data": {
      "text/html": [
       "<div>\n",
       "<style scoped>\n",
       "    .dataframe tbody tr th:only-of-type {\n",
       "        vertical-align: middle;\n",
       "    }\n",
       "\n",
       "    .dataframe tbody tr th {\n",
       "        vertical-align: top;\n",
       "    }\n",
       "\n",
       "    .dataframe thead th {\n",
       "        text-align: right;\n",
       "    }\n",
       "</style>\n",
       "<table border=\"1\" class=\"dataframe\">\n",
       "  <thead>\n",
       "    <tr style=\"text-align: right;\">\n",
       "      <th></th>\n",
       "      <th>user_id</th>\n",
       "    </tr>\n",
       "    <tr>\n",
       "      <th>target</th>\n",
       "      <th></th>\n",
       "    </tr>\n",
       "  </thead>\n",
       "  <tbody>\n",
       "    <tr>\n",
       "      <th>0.0</th>\n",
       "      <td>187404</td>\n",
       "    </tr>\n",
       "    <tr>\n",
       "      <th>1.0</th>\n",
       "      <td>29448</td>\n",
       "    </tr>\n",
       "  </tbody>\n",
       "</table>\n",
       "</div>"
      ],
      "text/plain": [
       "        user_id\n",
       "target         \n",
       "0.0      187404\n",
       "1.0       29448"
      ]
     },
     "execution_count": 54,
     "metadata": {},
     "output_type": "execute_result"
    }
   ],
   "source": [
    "candidates_Y.groupby('target').agg({'user_id':'count'})"
   ]
  },
  {
   "cell_type": "markdown",
   "id": "489004db",
   "metadata": {},
   "source": [
    "# - Расчет модели с доп признаками"
   ]
  },
  {
   "cell_type": "markdown",
   "id": "c0eb872b",
   "metadata": {},
   "source": []
  },
  {
   "cell_type": "code",
   "execution_count": 55,
   "id": "9a846384",
   "metadata": {},
   "outputs": [
    {
     "name": "stdout",
     "output_type": "stream",
     "text": [
      "0:\tlearn: 0.5881243\ttotal: 22ms\tremaining: 11s\n",
      "100:\tlearn: 0.3292295\ttotal: 2.19s\tremaining: 8.67s\n",
      "200:\tlearn: 0.3274441\ttotal: 4.66s\tremaining: 6.93s\n",
      "300:\tlearn: 0.3261083\ttotal: 7.16s\tremaining: 4.74s\n",
      "400:\tlearn: 0.3248323\ttotal: 9.48s\tremaining: 2.34s\n",
      "499:\tlearn: 0.3237770\ttotal: 11.6s\tremaining: 0us\n"
     ]
    },
    {
     "data": {
      "text/html": [
       "<div>\n",
       "<style scoped>\n",
       "    .dataframe tbody tr th:only-of-type {\n",
       "        vertical-align: middle;\n",
       "    }\n",
       "\n",
       "    .dataframe tbody tr th {\n",
       "        vertical-align: top;\n",
       "    }\n",
       "\n",
       "    .dataframe thead th {\n",
       "        text-align: right;\n",
       "    }\n",
       "</style>\n",
       "<table border=\"1\" class=\"dataframe\">\n",
       "  <thead>\n",
       "    <tr style=\"text-align: right;\">\n",
       "      <th></th>\n",
       "      <th>feature_importance</th>\n",
       "    </tr>\n",
       "  </thead>\n",
       "  <tbody>\n",
       "    <tr>\n",
       "      <th>pop_score</th>\n",
       "      <td>49.331688</td>\n",
       "    </tr>\n",
       "    <tr>\n",
       "      <th>months_in_service</th>\n",
       "      <td>26.223122</td>\n",
       "    </tr>\n",
       "    <tr>\n",
       "      <th>tracks_listened</th>\n",
       "      <td>15.123409</td>\n",
       "    </tr>\n",
       "    <tr>\n",
       "      <th>als_score</th>\n",
       "      <td>5.938107</td>\n",
       "    </tr>\n",
       "    <tr>\n",
       "      <th>feature_genre_clean</th>\n",
       "      <td>2.640073</td>\n",
       "    </tr>\n",
       "    <tr>\n",
       "      <th>feature_artist_clean</th>\n",
       "      <td>0.743602</td>\n",
       "    </tr>\n",
       "  </tbody>\n",
       "</table>\n",
       "</div>"
      ],
      "text/plain": [
       "                      feature_importance\n",
       "pop_score                      49.331688\n",
       "months_in_service              26.223122\n",
       "tracks_listened                15.123409\n",
       "als_score                       5.938107\n",
       "feature_genre_clean             2.640073\n",
       "feature_artist_clean            0.743602"
      ]
     },
     "execution_count": 55,
     "metadata": {},
     "output_type": "execute_result"
    }
   ],
   "source": [
    "#обучение модели\n",
    "\n",
    "# задаём имена колонок признаков и таргета\n",
    "features = ['als_score', 'pop_score','feature_genre_clean',\t'feature_artist_clean','tracks_listened','months_in_service']\n",
    "target = 'target'\n",
    "\n",
    "\n",
    "# создаём Pool\n",
    "train_data = Pool(\n",
    "    data=candidates_Y[features],  #candidates_Y\n",
    "    label=candidates_Y[target])   #candidates_Y\n",
    "\n",
    "# инициализируем модель CatBoostClassifier\n",
    "cb_model = CatBoostClassifier(\n",
    "    iterations=500,\n",
    "    learning_rate=0.1,\n",
    "    depth=6,\n",
    "    loss_function='Logloss',\n",
    "    verbose=100,\n",
    "    random_seed=0,\n",
    ")\n",
    "\n",
    "# тренируем модель\n",
    "cb_model.fit(train_data)\n",
    "\n",
    "# Посмотрим на важность признаков построенной модели\n",
    "pd.DataFrame(\n",
    "    cb_model.get_feature_importance(), \n",
    "    index=features, \n",
    "    columns=['feature_importance']\n",
    ").sort_values(by='feature_importance', ascending=False)\n"
   ]
  },
  {
   "cell_type": "markdown",
   "id": "ec9adda6",
   "metadata": {},
   "source": [
    "сохраняем ранжирующую модель с доп признаками"
   ]
  },
  {
   "cell_type": "code",
   "execution_count": 56,
   "id": "bae5e151",
   "metadata": {},
   "outputs": [],
   "source": [
    "with open('models/cb_model_final.pkl', 'wb') as f:\n",
    "       pickle.dump(cb_model, f)"
   ]
  },
  {
   "cell_type": "code",
   "execution_count": 19,
   "id": "552e8548",
   "metadata": {},
   "outputs": [],
   "source": [
    "with open('models/cb_model_final.pkl', 'rb') as f:\n",
    "    cb_model = pickle.load(f)"
   ]
  },
  {
   "cell_type": "markdown",
   "id": "56164db7",
   "metadata": {},
   "source": [
    "# - Генерация признаков to_rank для расчета финальных рекомендаций"
   ]
  },
  {
   "cell_type": "code",
   "execution_count": 27,
   "id": "9eeff433",
   "metadata": {},
   "outputs": [],
   "source": [
    "candidates_to_rank_Y = candidates_to_rank.merge(\n",
    "    items_[['track_id','feature_genre_clean','feature_artist_clean']],  \n",
    "    on='track_id',\n",
    "    how='left'\n",
    ")"
   ]
  },
  {
   "cell_type": "code",
   "execution_count": 29,
   "id": "339962dd",
   "metadata": {},
   "outputs": [
    {
     "data": {
      "text/html": [
       "<div>\n",
       "<style scoped>\n",
       "    .dataframe tbody tr th:only-of-type {\n",
       "        vertical-align: middle;\n",
       "    }\n",
       "\n",
       "    .dataframe tbody tr th {\n",
       "        vertical-align: top;\n",
       "    }\n",
       "\n",
       "    .dataframe thead th {\n",
       "        text-align: right;\n",
       "    }\n",
       "</style>\n",
       "<table border=\"1\" class=\"dataframe\">\n",
       "  <thead>\n",
       "    <tr style=\"text-align: right;\">\n",
       "      <th></th>\n",
       "      <th>user_id</th>\n",
       "      <th>track_id</th>\n",
       "      <th>als_score</th>\n",
       "      <th>pop_score</th>\n",
       "      <th>feature_genre_clean</th>\n",
       "      <th>feature_artist_clean</th>\n",
       "    </tr>\n",
       "  </thead>\n",
       "  <tbody>\n",
       "    <tr>\n",
       "      <th>625243</th>\n",
       "      <td>354675</td>\n",
       "      <td>32476894</td>\n",
       "      <td>0.741701</td>\n",
       "      <td>0.000000</td>\n",
       "      <td>0</td>\n",
       "      <td>1</td>\n",
       "    </tr>\n",
       "    <tr>\n",
       "      <th>971772</th>\n",
       "      <td>551349</td>\n",
       "      <td>6705392</td>\n",
       "      <td>0.553686</td>\n",
       "      <td>0.000000</td>\n",
       "      <td>1</td>\n",
       "      <td>1</td>\n",
       "    </tr>\n",
       "    <tr>\n",
       "      <th>3581528</th>\n",
       "      <td>790021</td>\n",
       "      <td>178529</td>\n",
       "      <td>0.000000</td>\n",
       "      <td>0.919056</td>\n",
       "      <td>0</td>\n",
       "      <td>1</td>\n",
       "    </tr>\n",
       "  </tbody>\n",
       "</table>\n",
       "</div>"
      ],
      "text/plain": [
       "         user_id  track_id  als_score  pop_score  feature_genre_clean  \\\n",
       "625243    354675  32476894   0.741701   0.000000                    0   \n",
       "971772    551349   6705392   0.553686   0.000000                    1   \n",
       "3581528   790021    178529   0.000000   0.919056                    0   \n",
       "\n",
       "         feature_artist_clean  \n",
       "625243                      1  \n",
       "971772                      1  \n",
       "3581528                     1  "
      ]
     },
     "execution_count": 29,
     "metadata": {},
     "output_type": "execute_result"
    }
   ],
   "source": [
    "candidates_to_rank_Y.sample(3)"
   ]
  },
  {
   "cell_type": "code",
   "execution_count": 31,
   "id": "4bf84e49",
   "metadata": {},
   "outputs": [],
   "source": [
    "user_features_for_train2=get_user_features(events_train2).reset_index()"
   ]
  },
  {
   "cell_type": "code",
   "execution_count": 32,
   "id": "6a23ca3a",
   "metadata": {},
   "outputs": [
    {
     "data": {
      "text/html": [
       "<div>\n",
       "<style scoped>\n",
       "    .dataframe tbody tr th:only-of-type {\n",
       "        vertical-align: middle;\n",
       "    }\n",
       "\n",
       "    .dataframe tbody tr th {\n",
       "        vertical-align: top;\n",
       "    }\n",
       "\n",
       "    .dataframe thead th {\n",
       "        text-align: right;\n",
       "    }\n",
       "</style>\n",
       "<table border=\"1\" class=\"dataframe\">\n",
       "  <thead>\n",
       "    <tr style=\"text-align: right;\">\n",
       "      <th></th>\n",
       "      <th>user_id</th>\n",
       "      <th>tracks_listened</th>\n",
       "      <th>month_start</th>\n",
       "      <th>months_in_service</th>\n",
       "    </tr>\n",
       "  </thead>\n",
       "  <tbody>\n",
       "    <tr>\n",
       "      <th>0</th>\n",
       "      <td>1</td>\n",
       "      <td>33</td>\n",
       "      <td>6</td>\n",
       "      <td>6</td>\n",
       "    </tr>\n",
       "    <tr>\n",
       "      <th>1</th>\n",
       "      <td>3</td>\n",
       "      <td>32</td>\n",
       "      <td>2</td>\n",
       "      <td>10</td>\n",
       "    </tr>\n",
       "    <tr>\n",
       "      <th>2</th>\n",
       "      <td>4</td>\n",
       "      <td>223</td>\n",
       "      <td>3</td>\n",
       "      <td>9</td>\n",
       "    </tr>\n",
       "    <tr>\n",
       "      <th>3</th>\n",
       "      <td>5</td>\n",
       "      <td>72</td>\n",
       "      <td>5</td>\n",
       "      <td>7</td>\n",
       "    </tr>\n",
       "    <tr>\n",
       "      <th>4</th>\n",
       "      <td>7</td>\n",
       "      <td>38</td>\n",
       "      <td>4</td>\n",
       "      <td>8</td>\n",
       "    </tr>\n",
       "    <tr>\n",
       "      <th>...</th>\n",
       "      <td>...</td>\n",
       "      <td>...</td>\n",
       "      <td>...</td>\n",
       "      <td>...</td>\n",
       "    </tr>\n",
       "    <tr>\n",
       "      <th>846643</th>\n",
       "      <td>1374573</td>\n",
       "      <td>47</td>\n",
       "      <td>11</td>\n",
       "      <td>1</td>\n",
       "    </tr>\n",
       "    <tr>\n",
       "      <th>846644</th>\n",
       "      <td>1374577</td>\n",
       "      <td>58</td>\n",
       "      <td>1</td>\n",
       "      <td>11</td>\n",
       "    </tr>\n",
       "    <tr>\n",
       "      <th>846645</th>\n",
       "      <td>1374580</td>\n",
       "      <td>272</td>\n",
       "      <td>3</td>\n",
       "      <td>9</td>\n",
       "    </tr>\n",
       "    <tr>\n",
       "      <th>846646</th>\n",
       "      <td>1374581</td>\n",
       "      <td>483</td>\n",
       "      <td>4</td>\n",
       "      <td>8</td>\n",
       "    </tr>\n",
       "    <tr>\n",
       "      <th>846647</th>\n",
       "      <td>1374582</td>\n",
       "      <td>203</td>\n",
       "      <td>11</td>\n",
       "      <td>1</td>\n",
       "    </tr>\n",
       "  </tbody>\n",
       "</table>\n",
       "<p>846648 rows × 4 columns</p>\n",
       "</div>"
      ],
      "text/plain": [
       "        user_id  tracks_listened  month_start  months_in_service\n",
       "0             1               33            6                  6\n",
       "1             3               32            2                 10\n",
       "2             4              223            3                  9\n",
       "3             5               72            5                  7\n",
       "4             7               38            4                  8\n",
       "...         ...              ...          ...                ...\n",
       "846643  1374573               47           11                  1\n",
       "846644  1374577               58            1                 11\n",
       "846645  1374580              272            3                  9\n",
       "846646  1374581              483            4                  8\n",
       "846647  1374582              203           11                  1\n",
       "\n",
       "[846648 rows x 4 columns]"
      ]
     },
     "execution_count": 32,
     "metadata": {},
     "output_type": "execute_result"
    }
   ],
   "source": [
    "user_features_for_train2['months_in_service']=user_features_for_train2['month_start'].apply(lambda x: 12-x)\n",
    "\n",
    "user_features_for_train2"
   ]
  },
  {
   "cell_type": "code",
   "execution_count": 33,
   "id": "8e33bd82",
   "metadata": {},
   "outputs": [],
   "source": [
    "candidates_to_rank_Y = candidates_to_rank_Y.merge(\n",
    "    user_features_for_train2[['user_id','tracks_listened','months_in_service']],   \n",
    "    on='user_id',\n",
    "    how='left'\n",
    ")"
   ]
  },
  {
   "cell_type": "code",
   "execution_count": 35,
   "id": "72dc19c2",
   "metadata": {},
   "outputs": [
    {
     "data": {
      "text/html": [
       "<div>\n",
       "<style scoped>\n",
       "    .dataframe tbody tr th:only-of-type {\n",
       "        vertical-align: middle;\n",
       "    }\n",
       "\n",
       "    .dataframe tbody tr th {\n",
       "        vertical-align: top;\n",
       "    }\n",
       "\n",
       "    .dataframe thead th {\n",
       "        text-align: right;\n",
       "    }\n",
       "</style>\n",
       "<table border=\"1\" class=\"dataframe\">\n",
       "  <thead>\n",
       "    <tr style=\"text-align: right;\">\n",
       "      <th></th>\n",
       "      <th>user_id</th>\n",
       "      <th>track_id</th>\n",
       "      <th>als_score</th>\n",
       "      <th>pop_score</th>\n",
       "      <th>feature_genre_clean</th>\n",
       "      <th>feature_artist_clean</th>\n",
       "      <th>tracks_listened</th>\n",
       "      <th>months_in_service</th>\n",
       "    </tr>\n",
       "  </thead>\n",
       "  <tbody>\n",
       "    <tr>\n",
       "      <th>4185449</th>\n",
       "      <td>1201307</td>\n",
       "      <td>35505245</td>\n",
       "      <td>0.000000</td>\n",
       "      <td>0.896165</td>\n",
       "      <td>0</td>\n",
       "      <td>0</td>\n",
       "      <td>91.0</td>\n",
       "      <td>7.0</td>\n",
       "    </tr>\n",
       "    <tr>\n",
       "      <th>2197648</th>\n",
       "      <td>1248591</td>\n",
       "      <td>50684233</td>\n",
       "      <td>0.742291</td>\n",
       "      <td>0.000000</td>\n",
       "      <td>0</td>\n",
       "      <td>1</td>\n",
       "      <td>248.0</td>\n",
       "      <td>8.0</td>\n",
       "    </tr>\n",
       "    <tr>\n",
       "      <th>1834106</th>\n",
       "      <td>1043189</td>\n",
       "      <td>39946957</td>\n",
       "      <td>0.223312</td>\n",
       "      <td>0.000000</td>\n",
       "      <td>0</td>\n",
       "      <td>1</td>\n",
       "      <td>80.0</td>\n",
       "      <td>4.0</td>\n",
       "    </tr>\n",
       "  </tbody>\n",
       "</table>\n",
       "</div>"
      ],
      "text/plain": [
       "         user_id  track_id  als_score  pop_score  feature_genre_clean  \\\n",
       "4185449  1201307  35505245   0.000000   0.896165                    0   \n",
       "2197648  1248591  50684233   0.742291   0.000000                    0   \n",
       "1834106  1043189  39946957   0.223312   0.000000                    0   \n",
       "\n",
       "         feature_artist_clean  tracks_listened  months_in_service  \n",
       "4185449                     0             91.0                7.0  \n",
       "2197648                     1            248.0                8.0  \n",
       "1834106                     1             80.0                4.0  "
      ]
     },
     "execution_count": 35,
     "metadata": {},
     "output_type": "execute_result"
    }
   ],
   "source": [
    "candidates_to_rank_Y.sample(3)"
   ]
  },
  {
   "cell_type": "markdown",
   "id": "96fb3b8e",
   "metadata": {},
   "source": [
    "# - Расчет финальных рекомендаций"
   ]
  },
  {
   "cell_type": "code",
   "execution_count": 37,
   "id": "de00dae2",
   "metadata": {},
   "outputs": [],
   "source": [
    "features = ['als_score', 'pop_score','feature_genre_clean',\t'feature_artist_clean','tracks_listened','months_in_service']"
   ]
  },
  {
   "cell_type": "code",
   "execution_count": 38,
   "id": "076303da",
   "metadata": {},
   "outputs": [],
   "source": [
    "inference_data_Y = Pool(data=candidates_to_rank_Y[features])\n",
    "predictions_Y = cb_model.predict_proba(inference_data_Y)\n",
    "\n",
    "candidates_to_rank_Y[\"cb_score\"] = predictions_Y[:, 1]\n",
    "\n",
    "candidates_to_rank_Y = candidates_to_rank_Y.sort_values([\"user_id\", \"cb_score\"], ascending=[True, False])"
   ]
  },
  {
   "cell_type": "code",
   "execution_count": 40,
   "id": "cbb62508",
   "metadata": {},
   "outputs": [
    {
     "data": {
      "text/html": [
       "<div>\n",
       "<style scoped>\n",
       "    .dataframe tbody tr th:only-of-type {\n",
       "        vertical-align: middle;\n",
       "    }\n",
       "\n",
       "    .dataframe tbody tr th {\n",
       "        vertical-align: top;\n",
       "    }\n",
       "\n",
       "    .dataframe thead th {\n",
       "        text-align: right;\n",
       "    }\n",
       "</style>\n",
       "<table border=\"1\" class=\"dataframe\">\n",
       "  <thead>\n",
       "    <tr style=\"text-align: right;\">\n",
       "      <th></th>\n",
       "      <th>user_id</th>\n",
       "      <th>track_id</th>\n",
       "      <th>score</th>\n",
       "    </tr>\n",
       "  </thead>\n",
       "  <tbody>\n",
       "    <tr>\n",
       "      <th>4</th>\n",
       "      <td>3</td>\n",
       "      <td>54798445</td>\n",
       "      <td>0.14</td>\n",
       "    </tr>\n",
       "    <tr>\n",
       "      <th>3</th>\n",
       "      <td>3</td>\n",
       "      <td>49961817</td>\n",
       "      <td>0.14</td>\n",
       "    </tr>\n",
       "    <tr>\n",
       "      <th>1</th>\n",
       "      <td>3</td>\n",
       "      <td>45499814</td>\n",
       "      <td>0.03</td>\n",
       "    </tr>\n",
       "    <tr>\n",
       "      <th>6</th>\n",
       "      <td>4</td>\n",
       "      <td>18820599</td>\n",
       "      <td>0.33</td>\n",
       "    </tr>\n",
       "    <tr>\n",
       "      <th>7</th>\n",
       "      <td>4</td>\n",
       "      <td>647040</td>\n",
       "      <td>0.31</td>\n",
       "    </tr>\n",
       "    <tr>\n",
       "      <th>...</th>\n",
       "      <td>...</td>\n",
       "      <td>...</td>\n",
       "      <td>...</td>\n",
       "    </tr>\n",
       "    <tr>\n",
       "      <th>2419416</th>\n",
       "      <td>1374581</td>\n",
       "      <td>65851540</td>\n",
       "      <td>0.10</td>\n",
       "    </tr>\n",
       "    <tr>\n",
       "      <th>2419415</th>\n",
       "      <td>1374581</td>\n",
       "      <td>52380688</td>\n",
       "      <td>0.10</td>\n",
       "    </tr>\n",
       "    <tr>\n",
       "      <th>2419424</th>\n",
       "      <td>1374582</td>\n",
       "      <td>39946957</td>\n",
       "      <td>0.23</td>\n",
       "    </tr>\n",
       "    <tr>\n",
       "      <th>2419422</th>\n",
       "      <td>1374582</td>\n",
       "      <td>54798445</td>\n",
       "      <td>0.21</td>\n",
       "    </tr>\n",
       "    <tr>\n",
       "      <th>2419423</th>\n",
       "      <td>1374582</td>\n",
       "      <td>67538121</td>\n",
       "      <td>0.21</td>\n",
       "    </tr>\n",
       "  </tbody>\n",
       "</table>\n",
       "<p>1451655 rows × 3 columns</p>\n",
       "</div>"
      ],
      "text/plain": [
       "         user_id  track_id  score\n",
       "4              3  54798445   0.14\n",
       "3              3  49961817   0.14\n",
       "1              3  45499814   0.03\n",
       "6              4  18820599   0.33\n",
       "7              4    647040   0.31\n",
       "...          ...       ...    ...\n",
       "2419416  1374581  65851540   0.10\n",
       "2419415  1374581  52380688   0.10\n",
       "2419424  1374582  39946957   0.23\n",
       "2419422  1374582  54798445   0.21\n",
       "2419423  1374582  67538121   0.21\n",
       "\n",
       "[1451655 rows x 3 columns]"
      ]
     },
     "execution_count": 40,
     "metadata": {},
     "output_type": "execute_result"
    }
   ],
   "source": [
    "final_recommendations_Y=candidates_to_rank_Y.groupby('user_id').head(3).round(2)\n",
    "\n",
    "final_recommendations_Y=final_recommendations_Y[['user_id', 'track_id', 'cb_score']].rename(columns={'cb_score': 'score'})\n",
    "final_recommendations_Y"
   ]
  },
  {
   "cell_type": "code",
   "execution_count": 54,
   "id": "ea5203a1",
   "metadata": {},
   "outputs": [],
   "source": [
    "final_recommendations_Y.to_parquet(\"recs/recommendations.parquet\")"
   ]
  },
  {
   "cell_type": "code",
   "execution_count": 43,
   "id": "f0cdb596",
   "metadata": {},
   "outputs": [],
   "source": [
    "stage15_for_catboost_features=time.time()"
   ]
  },
  {
   "cell_type": "markdown",
   "id": "b3c84071-45b5-4a15-a683-e0ab034a3128",
   "metadata": {},
   "source": [
    "# Оценка качества"
   ]
  },
  {
   "cell_type": "code",
   "execution_count": 44,
   "id": "348283d9",
   "metadata": {},
   "outputs": [],
   "source": [
    "#Офлайн-метрики\n",
    "\n",
    "def precision_recall_metrics(events_test, recs, top_k=None):\n",
    "\n",
    "    \"\"\"\n",
    "    размечает пары <user_id, item_id> для общего множества пользователей признаками\n",
    "    - gt (ground truth)\n",
    "    - pr (prediction)\n",
    "    top_k: расчёт ведётся только для top k-рекомендаций\n",
    "    \"\"\"\n",
    "    # отмечаем события 'ground truth'\n",
    "    events_test[\"gt\"] = True\n",
    "    \n",
    "    common_users = (\n",
    "        set(events_test[\"user_id\"].drop_duplicates())\n",
    "        & set(recs[\"user_id\"].drop_duplicates())\n",
    "    )\n",
    "    events_for_common_users = events_test[events_test[\"user_id\"].isin(common_users)].copy()\n",
    "    \n",
    "    #рекомендации\n",
    "    recs_for_common_users = recs[recs[\"user_id\"].isin(common_users)].copy()\n",
    "\n",
    "    recs_for_common_users = recs_for_common_users.sort_values([\"user_id\", \"score\"], ascending=[True, False])\n",
    "\n",
    "    # в теории мы оставляли только те item_id, которые были в events_train, но в данном случаем нет уверенности что  так нужно делать.\n",
    "    \n",
    "    #events_for_common_users = events_for_common_users[events_for_common_users[\"item_id\"].isin(events_train[\"item_id\"].unique())]\n",
    "\n",
    "    # выбираем только top_k рекомендаций для юзера\n",
    "    if top_k is not None:\n",
    "        recs_for_common_users = recs_for_common_users.groupby(\"user_id\").head(top_k)\n",
    "        \n",
    "    # объеденяем тестовую выборку и рекомендации\n",
    "    events_recs_common = events_for_common_users[[\"user_id\", \"track_id\", \"gt\"]].merge(\n",
    "        recs_for_common_users[[\"user_id\", \"track_id\", \"score\"]], \n",
    "        on=[\"user_id\", \"track_id\"], how=\"outer\"\n",
    "    )    \n",
    "    \n",
    "    # помечаем нерелевантные'ground truth'\n",
    "    events_recs_common[\"gt\"] = events_recs_common[\"gt\"].fillna(False)\n",
    "\n",
    "    # если есть score отмечаем событие как 'pr'\n",
    "    events_recs_common[\"pr\"] = ~events_recs_common[\"score\"].isnull()\n",
    "    \n",
    "    events_recs_common[\"tp\"] = events_recs_common[\"gt\"] & events_recs_common[\"pr\"]\n",
    "    events_recs_common[\"fp\"] = ~events_recs_common[\"gt\"] & events_recs_common[\"pr\"]\n",
    "    events_recs_common[\"fn\"] = events_recs_common[\"gt\"] & ~events_recs_common[\"pr\"]\n",
    "\n",
    "    groupper = events_recs_common.groupby(\"user_id\")\n",
    "\n",
    "    # precision = tp / (tp + fp)\n",
    "    precision = groupper[\"tp\"].sum()/(groupper[\"tp\"].sum()+groupper[\"fp\"].sum())\n",
    "    precision = precision.fillna(0).mean()\n",
    "    precision = round(precision, 4)*100\n",
    "    \n",
    "    # recall = tp / (tp + fn)\n",
    "    recall = groupper[\"tp\"].sum() / (groupper[\"tp\"].sum() + groupper[\"fn\"].sum())\n",
    "    recall = recall.fillna(0).mean()\n",
    "    recall = round(recall, 4)*100\n",
    "\n",
    "    return precision, recall"
   ]
  },
  {
   "cell_type": "code",
   "execution_count": 45,
   "id": "b01090d4",
   "metadata": {},
   "outputs": [],
   "source": [
    "def coverage_metric(recs, items):\n",
    "    \"\"\"\n",
    "    расчитывает покрытие рекомендациями по объектам\n",
    "    \"\"\"\n",
    "    get_item_coverage = recs['track_id'].nunique() / len(items)\n",
    "    get_item_coverage = round(get_item_coverage, 4)*100\n",
    "    \n",
    "    return get_item_coverage"
   ]
  },
  {
   "cell_type": "code",
   "execution_count": 46,
   "id": "6c45cafb",
   "metadata": {},
   "outputs": [],
   "source": [
    "def novelty_metric(recs, events_train, top_k):\n",
    "    \"\"\"\n",
    "    Расчет вероятности предложения пользователю объекты, которые он ранее не видел.\n",
    "    Novelty@k = ∣recommended@k∣ / ∣unknown@k∣\n",
    "    \"\"\"\n",
    "    # оставляем tok_k рекомендаций.\n",
    "    top_recs = (\n",
    "        recs\n",
    "        .sort_values(by=['user_id', 'score'], ascending=[True, False],\n",
    "                     ignore_index=True)\n",
    "        .groupby('user_id')\n",
    "        .head(top_k)\n",
    "        .reset_index(drop=True)\n",
    "        .copy()\n",
    "    )\n",
    "\n",
    "    # оставляем пользователей и треки которые присутствуют в топе рекомендаций\n",
    "    events_train = (\n",
    "        events_train[\n",
    "            events_train['user_id'].isin(top_recs['user_id'])\n",
    "            & events_train['track_id'].isin(top_recs['track_id'])\n",
    "        ]\n",
    "        [['user_id', 'track_id']]\n",
    "        .reset_index(drop=True)\n",
    "        .copy()\n",
    "    )\n",
    "\n",
    "    # разметим каждую события признаком unknown\n",
    "    events_train['unknown'] = False\n",
    "\n",
    "    # добавим  'unknown' к таблице рекомендаций\n",
    "    top_recs = top_recs.merge(\n",
    "        events_train[['user_id', 'track_id', 'unknown']],\n",
    "        on=['user_id', 'track_id'],\n",
    "        how='left'\n",
    "    )\n",
    "    top_recs['unknown'] = top_recs['unknown'].fillna(True).astype('bool')\n",
    "    novelty = top_recs.groupby('user_id')['unknown'].mean().mean() \n",
    "    novelty = round(novelty, 4)*100\n",
    "\n",
    "    return novelty"
   ]
  },
  {
   "cell_type": "code",
   "execution_count": 47,
   "id": "c7075f5d",
   "metadata": {},
   "outputs": [],
   "source": [
    "def combined_metrics(\n",
    "  recs,\n",
    "  items, \n",
    "  events_train,\n",
    "  events_test,\n",
    "  top_k):\n",
    "    \"\"\"\n",
    "    Комбинирует метрики покрытия и новизны в один DataFrame.\n",
    "    \n",
    "    :param recks: DataFrame рекомендаций\n",
    "    :param items: DataFrame с объектами\n",
    "    :param events_train: DataFrame с прошлым событиями\n",
    "    :param top_k: количество верхних рекомендаций\n",
    "    :return: DataFrame с метриками\n",
    "    \"\"\"\n",
    "    precision, recall = precision_recall_metrics(events_test, recs, top_k)\n",
    "    coverage = coverage_metric(recs, items)\n",
    "    novelty = novelty_metric(recs, events_train, top_k)\n",
    "    \n",
    "    \n",
    "    metrics_df = pd.DataFrame({\n",
    "        'Metric': ['Precision', 'Recall', 'Coverage', 'Novelty'],\n",
    "        'Value': [precision, recall, coverage, novelty]\n",
    "    })\n",
    "\n",
    "    return metrics_df"
   ]
  },
  {
   "cell_type": "markdown",
   "id": "8aca855a",
   "metadata": {},
   "source": [
    "Посчитаем combined metrics для разных сценариев"
   ]
  },
  {
   "cell_type": "code",
   "execution_count": 49,
   "id": "cd798ee0",
   "metadata": {},
   "outputs": [],
   "source": [
    "recom_top=pd.read_parquet(\"recs/top_popular.parquet\") \n",
    "top_pop_metrics = combined_metrics(recom_top, items_, events_train, events_test, 5)"
   ]
  },
  {
   "cell_type": "code",
   "execution_count": 51,
   "id": "d608066a",
   "metadata": {},
   "outputs": [],
   "source": [
    "als_recommendations=pd.read_parquet(\"recs/personal_als.parquet\") \n",
    "als_metrics=combined_metrics(als_recommendations, items_, events_train, events_test, 5)"
   ]
  },
  {
   "cell_type": "code",
   "execution_count": 53,
   "id": "0e4feb2a",
   "metadata": {},
   "outputs": [
    {
     "data": {
      "text/html": [
       "<div>\n",
       "<style scoped>\n",
       "    .dataframe tbody tr th:only-of-type {\n",
       "        vertical-align: middle;\n",
       "    }\n",
       "\n",
       "    .dataframe tbody tr th {\n",
       "        vertical-align: top;\n",
       "    }\n",
       "\n",
       "    .dataframe thead th {\n",
       "        text-align: right;\n",
       "    }\n",
       "</style>\n",
       "<table border=\"1\" class=\"dataframe\">\n",
       "  <thead>\n",
       "    <tr style=\"text-align: right;\">\n",
       "      <th></th>\n",
       "      <th>Metric</th>\n",
       "      <th>Value</th>\n",
       "    </tr>\n",
       "  </thead>\n",
       "  <tbody>\n",
       "    <tr>\n",
       "      <th>0</th>\n",
       "      <td>Precision</td>\n",
       "      <td>0.71</td>\n",
       "    </tr>\n",
       "    <tr>\n",
       "      <th>1</th>\n",
       "      <td>Recall</td>\n",
       "      <td>0.17</td>\n",
       "    </tr>\n",
       "    <tr>\n",
       "      <th>2</th>\n",
       "      <td>Coverage</td>\n",
       "      <td>0.45</td>\n",
       "    </tr>\n",
       "    <tr>\n",
       "      <th>3</th>\n",
       "      <td>Novelty</td>\n",
       "      <td>60.51</td>\n",
       "    </tr>\n",
       "  </tbody>\n",
       "</table>\n",
       "</div>"
      ],
      "text/plain": [
       "      Metric  Value\n",
       "0  Precision   0.71\n",
       "1     Recall   0.17\n",
       "2   Coverage   0.45\n",
       "3    Novelty  60.51"
      ]
     },
     "execution_count": 53,
     "metadata": {},
     "output_type": "execute_result"
    }
   ],
   "source": [
    "final_recommendations=pd.read_parquet(\"recs/recommendations_.parquet\")\n",
    "final_metrics=combined_metrics(final_recommendations, items_, events_train2, events_test, 5)"
   ]
  },
  {
   "cell_type": "code",
   "execution_count": 56,
   "id": "6e969f45",
   "metadata": {},
   "outputs": [],
   "source": [
    "final_recommendations_Y.to_parquet(\"recs/recommendations.parquet\")\n",
    "final_metrics_y=combined_metrics(final_recommendations_Y, items_, events_train2, events_test, 5)"
   ]
  },
  {
   "cell_type": "code",
   "execution_count": 57,
   "id": "07f1c779",
   "metadata": {},
   "outputs": [
    {
     "data": {
      "text/html": [
       "<div>\n",
       "<style scoped>\n",
       "    .dataframe tbody tr th:only-of-type {\n",
       "        vertical-align: middle;\n",
       "    }\n",
       "\n",
       "    .dataframe tbody tr th {\n",
       "        vertical-align: top;\n",
       "    }\n",
       "\n",
       "    .dataframe thead th {\n",
       "        text-align: right;\n",
       "    }\n",
       "</style>\n",
       "<table border=\"1\" class=\"dataframe\">\n",
       "  <thead>\n",
       "    <tr style=\"text-align: right;\">\n",
       "      <th></th>\n",
       "      <th>Metric</th>\n",
       "      <th>popular</th>\n",
       "      <th>ALS</th>\n",
       "      <th>final</th>\n",
       "    </tr>\n",
       "  </thead>\n",
       "  <tbody>\n",
       "    <tr>\n",
       "      <th>0</th>\n",
       "      <td>Precision</td>\n",
       "      <td>0.40</td>\n",
       "      <td>0.12</td>\n",
       "      <td>0.71</td>\n",
       "    </tr>\n",
       "    <tr>\n",
       "      <th>1</th>\n",
       "      <td>Recall</td>\n",
       "      <td>0.09</td>\n",
       "      <td>0.07</td>\n",
       "      <td>0.17</td>\n",
       "    </tr>\n",
       "    <tr>\n",
       "      <th>2</th>\n",
       "      <td>Coverage</td>\n",
       "      <td>0.00</td>\n",
       "      <td>0.37</td>\n",
       "      <td>0.45</td>\n",
       "    </tr>\n",
       "    <tr>\n",
       "      <th>3</th>\n",
       "      <td>Novelty</td>\n",
       "      <td>92.17</td>\n",
       "      <td>57.45</td>\n",
       "      <td>60.51</td>\n",
       "    </tr>\n",
       "  </tbody>\n",
       "</table>\n",
       "</div>"
      ],
      "text/plain": [
       "      Metric  popular    ALS  final\n",
       "0  Precision     0.40   0.12   0.71\n",
       "1     Recall     0.09   0.07   0.17\n",
       "2   Coverage     0.00   0.37   0.45\n",
       "3    Novelty    92.17  57.45  60.51"
      ]
     },
     "execution_count": 57,
     "metadata": {},
     "output_type": "execute_result"
    }
   ],
   "source": [
    "df_metric=top_pop_metrics.merge(als_metrics,on='Metric',how='left').merge(final_metrics,on='Metric',how='left')\n",
    "df_metric=df_metric.rename(columns={'Value_x':'popular','Value_y':'ALS','Value':'final'})\n",
    "df_metric"
   ]
  },
  {
   "cell_type": "code",
   "execution_count": 59,
   "id": "e8c902b5",
   "metadata": {},
   "outputs": [
    {
     "data": {
      "text/html": [
       "<div>\n",
       "<style scoped>\n",
       "    .dataframe tbody tr th:only-of-type {\n",
       "        vertical-align: middle;\n",
       "    }\n",
       "\n",
       "    .dataframe tbody tr th {\n",
       "        vertical-align: top;\n",
       "    }\n",
       "\n",
       "    .dataframe thead th {\n",
       "        text-align: right;\n",
       "    }\n",
       "</style>\n",
       "<table border=\"1\" class=\"dataframe\">\n",
       "  <thead>\n",
       "    <tr style=\"text-align: right;\">\n",
       "      <th></th>\n",
       "      <th>Metric</th>\n",
       "      <th>popular</th>\n",
       "      <th>ALS</th>\n",
       "      <th>final</th>\n",
       "      <th>final_features</th>\n",
       "    </tr>\n",
       "  </thead>\n",
       "  <tbody>\n",
       "    <tr>\n",
       "      <th>0</th>\n",
       "      <td>Precision</td>\n",
       "      <td>0.40</td>\n",
       "      <td>0.12</td>\n",
       "      <td>0.71</td>\n",
       "      <td>0.71</td>\n",
       "    </tr>\n",
       "    <tr>\n",
       "      <th>1</th>\n",
       "      <td>Recall</td>\n",
       "      <td>0.09</td>\n",
       "      <td>0.07</td>\n",
       "      <td>0.17</td>\n",
       "      <td>0.18</td>\n",
       "    </tr>\n",
       "    <tr>\n",
       "      <th>2</th>\n",
       "      <td>Coverage</td>\n",
       "      <td>0.00</td>\n",
       "      <td>0.37</td>\n",
       "      <td>0.45</td>\n",
       "      <td>0.45</td>\n",
       "    </tr>\n",
       "    <tr>\n",
       "      <th>3</th>\n",
       "      <td>Novelty</td>\n",
       "      <td>92.17</td>\n",
       "      <td>57.45</td>\n",
       "      <td>60.51</td>\n",
       "      <td>56.70</td>\n",
       "    </tr>\n",
       "  </tbody>\n",
       "</table>\n",
       "</div>"
      ],
      "text/plain": [
       "      Metric  popular    ALS  final  final_features\n",
       "0  Precision     0.40   0.12   0.71            0.71\n",
       "1     Recall     0.09   0.07   0.17            0.18\n",
       "2   Coverage     0.00   0.37   0.45            0.45\n",
       "3    Novelty    92.17  57.45  60.51           56.70"
      ]
     },
     "execution_count": 59,
     "metadata": {},
     "output_type": "execute_result"
    }
   ],
   "source": [
    "df_metric=df_metric.merge(final_metrics_y,on='Metric',how='left')\n",
    "df_metric.rename(columns={'Value':'final_features'})"
   ]
  },
  {
   "cell_type": "code",
   "execution_count": 227,
   "id": "d9a24619",
   "metadata": {},
   "outputs": [
    {
     "data": {
      "text/plain": [
       "1179.510305404663"
      ]
     },
     "execution_count": 227,
     "metadata": {},
     "output_type": "execute_result"
    }
   ],
   "source": [
    "end_time = time.time()\n",
    "start_time\n",
    "processing_time = end_time - start_time\n",
    "processing_time"
   ]
  },
  {
   "cell_type": "markdown",
   "id": "8e5fb1c4",
   "metadata": {},
   "source": [
    "# === Выводы, метрики ==="
   ]
  },
  {
   "cell_type": "markdown",
   "id": "bad76d2e",
   "metadata": {},
   "source": [
    "Основные выводы при работе над расчётом рекомендаций, рассчитанные метрики."
   ]
  },
  {
   "cell_type": "markdown",
   "id": "cee95c21",
   "metadata": {},
   "source": [
    " - лучшие показатели у ранжирующей модели с доп признаками, можно создавать сервис рекомендаций\n",
    " - при этом доп признаки дают незначительный вклад, возможно в следующих версиях надо генерить еще\n",
    " - возможно в следующих версиях стоит ввести пороги - не стоит давать рекомендацию пользователю если score низкий"
   ]
  }
 ],
 "metadata": {
  "kernelspec": {
   "display_name": ".venv_sprint4",
   "language": "python",
   "name": ".venv_sprint4"
  },
  "language_info": {
   "codemirror_mode": {
    "name": "ipython",
    "version": 3
   },
   "file_extension": ".py",
   "mimetype": "text/x-python",
   "name": "python",
   "nbconvert_exporter": "python",
   "pygments_lexer": "ipython3",
   "version": "3.10.12"
  }
 },
 "nbformat": 4,
 "nbformat_minor": 5
}
